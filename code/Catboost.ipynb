{
 "cells": [
  {
   "cell_type": "code",
   "execution_count": 1,
   "id": "fleet-motion",
   "metadata": {},
   "outputs": [],
   "source": [
    "import pandas as pd\n",
    "import numpy as np\n",
    "import sys\n",
    "import os\n",
    "import nltk\n",
    "import gensim\n",
    "import csv\n",
    "import re\n",
    "import pickle as pkl\n",
    "import string\n",
    "\n",
    "from sklearn import svm\n",
    "from sklearn.model_selection import train_test_split, GridSearchCV\n",
    "from sklearn.feature_extraction import DictVectorizer\n",
    "from sklearn.feature_extraction.text import TfidfVectorizer\n",
    "from sklearn.preprocessing import LabelEncoder\n",
    "from sklearn.metrics import confusion_matrix, roc_curve, classification_report, accuracy_score, f1_score, precision_score, recall_score\n",
    "from sklearn.tree import DecisionTreeClassifier\n",
    "\n",
    "from nltk.stem import WordNetLemmatizer\n",
    "from nltk.tokenize import word_tokenize\n",
    "from nltk.corpus import stopwords\n",
    "\n",
    "from spacy.lang.nl import Dutch\n",
    "import nl_bertje\n",
    "\n",
    "from collections import Counter\n",
    "\n",
    "import plotly\n",
    "\n",
    "from platform import python_version\n",
    "\n",
    "from catboost import CatBoostClassifier, Pool\n",
    "from sklearn.model_selection import train_test_split, KFold, StratifiedKFold\n",
    "\n",
    "import matplotlib.pyplot as plt\n",
    "import seaborn as sns\n",
    "import plotly.figure_factory as ff"
   ]
  },
  {
   "cell_type": "code",
   "execution_count": 2,
   "id": "revolutionary-subsection",
   "metadata": {},
   "outputs": [
    {
     "data": {
      "text/plain": [
       "'3.6.12'"
      ]
     },
     "execution_count": 2,
     "metadata": {},
     "output_type": "execute_result"
    }
   ],
   "source": [
    "python_version()"
   ]
  },
  {
   "cell_type": "markdown",
   "id": "center-theology",
   "metadata": {},
   "source": [
    "# Catboost"
   ]
  },
  {
   "cell_type": "markdown",
   "id": "adverse-reset",
   "metadata": {},
   "source": [
    "## Data preparation"
   ]
  },
  {
   "cell_type": "code",
   "execution_count": 3,
   "id": "unavailable-knight",
   "metadata": {},
   "outputs": [
    {
     "data": {
      "text/plain": [
       "(2119, 7)"
      ]
     },
     "execution_count": 3,
     "metadata": {},
     "output_type": "execute_result"
    }
   ],
   "source": [
    "\n",
    "#data = pd.read_excel('Annotation_sample_OB_ingevuld_Oele.xlsm', engine='openpyxl')\n",
    "data = pd.read_csv('DatasetSA_classification.csv', sep=';')\n",
    "data = data[['FileName', 'FileCode', 'FileCaption', 'Text', 'len_text', 'cleaned_text', 'SA Label' ]]\n",
    "data = data.dropna(subset=['SA Label'])\n",
    "data = data.drop_duplicates(subset= 'cleaned_text')\n",
    "data.shape\n",
    "#vec = TfidfVectorizer()\n",
    "#vectors = vec.fit_transform(data['cleaned_text']).todense()\n",
    "#data['text_vectors'] = "
   ]
  },
  {
   "cell_type": "code",
   "execution_count": 4,
   "id": "overall-exhibit",
   "metadata": {},
   "outputs": [],
   "source": [
    "train_data, valtest_data = train_test_split(data[['FileCode', 'cleaned_text', 'SA Label']], stratify=data['SA Label'], test_size=0.2)\n",
    "val_data, test_data = train_test_split(valtest_data[['FileCode', 'cleaned_text', 'SA Label']], stratify=valtest_data['SA Label'], test_size=0.5)"
   ]
  },
  {
   "cell_type": "code",
   "execution_count": 5,
   "id": "bibliographic-pickup",
   "metadata": {},
   "outputs": [],
   "source": [
    "train_texts = train_data['cleaned_text'].tolist()\n",
    "train_labels = train_data['SA Label'].tolist()\n",
    "valid_texts = val_data['cleaned_text'].tolist()\n",
    "valid_labels = val_data['SA Label'].tolist()\n",
    "test_texts = test_data['cleaned_text'].tolist()\n",
    "test_labels = test_data['SA Label'].tolist()\n",
    "\n"
   ]
  },
  {
   "cell_type": "code",
   "execution_count": 6,
   "id": "recovered-blair",
   "metadata": {},
   "outputs": [
    {
     "data": {
      "text/plain": [
       "1695"
      ]
     },
     "execution_count": 6,
     "metadata": {},
     "output_type": "execute_result"
    }
   ],
   "source": [
    "len(train_data)"
   ]
  },
  {
   "cell_type": "code",
   "execution_count": null,
   "id": "demographic-phoenix",
   "metadata": {},
   "outputs": [],
   "source": []
  },
  {
   "cell_type": "code",
   "execution_count": 7,
   "id": "excess-checkout",
   "metadata": {},
   "outputs": [
    {
     "data": {
      "text/plain": [
       "212"
      ]
     },
     "execution_count": 7,
     "metadata": {},
     "output_type": "execute_result"
    }
   ],
   "source": [
    "len(val_data)"
   ]
  },
  {
   "cell_type": "code",
   "execution_count": 8,
   "id": "perceived-lucas",
   "metadata": {},
   "outputs": [],
   "source": [
    "# apply pooling\n",
    "X_train = pd.DataFrame(train_texts, columns=['text'])\n",
    "y_train = train_data['SA Label']\n",
    "\n",
    "X_valid = pd.DataFrame(valid_texts, columns=['text'])\n",
    "y_valid = val_data['SA Label']\n",
    "\n",
    "\n",
    "X_test  = pd.DataFrame(test_texts, columns=['text'])\n",
    "y_test  = test_data['SA Label']\n",
    "\n",
    "train_data_pool = Pool(X_train, y_train, text_features=['text'])\n",
    "valid_data_pool = Pool(X_valid, y_valid, text_features=['text'])\n",
    "test_data_pool = Pool(X_test, X_test, text_features=['text'])\n"
   ]
  },
  {
   "cell_type": "markdown",
   "id": "czech-length",
   "metadata": {},
   "source": [
    "## Set up model and evaluate on training and validation data"
   ]
  },
  {
   "cell_type": "code",
   "execution_count": 9,
   "id": "artificial-strand",
   "metadata": {},
   "outputs": [
    {
     "name": "stdout",
     "output_type": "stream",
     "text": [
      "TRAIN:\n",
      "                        precision    recall  f1-score   support\n",
      "\n",
      "            commissive       0.53      0.89      0.66       137\n",
      "           declarative       0.58      0.84      0.68       142\n",
      " directive/instructive       0.77      0.88      0.82       390\n",
      "informative/persuasive       0.93      0.62      0.74       900\n",
      "         miscellaneous       0.55      0.90      0.68       126\n",
      "\n",
      "              accuracy                           0.74      1695\n",
      "             macro avg       0.67      0.83      0.72      1695\n",
      "          weighted avg       0.80      0.74      0.75      1695\n",
      "\n",
      "\n",
      "VALIDATION:\n",
      "                        precision    recall  f1-score   support\n",
      "\n",
      "            commissive       0.43      0.71      0.53        17\n",
      "           declarative       0.43      0.67      0.52        18\n",
      " directive/instructive       0.74      0.81      0.77        48\n",
      "informative/persuasive       0.79      0.55      0.65       113\n",
      "         miscellaneous       0.40      0.62      0.49        16\n",
      "\n",
      "              accuracy                           0.64       212\n",
      "             macro avg       0.56      0.67      0.59       212\n",
      "          weighted avg       0.69      0.64      0.64       212\n",
      "\n",
      "\n"
     ]
    }
   ],
   "source": [
    "quick_model = CatBoostClassifier(iterations=100\n",
    "                          , depth=1\n",
    "                          , learning_rate=None\n",
    "                          , objective= 'MultiClass'\n",
    "                          , loss_function='MultiClass'\n",
    "                          , eval_metric= 'MultiClass'\n",
    "                          , verbose=False\n",
    "                          , auto_class_weights='Balanced')\n",
    "\n",
    "\n",
    "\n",
    "quick_model.fit(train_data_pool)\n",
    "\n",
    "results_train = quick_model.predict(X_train)\n",
    "print(\"TRAIN:\")\n",
    "print(classification_report(y_train.tolist(),results_train.tolist()))\n",
    "print()\n",
    "\n",
    "results_val = quick_model.predict(X_valid)\n",
    "print(\"VALIDATION:\")\n",
    "print(classification_report(y_valid.tolist(),results_val.tolist()))\n",
    "print()\n",
    "\n",
    "\n"
   ]
  },
  {
   "cell_type": "code",
   "execution_count": 10,
   "id": "timely-bidder",
   "metadata": {},
   "outputs": [
    {
     "data": {
      "text/plain": [
       "{'nan_mode': 'Min',\n",
       " 'eval_metric': 'MultiClass',\n",
       " 'iterations': 100,\n",
       " 'sampling_frequency': 'PerTree',\n",
       " 'leaf_estimation_method': 'Newton',\n",
       " 'grow_policy': 'SymmetricTree',\n",
       " 'penalties_coefficient': 1,\n",
       " 'boosting_type': 'Plain',\n",
       " 'model_shrink_mode': 'Constant',\n",
       " 'feature_border_type': 'GreedyLogSum',\n",
       " 'bayesian_matrix_reg': 0.10000000149011612,\n",
       " 'l2_leaf_reg': 3,\n",
       " 'random_strength': 1,\n",
       " 'rsm': 1,\n",
       " 'boost_from_average': False,\n",
       " 'model_size_reg': 0.5,\n",
       " 'use_best_model': False,\n",
       " 'class_names': ['commissive',\n",
       "  'declarative',\n",
       "  'directive/instructive',\n",
       "  'informative/persuasive',\n",
       "  'miscellaneous'],\n",
       " 'random_seed': 0,\n",
       " 'depth': 1,\n",
       " 'posterior_sampling': False,\n",
       " 'border_count': 254,\n",
       " 'class_weights': [6.569343090057373,\n",
       "  6.3380279541015625,\n",
       "  2.307692289352417,\n",
       "  1,\n",
       "  7.142857074737549],\n",
       " 'bagging_temperature': 1,\n",
       " 'classes_count': 0,\n",
       " 'auto_class_weights': 'Balanced',\n",
       " 'sparse_features_conflict_fraction': 0,\n",
       " 'leaf_estimation_backtracking': 'AnyImprovement',\n",
       " 'best_model_min_trees': 1,\n",
       " 'model_shrink_rate': 0,\n",
       " 'min_data_in_leaf': 1,\n",
       " 'text_processing': {'dictionaries': [{'start_token_id': '0',\n",
       "    'occurrence_lower_bound': '5',\n",
       "    'skip_step': '0',\n",
       "    'end_of_word_token_policy': 'Insert',\n",
       "    'token_level_type': 'Word',\n",
       "    'end_of_sentence_token_policy': 'Skip',\n",
       "    'gram_order': '2',\n",
       "    'max_dictionary_size': '50000',\n",
       "    'dictionary_id': 'BiGram'},\n",
       "   {'start_token_id': '0',\n",
       "    'occurrence_lower_bound': '5',\n",
       "    'skip_step': '0',\n",
       "    'end_of_word_token_policy': 'Insert',\n",
       "    'token_level_type': 'Word',\n",
       "    'end_of_sentence_token_policy': 'Skip',\n",
       "    'gram_order': '1',\n",
       "    'max_dictionary_size': '50000',\n",
       "    'dictionary_id': 'Word'}],\n",
       "  'feature_processing': {'default': [{'dictionaries_names': ['BiGram', 'Word'],\n",
       "     'feature_calcers': ['BoW'],\n",
       "     'tokenizers_names': ['Space']},\n",
       "    {'dictionaries_names': ['Word'],\n",
       "     'feature_calcers': ['NaiveBayes'],\n",
       "     'tokenizers_names': ['Space']}]},\n",
       "  'tokenizers': [{'number_token': '🔢',\n",
       "    'skip_empty': '1',\n",
       "    'number_process_policy': 'LeaveAsIs',\n",
       "    'tokenizer_id': 'Space',\n",
       "    'token_types': ['Number', 'Unknown', 'Word'],\n",
       "    'delimiter': ' ',\n",
       "    'languages': [],\n",
       "    'lemmatizing': '0',\n",
       "    'split_by_set': '0',\n",
       "    'lowercasing': '0',\n",
       "    'subtokens_policy': 'SingleToken',\n",
       "    'separator_type': 'ByDelimiter'}]},\n",
       " 'loss_function': 'MultiClass',\n",
       " 'learning_rate': 0.5,\n",
       " 'score_function': 'Cosine',\n",
       " 'task_type': 'CPU',\n",
       " 'leaf_estimation_iterations': 1,\n",
       " 'bootstrap_type': 'Bayesian',\n",
       " 'max_leaves': 2}"
      ]
     },
     "execution_count": 10,
     "metadata": {},
     "output_type": "execute_result"
    }
   ],
   "source": [
    "quick_model.get_all_params()\n"
   ]
  },
  {
   "cell_type": "markdown",
   "id": "ambient-gasoline",
   "metadata": {},
   "source": [
    "## Evaluation on development set"
   ]
  },
  {
   "cell_type": "code",
   "execution_count": 11,
   "id": "outside-piece",
   "metadata": {},
   "outputs": [
    {
     "name": "stdout",
     "output_type": "stream",
     "text": [
      "[[62 12 12 15 12]\n",
      " [ 5 39  2  1  1]\n",
      " [ 3  2 12  0  0]\n",
      " [ 3  0  1 12  2]\n",
      " [ 5  0  1  0 10]]\n"
     ]
    },
    {
     "data": {
      "image/png": "[encoded data removed]",
      "text/plain": [
       "<Figure size 720x504 with 2 Axes>"
      ]
     },
     "metadata": {
      "needs_background": "light"
     },
     "output_type": "display_data"
    }
   ],
   "source": [
    "labels=['informative/persuasive','directive/instructive', 'commissive', 'declarative', 'miscellaneous']\n",
    "x = labels\n",
    "y = labels\n",
    "\n",
    "cm = confusion_matrix(y_valid, results_val, normalize=None, labels=labels)\n",
    "\n",
    "print(cm)\n",
    "#fig = ff.create_annotated_heatmap(cm, x=x, y=y, annotation_text=z_text, colorscale='Viridis')\n",
    "#fig.show(\"notebook\")\n",
    "\n",
    "plt.figure(figsize = (10,7))\n",
    "plot = sns.heatmap(cm, annot=True, xticklabels=x, yticklabels=y, cmap='Blues', fmt='d')\n",
    "plot.set_xlabel(\"True label\")\n",
    "plot.set_ylabel(\"Prediction\")\n",
    "plot\n",
    "plot.figure.savefig('pics/Catboost_val.png')"
   ]
  },
  {
   "cell_type": "code",
   "execution_count": 12,
   "id": "underlying-aberdeen",
   "metadata": {},
   "outputs": [
    {
     "name": "stdout",
     "output_type": "stream",
     "text": [
      "VALID:\n",
      "                        precision    recall  f1-score   support\n",
      "\n",
      "            commissive       0.43      0.71      0.53        17\n",
      "           declarative       0.43      0.67      0.52        18\n",
      " directive/instructive       0.74      0.81      0.77        48\n",
      "informative/persuasive       0.79      0.55      0.65       113\n",
      "         miscellaneous       0.40      0.62      0.49        16\n",
      "\n",
      "              accuracy                           0.64       212\n",
      "             macro avg       0.56      0.67      0.59       212\n",
      "          weighted avg       0.69      0.64      0.64       212\n",
      "\n",
      "\n"
     ]
    }
   ],
   "source": [
    "results_test = quick_model.predict(X_test)\n",
    "print(\"VALID:\")\n",
    "print(classification_report(y_valid.tolist(),results_val.tolist()))\n",
    "print()"
   ]
  },
  {
   "cell_type": "markdown",
   "id": "internal-consumer",
   "metadata": {},
   "source": [
    "## Evaluation on test set"
   ]
  },
  {
   "cell_type": "code",
   "execution_count": null,
   "id": "detailed-throat",
   "metadata": {},
   "outputs": [],
   "source": []
  },
  {
   "cell_type": "code",
   "execution_count": 13,
   "id": "final-ethics",
   "metadata": {},
   "outputs": [
    {
     "name": "stdout",
     "output_type": "stream",
     "text": [
      "[[60 16 14 13  9]\n",
      " [ 5 35  6  1  2]\n",
      " [ 3  1 12  1  0]\n",
      " [ 2  1  3 11  1]\n",
      " [ 3  0  0  0 13]]\n"
     ]
    },
    {
     "data": {
      "image/png": "[encoded data removed]",
      "text/plain": [
       "<Figure size 720x504 with 2 Axes>"
      ]
     },
     "metadata": {
      "needs_background": "light"
     },
     "output_type": "display_data"
    }
   ],
   "source": [
    "labels=['informative/persuasive','directive/instructive', 'commissive', 'declarative', 'miscellaneous']\n",
    "x = labels\n",
    "y = labels\n",
    "\n",
    "cm = confusion_matrix(y_test, results_test, normalize=None, labels=labels)\n",
    "\n",
    "print(cm)\n",
    "\n",
    "plt.figure(figsize = (10,7))\n",
    "plot = sns.heatmap(cm, annot=True, xticklabels=x, yticklabels=y, cmap='Blues', fmt='d')\n",
    "plot.set_xlabel(\"True label\")\n",
    "plot.set_ylabel(\"Prediction\")\n",
    "plot\n",
    "plt.tight_layout(pad=2)\n",
    "plot.figure.savefig('pics/Catboost_test.png')"
   ]
  },
  {
   "cell_type": "code",
   "execution_count": 14,
   "id": "suited-copying",
   "metadata": {},
   "outputs": [
    {
     "name": "stdout",
     "output_type": "stream",
     "text": [
      "TEST:\n",
      "                        precision    recall  f1-score   support\n",
      "\n",
      "            commissive       0.34      0.71      0.46        17\n",
      "           declarative       0.42      0.61      0.50        18\n",
      " directive/instructive       0.66      0.71      0.69        49\n",
      "informative/persuasive       0.82      0.54      0.65       112\n",
      "         miscellaneous       0.52      0.81      0.63        16\n",
      "\n",
      "              accuracy                           0.62       212\n",
      "             macro avg       0.55      0.68      0.59       212\n",
      "          weighted avg       0.69      0.62      0.63       212\n",
      "\n",
      "\n"
     ]
    }
   ],
   "source": [
    "results_test = quick_model.predict(X_test)\n",
    "print(\"TEST:\")\n",
    "print(classification_report(y_test.tolist(),results_test.tolist()))\n",
    "print()\n"
   ]
  },
  {
   "cell_type": "markdown",
   "id": "prime-ideal",
   "metadata": {},
   "source": [
    "### Error analysis"
   ]
  },
  {
   "cell_type": "code",
   "execution_count": 24,
   "id": "rental-double",
   "metadata": {},
   "outputs": [
    {
     "name": "stdout",
     "output_type": "stream",
     "text": [
      "Counter({'informative/persuasive': 112, 'directive/instructive': 49, 'declarative': 18, 'commissive': 17, 'miscellaneous': 16})\n",
      "Counter({'informative/persuasive': 112, 'directive/instructive': 49, 'declarative': 18, 'commissive': 17, 'miscellaneous': 16})\n",
      "212\n",
      "212\n",
      "212\n"
     ]
    },
    {
     "data": {
      "text/html": [
       "<div>\n",
       "<style scoped>\n",
       "    .dataframe tbody tr th:only-of-type {\n",
       "        vertical-align: middle;\n",
       "    }\n",
       "\n",
       "    .dataframe tbody tr th {\n",
       "        vertical-align: top;\n",
       "    }\n",
       "\n",
       "    .dataframe thead th {\n",
       "        text-align: right;\n",
       "    }\n",
       "</style>\n",
       "<table border=\"1\" class=\"dataframe\">\n",
       "  <thead>\n",
       "    <tr style=\"text-align: right;\">\n",
       "      <th></th>\n",
       "      <th>text</th>\n",
       "    </tr>\n",
       "  </thead>\n",
       "  <tbody>\n",
       "    <tr>\n",
       "      <th>0</th>\n",
       "      <td>NL ob_nummer uw naam en adres als fiscaal vert...</td>\n",
       "    </tr>\n",
       "    <tr>\n",
       "      <th>1</th>\n",
       "      <td>Als u het niet eens bent met de vastgestelde i...</td>\n",
       "    </tr>\n",
       "    <tr>\n",
       "      <th>2</th>\n",
       "      <td>naam  De Heer Mevrouw naam_beslag adres  adres...</td>\n",
       "    </tr>\n",
       "  </tbody>\n",
       "</table>\n",
       "</div>"
      ],
      "text/plain": [
       "                                                text\n",
       "0  NL ob_nummer uw naam en adres als fiscaal vert...\n",
       "1  Als u het niet eens bent met de vastgestelde i...\n",
       "2  naam  De Heer Mevrouw naam_beslag adres  adres..."
      ]
     },
     "execution_count": 24,
     "metadata": {},
     "output_type": "execute_result"
    }
   ],
   "source": [
    "print(Counter(y_test))\n",
    "gold = y_test\n",
    "print(Counter(gold))\n",
    "print(len(gold))\n",
    "print(len(X_test))\n",
    "print(len(results_test))\n",
    "X_test[:3]"
   ]
  },
  {
   "cell_type": "code",
   "execution_count": 16,
   "id": "spread-disney",
   "metadata": {},
   "outputs": [
    {
     "data": {
      "text/plain": [
       "(212, 3)"
      ]
     },
     "execution_count": 16,
     "metadata": {},
     "output_type": "execute_result"
    }
   ],
   "source": [
    "error_analysis = pd.DataFrame()\n",
    "error_analysis['cleaned_text'] = X_test['text']\n",
    "error_analysis['gold_label'] = y_test.to_list()\n",
    "error_analysis['prediction'] = results_test\n",
    "\n",
    "error_analysis.shape"
   ]
  },
  {
   "cell_type": "code",
   "execution_count": 23,
   "id": "neutral-relevance",
   "metadata": {},
   "outputs": [
    {
     "name": "stdout",
     "output_type": "stream",
     "text": [
      "\n",
      "\n",
      "\n",
      "\n",
      "\n",
      "\n",
      "\n",
      "\n",
      "\n",
      "\n",
      "\n",
      "\n",
      "\n",
      "\n",
      "\n",
      "\n",
      "\n",
      "\n",
      "\n",
      "\n",
      "\n",
      "\n",
      "\n",
      "\n",
      "\n",
      "\n",
      "\n",
      "\n",
      "\n",
      "\n",
      "\n",
      "\n",
      "\n",
      "\n",
      "\n",
      "\n",
      "\n",
      "\n",
      "\n",
      "\n",
      "\n",
      "\n",
      "\n",
      "\n",
      "\n",
      "\n",
      "\n",
      "\n",
      "\n",
      "\n",
      "\n",
      "\n",
      "\n",
      "\n",
      "\n",
      "\n",
      "\n",
      "\n",
      "\n",
      "\n",
      "\n",
      "\n",
      "\n",
      "\n",
      "\n",
      "\n",
      "\n",
      "\n",
      "\n",
      "\n",
      "\n",
      "\n",
      "\n",
      "\n",
      "\n",
      "\n",
      "\n",
      "\n",
      "\n",
      "\n",
      "\n",
      "FINAL COUNTS\n",
      "counter:  212\n",
      "errors:  81\n"
     ]
    }
   ],
   "source": [
    "counter = 0\n",
    "error_counter = 0\n",
    "values_list = []\n",
    "values_counter = 0\n",
    "zero_dict_counter = 0\n",
    "for row in error_analysis.values:\n",
    "    counter += 1\n",
    "    if row[-1] != row[-2]:\n",
    "        error_counter += 1\n",
    "        #print(\"Sentence: \", row[0])\n",
    "        ##print(\"gold label: \", row[-2], '-- predicted label: ', row[-1])\n",
    "        print()\n",
    "    #if row[-1] != row[-2]:\n",
    "        #if row[-1] == 'declarative':\n",
    "            #print(row)\n",
    "        \n",
    "print(\"FINAL COUNTS\")        \n",
    "print(\"counter: \", counter)\n",
    "print(\"errors: \", error_counter)\n"
   ]
  },
  {
   "cell_type": "markdown",
   "id": "adaptive-draft",
   "metadata": {},
   "source": [
    "## Performance per domain"
   ]
  },
  {
   "cell_type": "code",
   "execution_count": 18,
   "id": "acute-spice",
   "metadata": {},
   "outputs": [],
   "source": [
    "#Performance per domein\n",
    "def cm_subset(df, true, pred, label, column):\n",
    "    df[\"pred\"] = pred\n",
    "    df = df[df[column] == label]\n",
    "    true = df[\"SA Label\"].tolist()\n",
    "    pred = df[\"pred\"].tolist()\n",
    "    \n",
    "    print(classification_report(true,pred))\n",
    "    \n",
    "    labels=['informative/persuasive','directive/instructive', 'commissive', 'miscellaneous'] ##add declarative later\n",
    "    x = labels\n",
    "    y = labels\n",
    "\n",
    "    cm = confusion_matrix(true, pred, normalize=None, labels=labels)\n",
    "    #z_text = [[str(y) for y in x] for x in cm]\n",
    "\n",
    "    #print(cm)\n",
    "    #fig = ff.create_annotated_heatmap(cm, x=x, y=y, annotation_text=z_text, colorscale='Viridis')\n",
    "    #fig.show(\"notebook\")\n",
    "\n",
    "    plt.figure(figsize = (10,7))\n",
    "    plot = sns.heatmap(cm, annot=True, xticklabels=x, yticklabels=y, cmap='Blues')\n",
    "    plot.set_xlabel(\"True label\")\n",
    "    plot.set_ylabel(\"Prediction\")\n",
    "    plot\n",
    "    \n"
   ]
  },
  {
   "cell_type": "markdown",
   "id": "clean-organizer",
   "metadata": {},
   "source": [
    "## Development set"
   ]
  },
  {
   "cell_type": "code",
   "execution_count": null,
   "id": "lovely-helmet",
   "metadata": {},
   "outputs": [],
   "source": []
  },
  {
   "cell_type": "code",
   "execution_count": 19,
   "id": "treated-string",
   "metadata": {},
   "outputs": [
    {
     "name": "stdout",
     "output_type": "stream",
     "text": [
      "                        precision    recall  f1-score   support\n",
      "\n",
      "            commissive       0.29      0.50      0.36         4\n",
      "           declarative       0.36      0.50      0.42        10\n",
      " directive/instructive       0.86      0.67      0.75         9\n",
      "informative/persuasive       0.75      0.56      0.64        27\n",
      "         miscellaneous       0.25      0.50      0.33         2\n",
      "\n",
      "              accuracy                           0.56        52\n",
      "             macro avg       0.50      0.54      0.50        52\n",
      "          weighted avg       0.64      0.56      0.58        52\n",
      "\n"
     ]
    },
    {
     "data": {
      "image/png": "[encoded data removed]",
      "text/plain": [
       "<Figure size 720x504 with 2 Axes>"
      ]
     },
     "metadata": {
      "needs_background": "light"
     },
     "output_type": "display_data"
    }
   ],
   "source": [
    "cm_subset(val_data, y_valid, results_val, 'OB', 'FileCode')"
   ]
  },
  {
   "cell_type": "code",
   "execution_count": 20,
   "id": "spanish-certification",
   "metadata": {},
   "outputs": [
    {
     "name": "stdout",
     "output_type": "stream",
     "text": [
      "                        precision    recall  f1-score   support\n",
      "\n",
      "            commissive       0.47      0.88      0.61         8\n",
      "           declarative       0.62      0.83      0.71         6\n",
      " directive/instructive       0.77      0.82      0.79        28\n",
      "informative/persuasive       0.78      0.57      0.66        68\n",
      "         miscellaneous       0.40      0.62      0.48        13\n",
      "\n",
      "              accuracy                           0.67       123\n",
      "             macro avg       0.61      0.74      0.65       123\n",
      "          weighted avg       0.71      0.67      0.67       123\n",
      "\n"
     ]
    },
    {
     "data": {
      "image/png": "[encoded data removed]",
      "text/plain": [
       "<Figure size 720x504 with 2 Axes>"
      ]
     },
     "metadata": {
      "needs_background": "light"
     },
     "output_type": "display_data"
    }
   ],
   "source": [
    "cm_subset(val_data, y_valid, results_val, 'IV', 'FileCode')"
   ]
  },
  {
   "cell_type": "code",
   "execution_count": 21,
   "id": "frozen-situation",
   "metadata": {},
   "outputs": [
    {
     "name": "stdout",
     "output_type": "stream",
     "text": [
      "                        precision    recall  f1-score   support\n",
      "\n",
      "            commissive       0.50      0.60      0.55         5\n",
      "           declarative       0.33      1.00      0.50         2\n",
      " directive/instructive       0.62      0.91      0.74        11\n",
      "informative/persuasive       1.00      0.44      0.62        18\n",
      "         miscellaneous       1.00      1.00      1.00         1\n",
      "\n",
      "              accuracy                           0.65        37\n",
      "             macro avg       0.69      0.79      0.68        37\n",
      "          weighted avg       0.78      0.65      0.65        37\n",
      "\n"
     ]
    },
    {
     "data": {
      "image/png": "[encoded data removed]",
      "text/plain": [
       "<Figure size 720x504 with 2 Axes>"
      ]
     },
     "metadata": {
      "needs_background": "light"
     },
     "output_type": "display_data"
    }
   ],
   "source": [
    "cm_subset(val_data, y_valid, results_val, 'INL', 'FileCode')"
   ]
  },
  {
   "cell_type": "markdown",
   "id": "danish-pendant",
   "metadata": {},
   "source": [
    "## Test set"
   ]
  },
  {
   "cell_type": "code",
   "execution_count": null,
   "id": "organic-protein",
   "metadata": {},
   "outputs": [],
   "source": []
  },
  {
   "cell_type": "code",
   "execution_count": null,
   "id": "answering-roman",
   "metadata": {},
   "outputs": [],
   "source": [
    "cm_subset(test_data, y_test, results_test, 'OB', 'FileCode')"
   ]
  },
  {
   "cell_type": "code",
   "execution_count": null,
   "id": "hidden-exhibit",
   "metadata": {},
   "outputs": [],
   "source": []
  },
  {
   "cell_type": "code",
   "execution_count": null,
   "id": "productive-proportion",
   "metadata": {},
   "outputs": [],
   "source": []
  },
  {
   "cell_type": "code",
   "execution_count": null,
   "id": "incorporate-costa",
   "metadata": {},
   "outputs": [],
   "source": []
  },
  {
   "cell_type": "code",
   "execution_count": null,
   "id": "aerial-marketing",
   "metadata": {},
   "outputs": [],
   "source": []
  },
  {
   "cell_type": "code",
   "execution_count": null,
   "id": "behind-frontier",
   "metadata": {},
   "outputs": [],
   "source": []
  },
  {
   "cell_type": "code",
   "execution_count": null,
   "id": "loving-roulette",
   "metadata": {},
   "outputs": [],
   "source": []
  },
  {
   "cell_type": "code",
   "execution_count": null,
   "id": "vocal-lightning",
   "metadata": {},
   "outputs": [],
   "source": []
  },
  {
   "cell_type": "code",
   "execution_count": null,
   "id": "tested-replacement",
   "metadata": {},
   "outputs": [],
   "source": []
  },
  {
   "cell_type": "code",
   "execution_count": null,
   "id": "plain-meditation",
   "metadata": {},
   "outputs": [],
   "source": []
  },
  {
   "cell_type": "code",
   "execution_count": null,
   "id": "authorized-starter",
   "metadata": {},
   "outputs": [],
   "source": []
  },
  {
   "cell_type": "code",
   "execution_count": null,
   "id": "endangered-worth",
   "metadata": {},
   "outputs": [],
   "source": []
  },
  {
   "cell_type": "code",
   "execution_count": null,
   "id": "sophisticated-reservoir",
   "metadata": {},
   "outputs": [],
   "source": []
  },
  {
   "cell_type": "code",
   "execution_count": null,
   "id": "cutting-eight",
   "metadata": {},
   "outputs": [],
   "source": []
  },
  {
   "cell_type": "code",
   "execution_count": null,
   "id": "characteristic-croatia",
   "metadata": {},
   "outputs": [],
   "source": []
  }
 ],
 "metadata": {
  "kernelspec": {
   "display_name": "Python 3",
   "language": "python",
   "name": "python3"
  },
  "language_info": {
   "codemirror_mode": {
    "name": "ipython",
    "version": 3
   },
   "file_extension": ".py",
   "mimetype": "text/x-python",
   "name": "python",
   "nbconvert_exporter": "python",
   "pygments_lexer": "ipython3",
   "version": "3.6.12"
  }
 },
 "nbformat": 4,
 "nbformat_minor": 5
}
