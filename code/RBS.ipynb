{
 "cells": [
  {
   "cell_type": "code",
   "execution_count": 1,
   "id": "thirty-spell",
   "metadata": {},
   "outputs": [],
   "source": [
    "import numpy as np\n",
    "import pandas as pd\n",
    "import re\n",
    "import nltk\n",
    "import random\n",
    "\n",
    "from spacy.lang.nl import Dutch\n",
    "from spacy.lemmatizer import Lemmatizer\n",
    "from pathlib import Path\n",
    "#from stop_words import get_stop_words\n",
    "from sklearn.feature_extraction.text import TfidfVectorizer\n",
    "from sklearn.feature_extraction.text import CountVectorizer\n",
    "from sklearn.model_selection import cross_val_score\n",
    "from sklearn.model_selection import cross_validate\n",
    "from sklearn.cluster import KMeans\n",
    "from sklearn.metrics import adjusted_rand_score\n",
    "from sklearn.metrics import silhouette_score\n",
    "from sklearn.model_selection import train_test_split\n",
    "from sklearn.linear_model import LogisticRegression\n",
    "from sklearn.feature_extraction.text import TfidfVectorizer\n",
    "from sklearn.linear_model import LogisticRegression\n",
    "from sklearn.model_selection import cross_val_score\n",
    "from sklearn.pipeline import make_union\n",
    "from sklearn.ensemble import RandomForestClassifier\n",
    "from sklearn.metrics import confusion_matrix, classification_report\n",
    "\n",
    "#frog\n",
    "from time import time # To time our operation\n",
    "from collections import defaultdict # For word frequency\n",
    "from gensim.models.phrases import Phrases, Phraser\n",
    "from pynlpl.clients.frogclient import FrogClient\n",
    "import re # For preprocessing\n",
    "import pandas as pd # For data handling\n",
    "import pickle\n",
    "import spacy # For preprocessing\n",
    "import logging # For gensim logging\n",
    "\n",
    "from collections import Counter\n",
    "\n",
    "import matplotlib.pyplot as plt\n",
    "import seaborn as sns\n",
    "import plotly.figure_factory as ff"
   ]
  },
  {
   "cell_type": "code",
   "execution_count": 2,
   "id": "ambient-endorsement",
   "metadata": {},
   "outputs": [],
   "source": [
    "nlp = Dutch()\n",
    "nlp.add_pipe(nlp.create_pipe('sentencizer'))"
   ]
  },
  {
   "cell_type": "markdown",
   "id": "brief-canvas",
   "metadata": {},
   "source": [
    "## Read in data"
   ]
  },
  {
   "cell_type": "code",
   "execution_count": 3,
   "id": "fabulous-respondent",
   "metadata": {},
   "outputs": [
    {
     "name": "stdout",
     "output_type": "stream",
     "text": [
      "(2119, 6)\n"
     ]
    },
    {
     "data": {
      "text/plain": [
       "FileName                                               NCV113.xml\n",
       "FileCaption     NCV113 Meded pandrecht en inning verpande vord...\n",
       "Text            Betreft: Mededeling pandrecht en inning verpan...\n",
       "len_text                                                     1724\n",
       "cleaned_text    Mededeling pandrecht en inning verpande vorder...\n",
       "SA Label                                   informative/persuasive\n",
       "Name: 0, dtype: object"
      ]
     },
     "execution_count": 3,
     "metadata": {},
     "output_type": "execute_result"
    }
   ],
   "source": [
    "#trainingfile = pd.read_excel('Annotation_sample_OB_ingevuld_Oele.xlsm', engine='openpyxl')\n",
    "\n",
    "\n",
    "trainingfile = pd.read_csv('DatasetSA_classification.csv', sep=';')\n",
    "trainingfile = trainingfile.dropna(subset=['SA Label'])\n",
    "trainingfile = trainingfile[['FileName', 'FileCaption', 'Text', 'len_text', 'cleaned_text', 'SA Label' ]]\n",
    "print(trainingfile.shape)\n",
    "trainingfile.iloc[0]"
   ]
  },
  {
   "cell_type": "markdown",
   "id": "streaming-prevention",
   "metadata": {},
   "source": [
    "## Preprocessing"
   ]
  },
  {
   "cell_type": "code",
   "execution_count": 4,
   "id": "nervous-situation",
   "metadata": {},
   "outputs": [],
   "source": [
    "sw_corpus = spacy.lang.nl.stop_words.STOP_WORDS\n",
    "#remove SAV from the stop word list\n",
    "sw_corpus.remove(\"geven\")\n",
    "sw_corpus.remove(\"worden\")\n",
    "sw_corpus.remove('kunnen')\n",
    "sw_corpus.remove('zouden')\n",
    "sw_corpus.remove('mogen')\n",
    "sw_corpus.remove(\"moeten\")\n",
    "sw_corpus.remove(\"zullen\")"
   ]
  },
  {
   "cell_type": "markdown",
   "id": "alleged-athens",
   "metadata": {},
   "source": [
    "## Lemmatization "
   ]
  },
  {
   "cell_type": "code",
   "execution_count": 5,
   "id": "built-mandate",
   "metadata": {},
   "outputs": [],
   "source": [
    "# Frog Client settings\n",
    "port = 8020\n",
    "frogclient = FrogClient ('localhost4', port)"
   ]
  },
  {
   "cell_type": "code",
   "execution_count": 6,
   "id": "graduate-cloud",
   "metadata": {},
   "outputs": [],
   "source": [
    "def cleaning(doc, sw_corpus):\n",
    "    #print(doc)\n",
    "    if not doc: # skip empty docs\n",
    "        return \"\"\n",
    "\n",
    "    # Lemmatizes and removes stopwords\n",
    "    # doc needs to be a spacy Doc object\n",
    "\n",
    "    #print('doc:', doc)\n",
    "    frog_data = frogclient.process(str(doc))\n",
    "    txt = list()\n",
    "\n",
    "    for word, lemma, morph, pos in frog_data:\n",
    "        if not lemma in sw_corpus:\n",
    "            #print('word: {}, lemma: {}, morph: {}, pos: {}'.format(word, lemma, morph, pos))\n",
    "            #txt.append(lemma)\n",
    "            if 'N(' in str(pos):\n",
    "                txt.append(str(word + \"(N)\")) # to prevent NOUNS from being interpreted as VERBS later on\n",
    "            else:\n",
    "                txt.append(str(lemma))\n",
    "    if 'None' in txt:\n",
    "        txt.remove('None')\n",
    "    #print(txt)      \n",
    "    # Remove words with length 1\n",
    "    txt = [word for word in txt if len(word)]\n",
    "    lt_list = []\n",
    "\n",
    "    return txt\n",
    "    "
   ]
  },
  {
   "cell_type": "code",
   "execution_count": 7,
   "id": "opposite-lewis",
   "metadata": {},
   "outputs": [
    {
     "data": {
      "text/plain": [
       "['verzoek(N)', 'kunnen', 'worden', 'inwilligen', '.']"
      ]
     },
     "execution_count": 7,
     "metadata": {},
     "output_type": "execute_result"
    }
   ],
   "source": [
    "cleaning(\"Uw verzoek kan niet worden ingewilligd.\", sw_corpus)"
   ]
  },
  {
   "cell_type": "code",
   "execution_count": 8,
   "id": "polyphonic-renaissance",
   "metadata": {},
   "outputs": [],
   "source": [
    "lemmatized_list = []\n",
    "\n",
    "for text in trainingfile[\"cleaned_text\"]:\n",
    "    lemmatized_list.append(cleaning(text, sw_corpus))\n",
    "    \n",
    "trainingfile[\"lemmatized_text\"] = lemmatized_list"
   ]
  },
  {
   "cell_type": "markdown",
   "id": "freelance-coordinate",
   "metadata": {},
   "source": [
    "## Read in speech act verbs, process as df"
   ]
  },
  {
   "cell_type": "code",
   "execution_count": 9,
   "id": "random-light",
   "metadata": {},
   "outputs": [
    {
     "name": "stdout",
     "output_type": "stream",
     "text": [
      "(212, 3)\n"
     ]
    },
    {
     "name": "stderr",
     "output_type": "stream",
     "text": [
      "/home/ADS/rinkl00_w00215/stageLR/lib64/python3.6/site-packages/pandas/core/frame.py:1490: FutureWarning:\n",
      "\n",
      "Using short name for 'orient' is deprecated. Only the options: ('dict', list, 'series', 'split', 'records', 'index') will be used in a future version. Use one of the above to silence this warning.\n",
      "\n"
     ]
    },
    {
     "data": {
      "text/html": [
       "<div>\n",
       "<style scoped>\n",
       "    .dataframe tbody tr th:only-of-type {\n",
       "        vertical-align: middle;\n",
       "    }\n",
       "\n",
       "    .dataframe tbody tr th {\n",
       "        vertical-align: top;\n",
       "    }\n",
       "\n",
       "    .dataframe thead th {\n",
       "        text-align: right;\n",
       "    }\n",
       "</style>\n",
       "<table border=\"1\" class=\"dataframe\">\n",
       "  <thead>\n",
       "    <tr style=\"text-align: right;\">\n",
       "      <th></th>\n",
       "      <th>SAV_NL</th>\n",
       "      <th>SA_label</th>\n",
       "    </tr>\n",
       "  </thead>\n",
       "  <tbody>\n",
       "    <tr>\n",
       "      <th>251</th>\n",
       "      <td>motiveren</td>\n",
       "      <td>directive/instructive</td>\n",
       "    </tr>\n",
       "    <tr>\n",
       "      <th>253</th>\n",
       "      <td>moeten</td>\n",
       "      <td>directive/instructive</td>\n",
       "    </tr>\n",
       "    <tr>\n",
       "      <th>254</th>\n",
       "      <td>dienen</td>\n",
       "      <td>directive/instructive</td>\n",
       "    </tr>\n",
       "    <tr>\n",
       "      <th>255</th>\n",
       "      <td>zullen</td>\n",
       "      <td>commissive</td>\n",
       "    </tr>\n",
       "    <tr>\n",
       "      <th>256</th>\n",
       "      <td>kunnen</td>\n",
       "      <td>commissive</td>\n",
       "    </tr>\n",
       "  </tbody>\n",
       "</table>\n",
       "</div>"
      ],
      "text/plain": [
       "        SAV_NL               SA_label\n",
       "251  motiveren  directive/instructive\n",
       "253     moeten  directive/instructive\n",
       "254     dienen  directive/instructive\n",
       "255     zullen             commissive\n",
       "256     kunnen             commissive"
      ]
     },
     "execution_count": 9,
     "metadata": {},
     "output_type": "execute_result"
    }
   ],
   "source": [
    "df_SAV = pd.read_excel('Speech act verbs EN-NL_def_exc.xlsx', engine='openpyxl')\n",
    "df_SAV.columns = ['SAV_EN', 'SAV_NL', 'SA_label']\n",
    "df_SAV = df_SAV.drop_duplicates(subset=['SAV_NL'], keep=\"first\")\n",
    "print(df_SAV.shape)\n",
    "#df_SAV.to_csv( 'testje.csv')\n",
    "df_SAV = df_SAV.drop(columns='SAV_EN')\n",
    "dict_SAV = df_SAV.set_index('SAV_NL').T.to_dict(orient = 'r')\n",
    "df_SAV.tail()\n",
    "\n",
    "#dict_SAV"
   ]
  },
  {
   "cell_type": "code",
   "execution_count": 10,
   "id": "parallel-municipality",
   "metadata": {},
   "outputs": [],
   "source": [
    "final_dict_SAV = dict()\n",
    "for dict_new in dict_SAV:\n",
    "    final_dict_SAV = dict_new\n",
    "    "
   ]
  },
  {
   "cell_type": "code",
   "execution_count": 11,
   "id": "figured-causing",
   "metadata": {},
   "outputs": [
    {
     "data": {
      "text/plain": [
       "'declarative'"
      ]
     },
     "execution_count": 11,
     "metadata": {},
     "output_type": "execute_result"
    }
   ],
   "source": [
    "final_dict_SAV[\"verlenen\"]"
   ]
  },
  {
   "cell_type": "code",
   "execution_count": 12,
   "id": "genetic-lesbian",
   "metadata": {},
   "outputs": [
    {
     "data": {
      "text/plain": [
       "[]"
      ]
     },
     "execution_count": 12,
     "metadata": {},
     "output_type": "execute_result"
    }
   ],
   "source": [
    "#list(sw_corpus).intersect(list(final_dict_SAV.keys()))\n",
    "\n",
    "def intersection(l1, l2):\n",
    "    l3 = [value for value in l1 if value in l2]\n",
    "    return l3\n",
    "\n",
    "intersection(list(sw_corpus), list(final_dict_SAV.keys())) ##check if no SAV are removed by the stop word list"
   ]
  },
  {
   "cell_type": "code",
   "execution_count": 13,
   "id": "elect-worse",
   "metadata": {},
   "outputs": [],
   "source": [
    "def find_SAV_label(lt_sentence, SAV_dict):\n",
    "    SAV_label_list = []\n",
    "    SAV_label_dict = dict()\n",
    "    SAV_label_dict[\"declarative\"] = 0\n",
    "    SAV_label_dict[\"commissive\"] = 0\n",
    "    SAV_label_dict[\"directive/instructive\"] = 0\n",
    "    SAV_label_dict[\"informative/persuasive\"] = 0\n",
    "    SAV_label_dict[\"miscellaneous\"] = 0\n",
    "    #print(lt_sentence)\n",
    "    \n",
    "    for token in lt_sentence:\n",
    "        #print(token)\n",
    "        if token in SAV_dict.keys():\n",
    "            #print(token)\n",
    "            if \"N(\" not in token: \n",
    "                #print(token)\n",
    "                #print(\"-------------------------------------\")\n",
    "                #print( )\n",
    "                if SAV_dict[token] == 'informative/persuasive':\n",
    "                    SAV_label_dict['informative/persuasive'] += 1\n",
    "                if SAV_dict[token] == 'directive/instructive':\n",
    "                    SAV_label_dict['directive/instructive'] += 1\n",
    "                if SAV_dict[token] == 'commissive':\n",
    "                    SAV_label_dict['commissive'] += 1\n",
    "                if SAV_dict[token] == 'declarative':\n",
    "                    SAV_label_dict['declarative'] += 1\n",
    "                if SAV_dict[token] == 'miscellaneous':\n",
    "                    SAV_label_dict['miscellaneous'] += 1\n",
    "    SAV_label_list.append(SAV_label_dict)\n",
    "    return SAV_label_dict, SAV_label_list\n",
    "    \n",
    "    "
   ]
  },
  {
   "cell_type": "markdown",
   "id": "anonymous-selection",
   "metadata": {},
   "source": [
    "## Make judgements based on inserted data and dict"
   ]
  },
  {
   "cell_type": "code",
   "execution_count": 14,
   "id": "chubby-testing",
   "metadata": {},
   "outputs": [
    {
     "name": "stdout",
     "output_type": "stream",
     "text": [
      "[{'declarative': 0, 'commissive': 0, 'directive/instructive': 1, 'informative/persuasive': 1, 'miscellaneous': 0}]\n"
     ]
    }
   ],
   "source": [
    "sentence = cleaning('Om gebruik te maken van de regeling moet u eerst de voorwaarden accepteren.', sw_corpus)\n",
    "print(find_SAV_label(sentence, final_dict_SAV)[1])"
   ]
  },
  {
   "cell_type": "code",
   "execution_count": 15,
   "id": "african-match",
   "metadata": {},
   "outputs": [],
   "source": [
    "label_dict_list = []\n",
    "for sent in lemmatized_list:\n",
    "    label_dict_list.append(find_SAV_label(sent, final_dict_SAV)[0])\n",
    "    \n",
    "trainingfile[\"label_dict\"] = label_dict_list"
   ]
  },
  {
   "cell_type": "code",
   "execution_count": 16,
   "id": "affected-violin",
   "metadata": {},
   "outputs": [],
   "source": [
    "def make_judgement(label_dict_list):\n",
    "    final_label_list = []\n",
    "    counter = 0\n",
    "    for label_dict in label_dict_list:\n",
    "        counter += 1\n",
    "        #print(label_dict)\n",
    "        \n",
    "        if label_dict['informative/persuasive'] != 0:\n",
    "            #print(label_dict)\n",
    "            if label_dict['informative/persuasive'] == label_dict['directive/instructive']:\n",
    "                max_class = 'informative/persuasive'\n",
    "            if label_dict['informative/persuasive'] == label_dict['commissive']:\n",
    "                max_class = 'informative/persuasive'\n",
    "            if label_dict['informative/persuasive'] == label_dict['declarative']:\n",
    "                max_class = 'informative/persuasive'\n",
    "            else:\n",
    "                max_class = max(label_dict, key=label_dict.get)\n",
    "        \n",
    "        if max(label_dict.values()) == 0:\n",
    "            max_class = 'miscellaneous'\n",
    "            #print(\"yes\")\n",
    "                \n",
    "        #if \n",
    "        else:\n",
    "            max_class = max(label_dict, key=label_dict.get)\n",
    "        #print(max_class)\n",
    "        #print()\n",
    "        final_label_list.append(max_class)\n",
    "    return final_label_list\n",
    "        "
   ]
  },
  {
   "cell_type": "code",
   "execution_count": 17,
   "id": "architectural-speaker",
   "metadata": {},
   "outputs": [],
   "source": [
    "trainingfile[\"rule_based_label\"] = make_judgement(label_dict_list) ##use label dict list to make a final judgement"
   ]
  },
  {
   "cell_type": "code",
   "execution_count": 18,
   "id": "maritime-projector",
   "metadata": {},
   "outputs": [
    {
     "data": {
      "text/plain": [
       "Counter({'informative/persuasive': 1125,\n",
       "         'directive/instructive': 487,\n",
       "         'miscellaneous': 158,\n",
       "         'commissive': 171,\n",
       "         'declarative': 178})"
      ]
     },
     "execution_count": 18,
     "metadata": {},
     "output_type": "execute_result"
    }
   ],
   "source": [
    "Counter(trainingfile[\"SA Label\"]) ##distribution of the true labels"
   ]
  },
  {
   "cell_type": "code",
   "execution_count": 19,
   "id": "floppy-senior",
   "metadata": {},
   "outputs": [
    {
     "data": {
      "text/plain": [
       "Counter({'miscellaneous': 1148,\n",
       "         'directive/instructive': 344,\n",
       "         'declarative': 193,\n",
       "         'informative/persuasive': 161,\n",
       "         'commissive': 273})"
      ]
     },
     "execution_count": 19,
     "metadata": {},
     "output_type": "execute_result"
    }
   ],
   "source": [
    "Counter(trainingfile[\"rule_based_label\"]) ##distribution of the predicted labels"
   ]
  },
  {
   "cell_type": "code",
   "execution_count": 20,
   "id": "freelance-place",
   "metadata": {},
   "outputs": [
    {
     "name": "stdout",
     "output_type": "stream",
     "text": [
      "                        precision    recall  f1-score   support\n",
      "\n",
      "            commissive       0.22      0.35      0.27       171\n",
      "           declarative       0.08      0.08      0.08       178\n",
      " directive/instructive       0.42      0.30      0.35       487\n",
      "informative/persuasive       0.47      0.07      0.12      1125\n",
      "         miscellaneous       0.12      0.86      0.21       158\n",
      "\n",
      "              accuracy                           0.20      2119\n",
      "             macro avg       0.26      0.33      0.20      2119\n",
      "          weighted avg       0.38      0.20      0.19      2119\n",
      "\n"
     ]
    }
   ],
   "source": [
    "print(classification_report(trainingfile[\"SA Label\"].tolist(), trainingfile[\"rule_based_label\"].tolist()))"
   ]
  },
  {
   "cell_type": "code",
   "execution_count": 21,
   "id": "charming-dating",
   "metadata": {},
   "outputs": [
    {
     "name": "stdout",
     "output_type": "stream",
     "text": [
      "[[ 76  21  11  48   5]\n",
      " [159 144  19  14   8]\n",
      " [ 97 106  60   9   1]\n",
      " [ 83  77  10  15   8]\n",
      " [710 139  71  92 136]]\n"
     ]
    },
    {
     "data": {
      "text/plain": [
       "<matplotlib.axes._subplots.AxesSubplot at 0x7f843542b710>"
      ]
     },
     "execution_count": 21,
     "metadata": {},
     "output_type": "execute_result"
    },
    {
     "data": {
      "image/png": "[encoded data removed]",
      "text/plain": [
       "<Figure size 720x504 with 2 Axes>"
      ]
     },
     "metadata": {
      "needs_background": "light"
     },
     "output_type": "display_data"
    }
   ],
   "source": [
    "labels=['informative/persuasive','directive/instructive', 'commissive', 'declarative', 'miscellaneous']\n",
    "x = labels\n",
    "y = labels\n",
    "\n",
    "cm = confusion_matrix(trainingfile[\"rule_based_label\"].tolist(), trainingfile[\"SA Label\"].tolist(), normalize=None, labels=labels)\n",
    "\n",
    "print(cm)\n",
    "#fig = ff.create_annotated_heatmap(cm, x=x, y=y, annotation_text=z_text, colorscale='Viridis')\n",
    "#fig.show(\"notebook\")\n",
    "\n",
    "plt.figure(figsize = (10,7))\n",
    "plot = sns.heatmap(cm, annot=True, xticklabels=x, yticklabels=y, cmap='Blues', fmt='d')\n",
    "plot.set_xlabel(\"True label\")\n",
    "plot.set_ylabel(\"Prediction\")\n",
    "plot\n"
   ]
  },
  {
   "cell_type": "markdown",
   "id": "designing-drama",
   "metadata": {},
   "source": [
    "## Generate SAV features for ensemble model and write to CSV"
   ]
  },
  {
   "cell_type": "code",
   "execution_count": 22,
   "id": "brilliant-defense",
   "metadata": {},
   "outputs": [],
   "source": [
    "SAV_dict_df = pd.DataFrame(label_dict_list)\n",
    "SAV_dict_df.to_csv(\"SAV_features.csv\", sep=';')"
   ]
  },
  {
   "cell_type": "code",
   "execution_count": null,
   "id": "hourly-heating",
   "metadata": {},
   "outputs": [],
   "source": []
  },
  {
   "cell_type": "markdown",
   "id": "documentary-justice",
   "metadata": {},
   "source": [
    "## Performance on development & test set (for comparison)"
   ]
  },
  {
   "cell_type": "markdown",
   "id": "better-prospect",
   "metadata": {},
   "source": [
    "### Development"
   ]
  },
  {
   "cell_type": "code",
   "execution_count": 23,
   "id": "posted-capability",
   "metadata": {},
   "outputs": [],
   "source": [
    "trainingfile = pd.read_csv('DatasetSA_classification.csv', sep=';')\n",
    "\n",
    "trainingfile = trainingfile[['FileName', 'FileCaption', 'Text', 'len_text', 'cleaned_text', 'SA Label' ]]\n",
    "trainingfile = trainingfile.dropna(subset=['SA Label'])\n",
    "trainingfile = trainingfile.drop_duplicates(subset= 'cleaned_text')\n",
    "\n",
    "X = trainingfile[['cleaned_text']]\n",
    "y = trainingfile['SA Label']\n",
    "\n",
    "X_train, X_valtest, y_train, y_valtest = train_test_split(X, y, test_size=0.2, random_state=42, stratify=trainingfile['SA Label'])\n",
    "\n",
    "X_val, X_test, y_val, y_test = train_test_split(X_valtest, y_valtest, test_size= 0.5, random_state=42, stratify=y_valtest)\n",
    "\n",
    "\n"
   ]
  },
  {
   "cell_type": "code",
   "execution_count": null,
   "id": "aggregate-package",
   "metadata": {},
   "outputs": [],
   "source": []
  },
  {
   "cell_type": "code",
   "execution_count": 24,
   "id": "german-magazine",
   "metadata": {},
   "outputs": [],
   "source": [
    "lemmatized_list_val = []\n",
    "\n",
    "for text in X_val[\"cleaned_text\"]:\n",
    "    lemmatized_list_val.append(cleaning(text, sw_corpus))\n",
    "    \n",
    "X_val[\"lemmatized_text\"] = lemmatized_list_val"
   ]
  },
  {
   "cell_type": "code",
   "execution_count": 25,
   "id": "rapid-syntax",
   "metadata": {},
   "outputs": [],
   "source": [
    "label_dict_list_val = []\n",
    "for sent in lemmatized_list_val:\n",
    "    label_dict_list_val.append(find_SAV_label(sent, final_dict_SAV)[0])\n",
    "    \n",
    "X_val[\"label_dict\"] = label_dict_list_val"
   ]
  },
  {
   "cell_type": "code",
   "execution_count": 26,
   "id": "comparable-guarantee",
   "metadata": {},
   "outputs": [],
   "source": [
    "X_val[\"rule_based_label\"] = make_judgement(label_dict_list_val)"
   ]
  },
  {
   "cell_type": "code",
   "execution_count": null,
   "id": "monetary-hartford",
   "metadata": {},
   "outputs": [],
   "source": []
  },
  {
   "cell_type": "code",
   "execution_count": 27,
   "id": "simple-variety",
   "metadata": {},
   "outputs": [
    {
     "name": "stdout",
     "output_type": "stream",
     "text": [
      "[[ 4  1  1  4  0]\n",
      " [15 18  3  2  0]\n",
      " [10 13  5  0  0]\n",
      " [12  5  0  1  3]\n",
      " [72 11  8 11 13]]\n"
     ]
    },
    {
     "data": {
      "image/png": "[encoded data removed]",
      "text/plain": [
       "<Figure size 720x504 with 2 Axes>"
      ]
     },
     "metadata": {
      "needs_background": "light"
     },
     "output_type": "display_data"
    }
   ],
   "source": [
    "labels=['informative/persuasive','directive/instructive', 'commissive', 'declarative', 'miscellaneous']\n",
    "x = labels\n",
    "y = labels\n",
    "\n",
    "cm = confusion_matrix(X_val[\"rule_based_label\"].tolist(), y_val.tolist(), normalize=None, labels=labels)\n",
    "\n",
    "print(cm)\n",
    "#fig = ff.create_annotated_heatmap(cm, x=x, y=y, annotation_text=z_text, colorscale='Viridis')\n",
    "#fig.show(\"notebook\")\n",
    "\n",
    "plt.figure(figsize = (10,7))\n",
    "plot = sns.heatmap(cm, annot=True, xticklabels=x, yticklabels=y, cmap='Blues', fmt='d')\n",
    "plot.set_xlabel(\"True label\")\n",
    "plot.set_ylabel(\"Prediction\")\n",
    "plt.tight_layout(pad=2)\n",
    "plot\n",
    "plt.tight_layout(pad=2)\n",
    "plot.figure.savefig('pics/RBS_val.png')"
   ]
  },
  {
   "cell_type": "code",
   "execution_count": 28,
   "id": "blind-pendant",
   "metadata": {},
   "outputs": [
    {
     "name": "stdout",
     "output_type": "stream",
     "text": [
      "                        precision    recall  f1-score   support\n",
      "\n",
      "            commissive       0.29      0.18      0.22        28\n",
      "           declarative       0.06      0.05      0.05        21\n",
      " directive/instructive       0.38      0.47      0.42        38\n",
      "informative/persuasive       0.04      0.40      0.07        10\n",
      "         miscellaneous       0.81      0.11      0.20       115\n",
      "\n",
      "              accuracy                           0.19       212\n",
      "             macro avg       0.31      0.24      0.19       212\n",
      "          weighted avg       0.55      0.19      0.22       212\n",
      "\n"
     ]
    }
   ],
   "source": [
    "print(classification_report(X_val[\"rule_based_label\"].tolist(), y_val.tolist()))"
   ]
  },
  {
   "cell_type": "markdown",
   "id": "sharp-highway",
   "metadata": {},
   "source": [
    "### test"
   ]
  },
  {
   "cell_type": "code",
   "execution_count": 29,
   "id": "intense-twist",
   "metadata": {},
   "outputs": [],
   "source": [
    "lemmatized_list_test = []\n",
    "\n",
    "for text in X_test[\"cleaned_text\"]:\n",
    "    lemmatized_list_test.append(cleaning(text, sw_corpus))\n",
    "    \n",
    "X_test[\"lemmatized_text\"] = lemmatized_list_test"
   ]
  },
  {
   "cell_type": "code",
   "execution_count": 30,
   "id": "checked-fundamental",
   "metadata": {},
   "outputs": [],
   "source": [
    "label_dict_list_test = []\n",
    "for sent in lemmatized_list_test:\n",
    "    label_dict_list_test.append(find_SAV_label(sent, final_dict_SAV)[0])\n",
    "    \n",
    "X_test[\"label_dict\"] = label_dict_list_test"
   ]
  },
  {
   "cell_type": "code",
   "execution_count": 31,
   "id": "twelve-album",
   "metadata": {},
   "outputs": [],
   "source": [
    "X_test[\"rule_based_label\"] = make_judgement(label_dict_list_test)"
   ]
  },
  {
   "cell_type": "code",
   "execution_count": 32,
   "id": "protecting-israel",
   "metadata": {},
   "outputs": [
    {
     "name": "stdout",
     "output_type": "stream",
     "text": [
      "[[10  4  1  7  0]\n",
      " [15 11  2  1  1]\n",
      " [10 12  6  1  0]\n",
      " [ 9  7  3  1  0]\n",
      " [68 15  5  8 15]]\n"
     ]
    },
    {
     "data": {
      "image/png": "[encoded data removed]",
      "text/plain": [
       "<Figure size 720x504 with 2 Axes>"
      ]
     },
     "metadata": {
      "needs_background": "light"
     },
     "output_type": "display_data"
    }
   ],
   "source": [
    "labels=['informative/persuasive','directive/instructive', 'commissive', 'declarative', 'miscellaneous']\n",
    "x = labels\n",
    "y = labels\n",
    "\n",
    "cm = confusion_matrix(X_test[\"rule_based_label\"].tolist(), y_test.tolist(), normalize=None, labels=labels)\n",
    "\n",
    "print(cm)\n",
    "#fig = ff.create_annotated_heatmap(cm, x=x, y=y, annotation_text=z_text, colorscale='Viridis')\n",
    "#fig.show(\"notebook\")\n",
    "\n",
    "plt.figure(figsize = (10,7))\n",
    "plot = sns.heatmap(cm, annot=True, xticklabels=x, yticklabels=y, cmap='Blues', fmt='d')\n",
    "plot.set_xlabel(\"True label\")\n",
    "plot.set_ylabel(\"Prediction\")\n",
    "plot\n",
    "plt.tight_layout(pad=2)\n",
    "plot.figure.savefig('pics/RBS_test.png')"
   ]
  },
  {
   "cell_type": "code",
   "execution_count": 33,
   "id": "synthetic-figure",
   "metadata": {},
   "outputs": [
    {
     "name": "stdout",
     "output_type": "stream",
     "text": [
      "                        precision    recall  f1-score   support\n",
      "\n",
      "            commissive       0.35      0.21      0.26        29\n",
      "           declarative       0.06      0.05      0.05        20\n",
      " directive/instructive       0.22      0.37      0.28        30\n",
      "informative/persuasive       0.09      0.45      0.15        22\n",
      "         miscellaneous       0.94      0.14      0.24       111\n",
      "\n",
      "              accuracy                           0.20       212\n",
      "             macro avg       0.33      0.24      0.20       212\n",
      "          weighted avg       0.59      0.20      0.22       212\n",
      "\n"
     ]
    }
   ],
   "source": [
    "print(classification_report(X_test[\"rule_based_label\"].tolist(), y_test.tolist()))"
   ]
  },
  {
   "cell_type": "code",
   "execution_count": 34,
   "id": "excited-basement",
   "metadata": {},
   "outputs": [
    {
     "data": {
      "text/plain": [
       "Counter({'miscellaneous': 115,\n",
       "         'directive/instructive': 38,\n",
       "         'commissive': 28,\n",
       "         'informative/persuasive': 10,\n",
       "         'declarative': 21})"
      ]
     },
     "execution_count": 34,
     "metadata": {},
     "output_type": "execute_result"
    }
   ],
   "source": [
    "Counter(X_val['rule_based_label'])"
   ]
  },
  {
   "cell_type": "code",
   "execution_count": 35,
   "id": "american-murder",
   "metadata": {},
   "outputs": [
    {
     "data": {
      "text/plain": [
       "Counter({'directive/instructive': 49,\n",
       "         'informative/persuasive': 112,\n",
       "         'miscellaneous': 16,\n",
       "         'commissive': 17,\n",
       "         'declarative': 18})"
      ]
     },
     "execution_count": 35,
     "metadata": {},
     "output_type": "execute_result"
    }
   ],
   "source": [
    "Counter(y_test)"
   ]
  },
  {
   "cell_type": "markdown",
   "id": "indirect-investment",
   "metadata": {},
   "source": [
    "## Error analysis"
   ]
  },
  {
   "cell_type": "code",
   "execution_count": 36,
   "id": "numerical-cycle",
   "metadata": {},
   "outputs": [],
   "source": [
    "error_analysis = X_test"
   ]
  },
  {
   "cell_type": "code",
   "execution_count": 37,
   "id": "inappropriate-announcement",
   "metadata": {},
   "outputs": [
    {
     "data": {
      "text/plain": [
       "(212, 4)"
      ]
     },
     "execution_count": 37,
     "metadata": {},
     "output_type": "execute_result"
    }
   ],
   "source": [
    "error_analysis.shape"
   ]
  },
  {
   "cell_type": "code",
   "execution_count": 38,
   "id": "little-lodging",
   "metadata": {},
   "outputs": [],
   "source": [
    "error_analysis[\"gold label\"] = y_test"
   ]
  },
  {
   "cell_type": "code",
   "execution_count": 85,
   "id": "soviet-desire",
   "metadata": {},
   "outputs": [
    {
     "name": "stdout",
     "output_type": "stream",
     "text": [
      "FINAL COUNTS\n",
      "counter:  212\n",
      "errors:  169\n",
      "ties:  0\n",
      "zero dicts:  0\n"
     ]
    }
   ],
   "source": [
    "counter = 0\n",
    "error_counter = 0\n",
    "values_list = []\n",
    "values_counter = 0\n",
    "zero_dict_counter = 0\n",
    "for row in error_analysis.values:\n",
    "    counter += 1\n",
    "    if row[-1] != row[-2]:\n",
    "        values_list = []\n",
    "        values_counter = 0\n",
    "        error_counter += 1\n",
    "        #if row[-2] == 'directive/instructive':\n",
    "        #if 'sturen' in row[1]:\n",
    "                #error_counter += 1\n",
    "                #print(row)\n",
    "                #print()\n",
    "                #zero_dict_counter += 1\n",
    "                #continue\n",
    "        #print(\"Sentence: \", row[0][:50])\n",
    "        #print(\"decision dict: \", row[2])\n",
    "    for key, value in row[2].items():\n",
    "        if value >= 1:\n",
    "            values_list.append(key)\n",
    "            values_counter += 1\n",
    "    #if row[-1] == row[-2]:\n",
    "    #if 'moeten' in row[1]:\n",
    "        #zero_dict_counter += 1\n",
    "   # if values_counter >= 2:\n",
    "        #print(row)\n",
    "        #print()\n",
    "        #zero_dict_counter += 1\n",
    "        \n",
    "       # if row[2] == {'declarative': 0, 'commissive': 0, 'directive/instructive': 0, 'informative/persuasive': 0, 'miscellaneous': 0}:\n",
    "           # zero_dict_counter += 1 \n",
    "           # print(row)\n",
    "           # print()\n",
    "        \n",
    "        \n",
    "        #print(\"gold label: \", row[-1], '-- predicted label: ', row[-2])\n",
    "            \n",
    "        \n",
    "print(\"FINAL COUNTS\")        \n",
    "print(\"counter: \", counter)\n",
    "print(\"errors: \", error_counter)\n",
    "print(\"ties: \", values_counter)\n",
    "print(\"zero dicts: \", zero_dict_counter)"
   ]
  },
  {
   "cell_type": "code",
   "execution_count": null,
   "id": "textile-listening",
   "metadata": {},
   "outputs": [],
   "source": [
    "Counter(final_dict_SAV.values())"
   ]
  },
  {
   "cell_type": "code",
   "execution_count": null,
   "id": "younger-bidding",
   "metadata": {},
   "outputs": [],
   "source": [
    "len(final_dict_SAV.values())"
   ]
  },
  {
   "cell_type": "code",
   "execution_count": null,
   "id": "hungry-orchestra",
   "metadata": {},
   "outputs": [],
   "source": []
  },
  {
   "cell_type": "code",
   "execution_count": null,
   "id": "three-intention",
   "metadata": {},
   "outputs": [],
   "source": []
  }
 ],
 "metadata": {
  "kernelspec": {
   "display_name": "Python 3",
   "language": "python",
   "name": "python3"
  },
  "language_info": {
   "codemirror_mode": {
    "name": "ipython",
    "version": 3
   },
   "file_extension": ".py",
   "mimetype": "text/x-python",
   "name": "python",
   "nbconvert_exporter": "python",
   "pygments_lexer": "ipython3",
   "version": "3.6.12"
  }
 },
 "nbformat": 4,
 "nbformat_minor": 5
}
