{
 "cells": [
  {
   "cell_type": "code",
   "execution_count": 3,
   "id": "lovely-service",
   "metadata": {},
   "outputs": [],
   "source": [
    "import pandas as pd\n",
    "import numpy as np\n",
    "import sys\n",
    "import os\n",
    "import nltk\n",
    "import gensim\n",
    "import csv\n",
    "import re\n",
    "import pickle as pkl\n",
    "import string\n",
    "\n",
    "from sklearn import svm\n",
    "from sklearn.model_selection import train_test_split, GridSearchCV\n",
    "from sklearn.feature_extraction import DictVectorizer\n",
    "from sklearn.feature_extraction.text import TfidfVectorizer, CountVectorizer\n",
    "from sklearn.preprocessing import LabelEncoder, OneHotEncoder\n",
    "from sklearn.metrics import confusion_matrix, roc_curve, classification_report, accuracy_score\n",
    "from sklearn.datasets import make_classification\n",
    "from sklearn.tree import DecisionTreeClassifier\n",
    "from sklearn.naive_bayes import MultinomialNB\n",
    "from skmultilearn.problem_transform import BinaryRelevance, ClassifierChain, LabelPowerset\n",
    "\n",
    "from nltk.stem import WordNetLemmatizer\n",
    "from nltk.tokenize import word_tokenize\n",
    "from nltk.corpus import stopwords\n",
    "\n",
    "from spacy.lang.nl import Dutch\n",
    "import nl_bertje\n",
    "\n",
    "from collections import Counter\n",
    "\n",
    "import plotly\n",
    "\n",
    "import matplotlib.pyplot as plt\n",
    "import seaborn as sns\n",
    "import plotly.figure_factory as ff\n",
    "\n",
    "from catboost import CatBoostClassifier, Pool\n",
    "from sklearn.model_selection import train_test_split, KFold, StratifiedKFold\n",
    "\n",
    "import imblearn\n",
    "from imblearn.over_sampling import RandomOverSampler\n",
    "from imblearn.under_sampling import RandomUnderSampler"
   ]
  },
  {
   "cell_type": "code",
   "execution_count": 2,
   "id": "valid-express",
   "metadata": {},
   "outputs": [
    {
     "name": "stdout",
     "output_type": "stream",
     "text": [
      "(2119, 6)\n"
     ]
    },
    {
     "data": {
      "text/plain": [
       "FileName                                               NCV113.xml\n",
       "FileCaption     NCV113 Meded pandrecht en inning verpande vord...\n",
       "Text            Betreft: Mededeling pandrecht en inning verpan...\n",
       "len_text                                                     1724\n",
       "cleaned_text    Mededeling pandrecht en inning verpande vorder...\n",
       "SA Label                                   informative/persuasive\n",
       "Name: 0, dtype: object"
      ]
     },
     "execution_count": 2,
     "metadata": {},
     "output_type": "execute_result"
    }
   ],
   "source": [
    "trainingfile = pd.read_csv('DatasetSA_classification.csv', sep=';')\n",
    "trainingfile.dropna(subset=['SA Label'])\n",
    "trainingfile = trainingfile[['FileName', 'FileCaption', 'Text', 'len_text', 'cleaned_text', 'SA Label' ]]\n",
    "trainingfile = trainingfile.dropna(subset=['SA Label'])\n",
    "trainingfile = trainingfile.drop_duplicates(subset= 'cleaned_text')\n",
    "print(trainingfile.shape)\n",
    "trainingfile.iloc[0]"
   ]
  },
  {
   "cell_type": "markdown",
   "id": "chemical-adelaide",
   "metadata": {},
   "source": [
    "# Approaching the task as multilabel classification problem"
   ]
  },
  {
   "cell_type": "markdown",
   "id": "federal-compromise",
   "metadata": {},
   "source": [
    "### SVM"
   ]
  },
  {
   "cell_type": "code",
   "execution_count": 3,
   "id": "indonesian-constitution",
   "metadata": {},
   "outputs": [],
   "source": [
    "labelencoder = LabelEncoder()\n",
    "tfidf = TfidfVectorizer()\n",
    "onehotencoder = OneHotEncoder()\n",
    "count_vectorizer = CountVectorizer()"
   ]
  },
  {
   "cell_type": "code",
   "execution_count": 4,
   "id": "olive-blair",
   "metadata": {},
   "outputs": [
    {
     "name": "stdout",
     "output_type": "stream",
     "text": [
      "(2119, 5)\n",
      "Counter({'informative/persuasive': 1125, 'directive/instructive': 487, 'declarative': 178, 'commissive': 171, 'miscellaneous': 158})\n",
      "\n",
      "VALIDATION:\n",
      "0.49174528301886794\n",
      "              precision    recall  f1-score   support\n",
      "\n",
      "           0       0.33      0.01      0.03        69\n",
      "           1       0.58      0.10      0.17        71\n",
      "           2       0.89      0.37      0.53       195\n",
      "           3       0.72      0.74      0.73       450\n",
      "           4       0.56      0.08      0.14        63\n",
      "\n",
      "   micro avg       0.74      0.49      0.59       848\n",
      "   macro avg       0.62      0.26      0.32       848\n",
      "weighted avg       0.70      0.49      0.53       848\n",
      " samples avg       0.49      0.49      0.49       848\n",
      "\n",
      "\n"
     ]
    },
    {
     "name": "stderr",
     "output_type": "stream",
     "text": [
      "/home/ADS/rinkl00_w00215/stageLR/lib64/python3.6/site-packages/sklearn/metrics/_classification.py:1245: UndefinedMetricWarning:\n",
      "\n",
      "Precision and F-score are ill-defined and being set to 0.0 in samples with no predicted labels. Use `zero_division` parameter to control this behavior.\n",
      "\n"
     ]
    },
    {
     "name": "stdout",
     "output_type": "stream",
     "text": [
      "TEST:\n",
      "0.4716981132075472\n",
      "              precision    recall  f1-score   support\n",
      "\n",
      "           0       0.50      0.01      0.03        68\n",
      "           1       0.50      0.06      0.10        72\n",
      "           2       0.85      0.30      0.44       195\n",
      "           3       0.68      0.74      0.71       450\n",
      "           4       0.62      0.08      0.14        63\n",
      "\n",
      "   micro avg       0.70      0.47      0.56       848\n",
      "   macro avg       0.63      0.24      0.28       848\n",
      "weighted avg       0.69      0.47      0.50       848\n",
      " samples avg       0.47      0.47      0.47       848\n",
      "\n",
      "\n",
      "<class 'scipy.sparse.csc.csc_matrix'>\n"
     ]
    },
    {
     "name": "stderr",
     "output_type": "stream",
     "text": [
      "/home/ADS/rinkl00_w00215/stageLR/lib64/python3.6/site-packages/sklearn/metrics/_classification.py:1245: UndefinedMetricWarning:\n",
      "\n",
      "Precision and F-score are ill-defined and being set to 0.0 in samples with no predicted labels. Use `zero_division` parameter to control this behavior.\n",
      "\n"
     ]
    },
    {
     "data": {
      "text/plain": [
       "<848x5 sparse matrix of type '<class 'numpy.float64'>'\n",
       "\twith 574 stored elements in Compressed Sparse Column format>"
      ]
     },
     "execution_count": 4,
     "metadata": {},
     "output_type": "execute_result"
    }
   ],
   "source": [
    "trainingfile = pd.read_csv('DatasetSA_classification.csv', sep=';')\n",
    "trainingfile.dropna(subset=['SA Label'])\n",
    "trainingfile = trainingfile[['FileName', 'FileCaption', 'Text', 'len_text', 'cleaned_text', 'SA Label' ]]\n",
    "trainingfile = trainingfile.dropna(subset=['SA Label'])\n",
    "trainingfile = trainingfile.drop_duplicates(subset= 'cleaned_text')\n",
    "\n",
    "X = trainingfile[\"cleaned_text\"]\n",
    "y = trainingfile[\"SA Label\"]\n",
    "y_enc = labelencoder.fit_transform(y)\n",
    "y_onehot = onehotencoder.fit_transform(y.values.reshape(-1,1)).toarray()\n",
    "\n",
    "X_array = tfidf.fit_transform(X).toarray()\n",
    "\n",
    "X_train, X_valtest, y_train, y_valtest = train_test_split(X_array, y_onehot, test_size=0.8, random_state=42, stratify=trainingfile['SA Label'])\n",
    "\n",
    "X_val, X_test, y_val, y_test = train_test_split(X_valtest, y_valtest, test_size= 0.5, random_state=42, stratify=y_valtest)\n",
    "\n",
    "print(y_onehot.shape)\n",
    "print(Counter(y))\n",
    "print()\n",
    "\n",
    "test = onehotencoder.inverse_transform(y_onehot)\n",
    "\n",
    "binary_rel_clf = BinaryRelevance(svm.SVC(kernel='rbf', C=5000, gamma='scale'))\n",
    "binary_rel_clf.fit(X_train,y_train)\n",
    "\n",
    "\n",
    "pred = binary_rel_clf.predict(X_val)\n",
    "print(\"VALIDATION:\")\n",
    "print(accuracy_score(y_val, pred))\n",
    "print(classification_report(y_val, pred))\n",
    "#cm = confusion_matrix(pred, y_val, normalize=None, labels=labels)\n",
    "#print(cm)\n",
    "print()\n",
    "\n",
    "pred = binary_rel_clf.predict(X_test)\n",
    "print(\"TEST:\")\n",
    "print(accuracy_score(y_test, pred))\n",
    "print(classification_report(y_test, pred))\n",
    "#cm = confusion_matrix(labelencoder.inverse_transform(pred), labelencoder.inverse_transform(y_test), normalize=None, labels=labels)\n",
    "#print(cm)\n",
    "print()\n",
    "print(type(pred))\n",
    "pred\n"
   ]
  },
  {
   "cell_type": "markdown",
   "id": "similar-fireplace",
   "metadata": {},
   "source": [
    "### DT\n"
   ]
  },
  {
   "cell_type": "code",
   "execution_count": 5,
   "id": "adequate-volunteer",
   "metadata": {},
   "outputs": [
    {
     "name": "stdout",
     "output_type": "stream",
     "text": [
      "VALIDATION:\n",
      "0.40212264150943394\n",
      "              precision    recall  f1-score   support\n",
      "\n",
      "           0       0.38      0.28      0.32        69\n",
      "           1       0.35      0.25      0.29        71\n",
      "           2       0.72      0.55      0.62       195\n",
      "           3       0.61      0.63      0.62       450\n",
      "           4       0.39      0.25      0.31        63\n",
      "\n",
      "   micro avg       0.59      0.52      0.56       848\n",
      "   macro avg       0.49      0.39      0.43       848\n",
      "weighted avg       0.58      0.52      0.55       848\n",
      " samples avg       0.46      0.52      0.48       848\n",
      "\n",
      "\n",
      "TEST:\n",
      "0.3856132075471698\n",
      "              precision    recall  f1-score   support\n",
      "\n",
      "           0       0.33      0.22      0.27        68\n",
      "           1       0.38      0.24      0.29        72\n",
      "           2       0.68      0.53      0.60       195\n",
      "           3       0.61      0.59      0.60       450\n",
      "           4       0.36      0.24      0.29        63\n",
      "\n",
      "   micro avg       0.58      0.49      0.53       848\n",
      "   macro avg       0.47      0.36      0.41       848\n",
      "weighted avg       0.57      0.49      0.52       848\n",
      " samples avg       0.44      0.49      0.46       848\n",
      "\n",
      "\n"
     ]
    },
    {
     "name": "stderr",
     "output_type": "stream",
     "text": [
      "/home/ADS/rinkl00_w00215/stageLR/lib64/python3.6/site-packages/sklearn/metrics/_classification.py:1245: UndefinedMetricWarning:\n",
      "\n",
      "Precision and F-score are ill-defined and being set to 0.0 in samples with no predicted labels. Use `zero_division` parameter to control this behavior.\n",
      "\n",
      "/home/ADS/rinkl00_w00215/stageLR/lib64/python3.6/site-packages/sklearn/metrics/_classification.py:1245: UndefinedMetricWarning:\n",
      "\n",
      "Precision and F-score are ill-defined and being set to 0.0 in samples with no predicted labels. Use `zero_division` parameter to control this behavior.\n",
      "\n"
     ]
    }
   ],
   "source": [
    "binary_rel_clf = BinaryRelevance(DecisionTreeClassifier(max_depth=15, random_state = 42))\n",
    "binary_rel_clf.fit(X_train,y_train)\n",
    "\n",
    "pred = binary_rel_clf.predict(X_val)\n",
    "print(\"VALIDATION:\")\n",
    "print(accuracy_score(y_val, pred))\n",
    "print(classification_report(y_val, pred))\n",
    "print()\n",
    "\n",
    "pred = binary_rel_clf.predict(X_test)\n",
    "print(\"TEST:\")\n",
    "print(accuracy_score(y_test, pred))\n",
    "print(classification_report(y_test, pred))\n",
    "print()"
   ]
  },
  {
   "cell_type": "code",
   "execution_count": null,
   "id": "nasty-latino",
   "metadata": {},
   "outputs": [],
   "source": []
  },
  {
   "cell_type": "markdown",
   "id": "small-microphone",
   "metadata": {},
   "source": [
    "# Undersampling the informative/persuasive category"
   ]
  },
  {
   "cell_type": "code",
   "execution_count": 6,
   "id": "worthy-patient",
   "metadata": {},
   "outputs": [],
   "source": [
    "trainingfile = pd.read_csv('DatasetSA_classification.csv', sep=';')\n",
    "trainingfile.dropna(subset=['SA Label'])\n",
    "trainingfile = trainingfile[['FileName', 'FileCaption', 'Text', 'len_text', 'cleaned_text', 'SA Label' ]]\n",
    "trainingfile = trainingfile.dropna(subset=['SA Label'])\n",
    "trainingfile = trainingfile.drop_duplicates(subset= 'cleaned_text')\n",
    "\n",
    "X = trainingfile[[\"cleaned_text\", \"SA Label\"]] ##SA Label will be deleted from the X later\n",
    "y = trainingfile[\"SA Label\"]\n",
    "y_enc = labelencoder.fit_transform(y)"
   ]
  },
  {
   "cell_type": "code",
   "execution_count": 7,
   "id": "understanding-manor",
   "metadata": {},
   "outputs": [],
   "source": [
    "X_train, X_valtest, y_train, y_valtest = train_test_split(X, y_enc, test_size=0.2, random_state=42, stratify=trainingfile['SA Label'])\n",
    "\n",
    "X_val, X_test, y_val, y_test = train_test_split(X_valtest, y_valtest, test_size= 0.5, random_state=42, stratify=y_valtest)"
   ]
  },
  {
   "cell_type": "code",
   "execution_count": 8,
   "id": "permanent-substance",
   "metadata": {},
   "outputs": [
    {
     "data": {
      "text/plain": [
       "(1695, 2)"
      ]
     },
     "execution_count": 8,
     "metadata": {},
     "output_type": "execute_result"
    }
   ],
   "source": [
    "X_train.shape"
   ]
  },
  {
   "cell_type": "code",
   "execution_count": 9,
   "id": "complimentary-server",
   "metadata": {},
   "outputs": [
    {
     "name": "stdout",
     "output_type": "stream",
     "text": [
      "Counter({'informative/persuasive': 900, 'directive/instructive': 390, 'declarative': 142, 'commissive': 137, 'miscellaneous': 126})\n"
     ]
    }
   ],
   "source": [
    "X_train = X_train.sort_values('SA Label', ignore_index=True)\n",
    "print(Counter(X_train['SA Label']))\n",
    "#X_train[X_train[\"SA Label\"] == 'informative/persuasive']"
   ]
  },
  {
   "cell_type": "code",
   "execution_count": 10,
   "id": "returning-forth",
   "metadata": {},
   "outputs": [],
   "source": [
    "to_remove = X_train[X_train[\"SA Label\"] == 'informative/persuasive'].iloc[400:]\n",
    "\n",
    "X_train_undersampled = pd.concat([X_train, to_remove]).drop_duplicates(keep=False)"
   ]
  },
  {
   "cell_type": "code",
   "execution_count": 11,
   "id": "palestinian-divide",
   "metadata": {},
   "outputs": [
    {
     "name": "stdout",
     "output_type": "stream",
     "text": [
      "(1695, 2)\n",
      "(500, 2)\n",
      "(1195, 2)\n"
     ]
    }
   ],
   "source": [
    "print(X_train.shape)\n",
    "print(to_remove.shape)\n",
    "print(X_train_undersampled.shape)"
   ]
  },
  {
   "cell_type": "code",
   "execution_count": 12,
   "id": "imposed-mountain",
   "metadata": {},
   "outputs": [],
   "source": [
    "X_train = X_train_undersampled['cleaned_text']\n",
    "y_train = X_train_undersampled['SA Label']\n",
    "X_val = X_val['cleaned_text']\n",
    "X_test = X_test['cleaned_text']\n",
    "\n",
    "y_train = labelencoder.fit_transform(y_train)"
   ]
  },
  {
   "cell_type": "markdown",
   "id": "greater-horizon",
   "metadata": {},
   "source": [
    "### SVM"
   ]
  },
  {
   "cell_type": "code",
   "execution_count": 13,
   "id": "inclusive-apple",
   "metadata": {},
   "outputs": [],
   "source": [
    "def create_classifier(train_features, train_targets):\n",
    "    model = svm.SVC(kernel='rbf', C=5000, gamma='scale')\n",
    "    vec = DictVectorizer()\n",
    "    features_vectorized = vec.fit_transform(train_features)\n",
    "    model = model.fit(features_vectorized, train_targets)\n",
    "    #model = model.fit(train_features, train_targets)\n",
    "    return model, vec\n",
    "\n",
    "def classify_data(model, vec, inputdata, outputfile):\n",
    "    #/features = extract_features_and_labels(inputdata)[0]\n",
    "    features_vec = vec.transform(inputdata)\n",
    "    predictions = model.predict(features_vec)\n",
    "     \n",
    "    return predictions"
   ]
  },
  {
   "cell_type": "code",
   "execution_count": 14,
   "id": "perfect-format",
   "metadata": {},
   "outputs": [],
   "source": [
    "nlp = Dutch()\n",
    "nlp.add_pipe(nlp.create_pipe('sentencizer'))\n",
    "nlp = nl_bertje.load()\n",
    "\n",
    "def extract_features_labels(trainingfile):\n",
    "    \"\"\"trainingfile moet df zijn\"\"\"\n",
    "    data = []\n",
    "    targets = []\n",
    "    index = -1\n",
    "    new_dict = dict()\n",
    "    features_list = []\n",
    "    vector_list = []\n",
    "    text_list = []\n",
    "    shape_list = []\n",
    "    \n",
    "    trainingfile = trainingfile.values.tolist()\n",
    "    \n",
    "    for row in trainingfile:\n",
    "        #print(row)\n",
    "        text = row\n",
    "        text = str(text).replace('\\n\\n', '')\n",
    "        #print(text, len(text))\n",
    "        if len(text) > 5:\n",
    "            vector = nlp(text).vector\n",
    "            #print(vector.shape)\n",
    "            #shape_list.append(vector.shape)\n",
    "        else:\n",
    "            vector = np.zeros(768)\n",
    "            #print(vector.shape)\n",
    "            #shape_list.append(vector.shape)\n",
    "        #label = row[-1]\n",
    "        feature_dict = {\n",
    "            'text' : text,\n",
    "            #'vector' : vector,\n",
    "            }\n",
    "        \n",
    "        #text_without_sw = \n",
    "        #print(text)\n",
    "        #print(vector)\n",
    "        #break\n",
    "        data.append(feature_dict)\n",
    "        #targets.append(label)\n",
    "        #text_list.append(text)\n",
    "        vector_list.append(vector)\n",
    "            \n",
    "    return data, vector_list  "
   ]
  },
  {
   "cell_type": "code",
   "execution_count": null,
   "id": "scientific-donna",
   "metadata": {},
   "outputs": [],
   "source": []
  },
  {
   "cell_type": "code",
   "execution_count": 15,
   "id": "attached-growth",
   "metadata": {},
   "outputs": [],
   "source": [
    "X_train = extract_features_labels(X_train)[0]\n",
    "X_val = extract_features_labels(X_val)[0]\n",
    "X_test = extract_features_labels(X_test)[0]"
   ]
  },
  {
   "cell_type": "code",
   "execution_count": 16,
   "id": "typical-indonesian",
   "metadata": {},
   "outputs": [],
   "source": [
    "model, vec = create_classifier(X_train, y_train)"
   ]
  },
  {
   "cell_type": "code",
   "execution_count": 17,
   "id": "demographic-reminder",
   "metadata": {},
   "outputs": [
    {
     "name": "stdout",
     "output_type": "stream",
     "text": [
      "Counter({3: 400, 2: 390, 1: 142, 0: 137, 4: 126})\n",
      "Counter({3: 212})\n",
      "Counter({3: 113, 2: 48, 1: 18, 0: 17, 4: 16})\n"
     ]
    }
   ],
   "source": [
    "pred = classify_data(model, vec, X_val, 'pred.csv')\n",
    "print(Counter(y_train))\n",
    "print(Counter(pred))\n",
    "print(Counter(y_val))"
   ]
  },
  {
   "cell_type": "code",
   "execution_count": 18,
   "id": "extraordinary-processor",
   "metadata": {},
   "outputs": [
    {
     "name": "stdout",
     "output_type": "stream",
     "text": [
      "VALIDATION:\n",
      "                        precision    recall  f1-score   support\n",
      "\n",
      "            commissive       0.00      0.00      0.00        17\n",
      "           declarative       0.00      0.00      0.00        18\n",
      " directive/instructive       0.00      0.00      0.00        48\n",
      "informative/persuasive       0.53      1.00      0.70       113\n",
      "         miscellaneous       0.00      0.00      0.00        16\n",
      "\n",
      "              accuracy                           0.53       212\n",
      "             macro avg       0.11      0.20      0.14       212\n",
      "          weighted avg       0.28      0.53      0.37       212\n",
      "\n",
      "[[113  48  17  18  16]\n",
      " [  0   0   0   0   0]\n",
      " [  0   0   0   0   0]\n",
      " [  0   0   0   0   0]\n",
      " [  0   0   0   0   0]]\n"
     ]
    },
    {
     "name": "stderr",
     "output_type": "stream",
     "text": [
      "/home/ADS/rinkl00_w00215/stageLR/lib64/python3.6/site-packages/sklearn/metrics/_classification.py:1245: UndefinedMetricWarning:\n",
      "\n",
      "Precision and F-score are ill-defined and being set to 0.0 in labels with no predicted samples. Use `zero_division` parameter to control this behavior.\n",
      "\n",
      "/home/ADS/rinkl00_w00215/stageLR/lib64/python3.6/site-packages/sklearn/metrics/_classification.py:1245: UndefinedMetricWarning:\n",
      "\n",
      "Precision and F-score are ill-defined and being set to 0.0 in labels with no predicted samples. Use `zero_division` parameter to control this behavior.\n",
      "\n",
      "/home/ADS/rinkl00_w00215/stageLR/lib64/python3.6/site-packages/sklearn/metrics/_classification.py:1245: UndefinedMetricWarning:\n",
      "\n",
      "Precision and F-score are ill-defined and being set to 0.0 in labels with no predicted samples. Use `zero_division` parameter to control this behavior.\n",
      "\n"
     ]
    },
    {
     "data": {
      "image/png": "[encoded data removed]",
      "text/plain": [
       "<Figure size 720x504 with 2 Axes>"
      ]
     },
     "metadata": {
      "needs_background": "light"
     },
     "output_type": "display_data"
    }
   ],
   "source": [
    "print(\"VALIDATION:\")\n",
    "print(classification_report(labelencoder.inverse_transform(y_val.tolist()),labelencoder.inverse_transform(pred.tolist())))\n",
    "\n",
    "labels=['informative/persuasive','directive/instructive', 'commissive', 'declarative', 'miscellaneous']\n",
    "x = labels\n",
    "y = labels\n",
    "\n",
    "cm = confusion_matrix(labelencoder.inverse_transform(pred.tolist()), labelencoder.inverse_transform(y_val.tolist()), normalize=None, labels=labels)\n",
    "\n",
    "print(cm)\n",
    "#fig = ff.create_annotated_heatmap(cm, x=x, y=y, annotation_text=z_text, colorscale='Viridis')\n",
    "#fig.show(\"notebook\")\n",
    "\n",
    "plt.figure(figsize = (10,7))\n",
    "plot = sns.heatmap(cm, annot=True, xticklabels=x, yticklabels=y, cmap='Blues', fmt='d')\n",
    "plot.set_xlabel(\"True label\")\n",
    "plot.set_ylabel(\"Prediction\")\n",
    "plot\n",
    "plt.tight_layout(pad=2)\n",
    "plot.figure.savefig('pics/Add_undersample_SVM_val.png')\n"
   ]
  },
  {
   "cell_type": "code",
   "execution_count": 19,
   "id": "contained-czech",
   "metadata": {},
   "outputs": [
    {
     "name": "stdout",
     "output_type": "stream",
     "text": [
      "Counter({3: 400, 2: 390, 1: 142, 0: 137, 4: 126})\n",
      "Counter({3: 212})\n",
      "Counter({3: 112, 2: 49, 1: 18, 0: 17, 4: 16})\n"
     ]
    }
   ],
   "source": [
    "pred = classify_data(model, vec, X_test, 'pred.csv')\n",
    "print(Counter(y_train))\n",
    "print(Counter(pred))\n",
    "print(Counter(y_test))"
   ]
  },
  {
   "cell_type": "code",
   "execution_count": 20,
   "id": "confident-container",
   "metadata": {},
   "outputs": [
    {
     "name": "stdout",
     "output_type": "stream",
     "text": [
      "TEST:\n",
      "                        precision    recall  f1-score   support\n",
      "\n",
      "            commissive       0.00      0.00      0.00        17\n",
      "           declarative       0.00      0.00      0.00        18\n",
      " directive/instructive       0.00      0.00      0.00        49\n",
      "informative/persuasive       0.53      1.00      0.69       112\n",
      "         miscellaneous       0.00      0.00      0.00        16\n",
      "\n",
      "              accuracy                           0.53       212\n",
      "             macro avg       0.11      0.20      0.14       212\n",
      "          weighted avg       0.28      0.53      0.37       212\n",
      "\n",
      "[[112  49  17  18  16]\n",
      " [  0   0   0   0   0]\n",
      " [  0   0   0   0   0]\n",
      " [  0   0   0   0   0]\n",
      " [  0   0   0   0   0]]\n"
     ]
    },
    {
     "name": "stderr",
     "output_type": "stream",
     "text": [
      "/home/ADS/rinkl00_w00215/stageLR/lib64/python3.6/site-packages/sklearn/metrics/_classification.py:1245: UndefinedMetricWarning:\n",
      "\n",
      "Precision and F-score are ill-defined and being set to 0.0 in labels with no predicted samples. Use `zero_division` parameter to control this behavior.\n",
      "\n",
      "/home/ADS/rinkl00_w00215/stageLR/lib64/python3.6/site-packages/sklearn/metrics/_classification.py:1245: UndefinedMetricWarning:\n",
      "\n",
      "Precision and F-score are ill-defined and being set to 0.0 in labels with no predicted samples. Use `zero_division` parameter to control this behavior.\n",
      "\n",
      "/home/ADS/rinkl00_w00215/stageLR/lib64/python3.6/site-packages/sklearn/metrics/_classification.py:1245: UndefinedMetricWarning:\n",
      "\n",
      "Precision and F-score are ill-defined and being set to 0.0 in labels with no predicted samples. Use `zero_division` parameter to control this behavior.\n",
      "\n"
     ]
    },
    {
     "data": {
      "image/png": "[encoded data removed]",
      "text/plain": [
       "<Figure size 720x504 with 2 Axes>"
      ]
     },
     "metadata": {
      "needs_background": "light"
     },
     "output_type": "display_data"
    }
   ],
   "source": [
    "print(\"TEST:\")\n",
    "print(classification_report(labelencoder.inverse_transform(y_test.tolist()),labelencoder.inverse_transform(pred.tolist())))\n",
    "\n",
    "cm = confusion_matrix(labelencoder.inverse_transform(pred.tolist()), labelencoder.inverse_transform(y_test.tolist()), normalize=None, labels=labels)\n",
    "\n",
    "print(cm)\n",
    "#fig = ff.create_annotated_heatmap(cm, x=x, y=y, annotation_text=z_text, colorscale='Viridis')\n",
    "#fig.show(\"notebook\")\n",
    "\n",
    "plt.figure(figsize = (10,7))\n",
    "plot = sns.heatmap(cm, annot=True, xticklabels=x, yticklabels=y, cmap='Blues', fmt='d')\n",
    "plot.set_xlabel(\"True label\")\n",
    "plot.set_ylabel(\"Prediction\")\n",
    "plot\n",
    "plt.tight_layout(pad=2)\n",
    "plot.figure.savefig('pics/Add_undersample_SVM_test.png')\n"
   ]
  },
  {
   "cell_type": "markdown",
   "id": "ceramic-coordination",
   "metadata": {},
   "source": [
    "### DT"
   ]
  },
  {
   "cell_type": "code",
   "execution_count": 21,
   "id": "conditional-tournament",
   "metadata": {},
   "outputs": [],
   "source": [
    "trainingfile = pd.read_csv('DatasetSA_classification.csv', sep=';')\n",
    "trainingfile.dropna(subset=['SA Label'])\n",
    "trainingfile = trainingfile[['FileName', 'FileCaption', 'Text', 'len_text', 'cleaned_text', 'SA Label' ]]\n",
    "trainingfile = trainingfile.dropna(subset=['SA Label'])\n",
    "trainingfile = trainingfile.drop_duplicates(subset= 'cleaned_text')\n",
    "\n",
    "X = trainingfile[[\"cleaned_text\", \"SA Label\"]] ##SA Label will be deleted from the X later\n",
    "y = trainingfile[\"SA Label\"]\n",
    "y_enc = labelencoder.fit_transform(y)\n",
    "\n",
    "X_train, X_valtest, y_train, y_valtest = train_test_split(X, y_enc, test_size=0.2, random_state=42, stratify=trainingfile['SA Label'])\n",
    "X_val, X_test, y_val, y_test = train_test_split(X_valtest, y_valtest, test_size= 0.5, random_state=42, stratify=y_valtest)"
   ]
  },
  {
   "cell_type": "code",
   "execution_count": 22,
   "id": "improved-warehouse",
   "metadata": {},
   "outputs": [
    {
     "name": "stdout",
     "output_type": "stream",
     "text": [
      "Counter({'informative/persuasive': 900, 'directive/instructive': 390, 'declarative': 142, 'commissive': 137, 'miscellaneous': 126})\n",
      "Counter({'informative/persuasive': 450, 'directive/instructive': 390, 'declarative': 142, 'commissive': 137, 'miscellaneous': 126})\n"
     ]
    }
   ],
   "source": [
    "X_train = X_train.sort_values('SA Label', ignore_index=True)\n",
    "print(Counter(X_train['SA Label']))\n",
    "X_train[X_train[\"SA Label\"] == 'informative/persuasive']\n",
    "\n",
    "to_remove = X_train[X_train[\"SA Label\"] == 'informative/persuasive'][450:]\n",
    "X_train_undersampled = pd.concat([X_train, to_remove]).drop_duplicates(keep=False)\n",
    "\n",
    "X_train = X_train_undersampled['cleaned_text']\n",
    "y_train = X_train_undersampled['SA Label']\n",
    "X_val = X_val['cleaned_text']\n",
    "X_test = X_test['cleaned_text']\n",
    "\n",
    "print(Counter(y_train))\n",
    "\n",
    "y_train = labelencoder.fit_transform(y_train)"
   ]
  },
  {
   "cell_type": "code",
   "execution_count": 23,
   "id": "operating-command",
   "metadata": {},
   "outputs": [],
   "source": [
    "X_train = extract_features_labels(X_train)[1]\n",
    "X_val = extract_features_labels(X_val)[1]\n",
    "X_test = extract_features_labels(X_test)[1]"
   ]
  },
  {
   "cell_type": "code",
   "execution_count": 24,
   "id": "toxic-fossil",
   "metadata": {},
   "outputs": [
    {
     "data": {
      "text/plain": [
       "DecisionTreeClassifier(max_depth=15, random_state=42)"
      ]
     },
     "execution_count": 24,
     "metadata": {},
     "output_type": "execute_result"
    }
   ],
   "source": [
    "clf_dt = DecisionTreeClassifier(max_depth=15, random_state = 42)\n",
    "clf_dt.fit(X_train, y_train)"
   ]
  },
  {
   "cell_type": "code",
   "execution_count": 25,
   "id": "funny-brooks",
   "metadata": {},
   "outputs": [
    {
     "name": "stdout",
     "output_type": "stream",
     "text": [
      "15\n",
      "DecisionTreeClassifier(max_depth=15, random_state=42)\n"
     ]
    }
   ],
   "source": [
    "pred_dt = clf_dt.predict(X_val)\n",
    "print(clf_dt.get_depth())\n",
    "\n",
    "print(clf_dt)"
   ]
  },
  {
   "cell_type": "code",
   "execution_count": 26,
   "id": "mediterranean-thought",
   "metadata": {},
   "outputs": [
    {
     "name": "stdout",
     "output_type": "stream",
     "text": [
      "VALIDATION:\n",
      "                        precision    recall  f1-score   support\n",
      "\n",
      "            commissive       0.22      0.41      0.29        17\n",
      "           declarative       0.23      0.28      0.25        18\n",
      " directive/instructive       0.44      0.48      0.46        48\n",
      "informative/persuasive       0.66      0.50      0.57       113\n",
      "         miscellaneous       0.26      0.31      0.29        16\n",
      "\n",
      "              accuracy                           0.46       212\n",
      "             macro avg       0.36      0.40      0.37       212\n",
      "          weighted avg       0.51      0.46      0.47       212\n",
      "\n"
     ]
    }
   ],
   "source": [
    "print(\"VALIDATION:\")\n",
    "print(classification_report(labelencoder.inverse_transform(y_val.tolist()),labelencoder.inverse_transform(pred_dt.tolist())))\n"
   ]
  },
  {
   "cell_type": "code",
   "execution_count": 27,
   "id": "living-visiting",
   "metadata": {},
   "outputs": [
    {
     "name": "stdout",
     "output_type": "stream",
     "text": [
      "[[57 11  5  8  6]\n",
      " [19 23  4  2  4]\n",
      " [14  8  7  2  1]\n",
      " [14  2  1  5  0]\n",
      " [ 9  4  0  1  5]]\n"
     ]
    },
    {
     "data": {
      "image/png": "[encoded data removed]",
      "text/plain": [
       "<Figure size 720x504 with 2 Axes>"
      ]
     },
     "metadata": {
      "needs_background": "light"
     },
     "output_type": "display_data"
    }
   ],
   "source": [
    "\n",
    "cm = confusion_matrix(labelencoder.inverse_transform(pred_dt.tolist()), labelencoder.inverse_transform(y_val.tolist()), normalize=None, labels=labels)\n",
    "\n",
    "print(cm)\n",
    "#fig = ff.create_annotated_heatmap(cm, x=x, y=y, annotation_text=z_text, colorscale='Viridis')\n",
    "#fig.show(\"notebook\")\n",
    "labels=['informative/persuasive','directive/instructive', 'commissive', 'declarative', 'miscellaneous']\n",
    "x = labels\n",
    "y = labels\n",
    "\n",
    "plt.figure(figsize = (10,7))\n",
    "plot = sns.heatmap(cm, annot=True, xticklabels=x, yticklabels=y, cmap='Blues', fmt='d')\n",
    "plot.set_xlabel(\"True label\")\n",
    "plot.set_ylabel(\"Prediction\")\n",
    "plot\n",
    "#plt.tight_layout(pad=2)\n",
    "plot.figure.savefig('pics/Additional_DT_val_under.png')"
   ]
  },
  {
   "cell_type": "code",
   "execution_count": 28,
   "id": "saving-guide",
   "metadata": {},
   "outputs": [
    {
     "name": "stdout",
     "output_type": "stream",
     "text": [
      "TEST:\n",
      "                        precision    recall  f1-score   support\n",
      "\n",
      "            commissive       0.13      0.24      0.17        17\n",
      "           declarative       0.14      0.17      0.15        18\n",
      " directive/instructive       0.41      0.49      0.44        49\n",
      "informative/persuasive       0.69      0.47      0.56       112\n",
      "         miscellaneous       0.30      0.44      0.36        16\n",
      "\n",
      "              accuracy                           0.43       212\n",
      "             macro avg       0.33      0.36      0.34       212\n",
      "          weighted avg       0.50      0.43      0.45       212\n",
      "\n",
      "[[53  7  4  6  7]\n",
      " [22 24  7  5  1]\n",
      " [13 13  4  1  0]\n",
      " [15  1  2  3  1]\n",
      " [ 9  4  0  3  7]]\n"
     ]
    },
    {
     "data": {
      "image/png": "[encoded data removed]",
      "text/plain": [
       "<Figure size 720x504 with 2 Axes>"
      ]
     },
     "metadata": {
      "needs_background": "light"
     },
     "output_type": "display_data"
    }
   ],
   "source": [
    "pred_dt = clf_dt.predict(X_test)\n",
    "\n",
    "labels=['informative/persuasive','directive/instructive', 'commissive', 'declarative', 'miscellaneous']\n",
    "x = labels\n",
    "y = labels\n",
    "\n",
    "print(\"TEST:\")\n",
    "print(classification_report(labelencoder.inverse_transform(y_test.tolist()),labelencoder.inverse_transform(pred_dt.tolist())))\n",
    "\n",
    "cm = confusion_matrix(labelencoder.inverse_transform(pred_dt.tolist()), labelencoder.inverse_transform(y_test.tolist()), normalize=None, labels=labels)\n",
    "\n",
    "print(cm)\n",
    "#fig = ff.create_annotated_heatmap(cm, x=x, y=y, annotation_text=z_text, colorscale='Viridis')\n",
    "#fig.show(\"notebook\")\n",
    "\n",
    "plt.figure(figsize = (10,7))\n",
    "plot = sns.heatmap(cm, annot=True, xticklabels=x, yticklabels=y, cmap='Blues', fmt='d')\n",
    "plot.set_xlabel(\"True label\")\n",
    "plot.set_ylabel(\"Prediction\")\n",
    "plot\n",
    "plt.tight_layout(pad=2)\n",
    "plot.figure.savefig('pics/Additional_DT_test_under.png')\n"
   ]
  },
  {
   "cell_type": "markdown",
   "id": "derived-helicopter",
   "metadata": {},
   "source": [
    "## Oversampling declarative and commissive"
   ]
  },
  {
   "cell_type": "code",
   "execution_count": null,
   "id": "robust-equivalent",
   "metadata": {},
   "outputs": [],
   "source": []
  },
  {
   "cell_type": "code",
   "execution_count": 29,
   "id": "thirty-yemen",
   "metadata": {},
   "outputs": [
    {
     "name": "stdout",
     "output_type": "stream",
     "text": [
      "Counter({'informative/persuasive': 900, 'directive/instructive': 390, 'declarative': 142, 'commissive': 137, 'miscellaneous': 126})\n",
      "Counter({'informative/persuasive': 900, 'declarative': 426, 'commissive': 411, 'directive/instructive': 390, 'miscellaneous': 126})\n"
     ]
    }
   ],
   "source": [
    "trainingfile = pd.read_csv('DatasetSA_classification.csv', sep=';')\n",
    "trainingfile.dropna(subset=['SA Label'])\n",
    "trainingfile = trainingfile[['FileName', 'FileCaption', 'Text', 'len_text', 'cleaned_text', 'SA Label' ]]\n",
    "trainingfile = trainingfile.dropna(subset=['SA Label'])\n",
    "trainingfile = trainingfile.drop_duplicates(subset= 'cleaned_text')\n",
    "\n",
    "X = trainingfile[[\"cleaned_text\", \"SA Label\"]] ##SA Label will be deleted from the X later\n",
    "y = trainingfile[\"SA Label\"]\n",
    "y_enc = labelencoder.fit_transform(y)\n",
    "\n",
    "X_train, X_valtest, y_train, y_valtest = train_test_split(X, y_enc, test_size=0.2, random_state=42, stratify=trainingfile['SA Label'])\n",
    "X_val, X_test, y_val, y_test = train_test_split(X_valtest, y_valtest, test_size= 0.5, random_state=42, stratify=y_valtest)\n",
    "\n",
    "\n",
    "\n",
    "X_train = X_train.sort_values('SA Label', ignore_index=True)\n",
    "print(Counter(X_train['SA Label']))\n",
    "\n",
    "\n",
    "commissive = X_train[X_train[\"SA Label\"] == 'commissive']\n",
    "declarative = X_train[X_train[\"SA Label\"] == 'declarative']\n",
    "\n",
    "X_train_oversampled = pd.concat([X_train, commissive, declarative, commissive, declarative])\n",
    "X_train_oversampled = X_train_oversampled.sample(frac=1).reset_index(drop=True)\n",
    "print(Counter(X_train_oversampled['SA Label']))\n",
    "\n",
    "X_train = X_train_oversampled['cleaned_text']\n",
    "y_train = X_train_oversampled['SA Label']\n",
    "X_val = X_val['cleaned_text']\n",
    "X_test = X_test['cleaned_text']\n",
    "\n",
    "\n",
    "y_train = labelencoder.fit_transform(y_train)"
   ]
  },
  {
   "cell_type": "markdown",
   "id": "automotive-stream",
   "metadata": {},
   "source": [
    "### SVM"
   ]
  },
  {
   "cell_type": "code",
   "execution_count": 30,
   "id": "complicated-pleasure",
   "metadata": {},
   "outputs": [],
   "source": [
    "X_train = extract_features_labels(X_train)[0]\n",
    "X_val = extract_features_labels(X_val)[0]\n",
    "X_test = extract_features_labels(X_test)[0]\n",
    "\n",
    "model, vec = create_classifier(X_train, y_train)"
   ]
  },
  {
   "cell_type": "code",
   "execution_count": 31,
   "id": "serial-discipline",
   "metadata": {},
   "outputs": [
    {
     "name": "stdout",
     "output_type": "stream",
     "text": [
      "Counter({3: 900, 1: 426, 0: 411, 2: 390, 4: 126})\n",
      "Counter({3: 212})\n",
      "Counter({3: 112, 2: 49, 1: 18, 0: 17, 4: 16})\n"
     ]
    }
   ],
   "source": [
    "pred = classify_data(model, vec, X_test, 'pred.csv')\n",
    "print(Counter(y_train))\n",
    "print(Counter(pred))\n",
    "print(Counter(y_test))"
   ]
  },
  {
   "cell_type": "code",
   "execution_count": 32,
   "id": "ignored-employer",
   "metadata": {},
   "outputs": [
    {
     "name": "stdout",
     "output_type": "stream",
     "text": [
      "VALIDATION:\n",
      "                        precision    recall  f1-score   support\n",
      "\n",
      "            commissive       0.00      0.00      0.00        17\n",
      "           declarative       0.00      0.00      0.00        18\n",
      " directive/instructive       0.00      0.00      0.00        48\n",
      "informative/persuasive       0.53      1.00      0.70       113\n",
      "         miscellaneous       0.00      0.00      0.00        16\n",
      "\n",
      "              accuracy                           0.53       212\n",
      "             macro avg       0.11      0.20      0.14       212\n",
      "          weighted avg       0.28      0.53      0.37       212\n",
      "\n",
      "[[113  48  17  18  16]\n",
      " [  0   0   0   0   0]\n",
      " [  0   0   0   0   0]\n",
      " [  0   0   0   0   0]\n",
      " [  0   0   0   0   0]]\n"
     ]
    },
    {
     "name": "stderr",
     "output_type": "stream",
     "text": [
      "/home/ADS/rinkl00_w00215/stageLR/lib64/python3.6/site-packages/sklearn/metrics/_classification.py:1245: UndefinedMetricWarning:\n",
      "\n",
      "Precision and F-score are ill-defined and being set to 0.0 in labels with no predicted samples. Use `zero_division` parameter to control this behavior.\n",
      "\n",
      "/home/ADS/rinkl00_w00215/stageLR/lib64/python3.6/site-packages/sklearn/metrics/_classification.py:1245: UndefinedMetricWarning:\n",
      "\n",
      "Precision and F-score are ill-defined and being set to 0.0 in labels with no predicted samples. Use `zero_division` parameter to control this behavior.\n",
      "\n",
      "/home/ADS/rinkl00_w00215/stageLR/lib64/python3.6/site-packages/sklearn/metrics/_classification.py:1245: UndefinedMetricWarning:\n",
      "\n",
      "Precision and F-score are ill-defined and being set to 0.0 in labels with no predicted samples. Use `zero_division` parameter to control this behavior.\n",
      "\n"
     ]
    },
    {
     "data": {
      "image/png": "[encoded data removed]",
      "text/plain": [
       "<Figure size 720x504 with 2 Axes>"
      ]
     },
     "metadata": {
      "needs_background": "light"
     },
     "output_type": "display_data"
    }
   ],
   "source": [
    "print(\"VALIDATION:\")\n",
    "print(classification_report(labelencoder.inverse_transform(y_val.tolist()),labelencoder.inverse_transform(pred.tolist())))\n",
    "\n",
    "labels=['informative/persuasive','directive/instructive', 'commissive', 'declarative', 'miscellaneous']\n",
    "x = labels\n",
    "y = labels\n",
    "\n",
    "cm = confusion_matrix(labelencoder.inverse_transform(pred.tolist()), labelencoder.inverse_transform(y_val.tolist()), normalize=None, labels=labels)\n",
    "\n",
    "print(cm)\n",
    "#fig = ff.create_annotated_heatmap(cm, x=x, y=y, annotation_text=z_text, colorscale='Viridis')\n",
    "#fig.show(\"notebook\")\n",
    "\n",
    "plt.figure(figsize = (10,7))\n",
    "plot = sns.heatmap(cm, annot=True, xticklabels=x, yticklabels=y, cmap='Blues', fmt='d')\n",
    "plot.set_xlabel(\"True label\")\n",
    "plot.set_ylabel(\"Prediction\")\n",
    "plot\n",
    "plt.tight_layout(pad=2)\n",
    "plot.figure.savefig('pics/Add_oversample_SVM_val.png')\n"
   ]
  },
  {
   "cell_type": "code",
   "execution_count": 33,
   "id": "proof-oasis",
   "metadata": {},
   "outputs": [
    {
     "name": "stdout",
     "output_type": "stream",
     "text": [
      "TEST:\n",
      "                        precision    recall  f1-score   support\n",
      "\n",
      "            commissive       0.00      0.00      0.00        17\n",
      "           declarative       0.00      0.00      0.00        18\n",
      " directive/instructive       0.00      0.00      0.00        49\n",
      "informative/persuasive       0.53      1.00      0.69       112\n",
      "         miscellaneous       0.00      0.00      0.00        16\n",
      "\n",
      "              accuracy                           0.53       212\n",
      "             macro avg       0.11      0.20      0.14       212\n",
      "          weighted avg       0.28      0.53      0.37       212\n",
      "\n",
      "[[112  49  17  18  16]\n",
      " [  0   0   0   0   0]\n",
      " [  0   0   0   0   0]\n",
      " [  0   0   0   0   0]\n",
      " [  0   0   0   0   0]]\n"
     ]
    },
    {
     "name": "stderr",
     "output_type": "stream",
     "text": [
      "/home/ADS/rinkl00_w00215/stageLR/lib64/python3.6/site-packages/sklearn/metrics/_classification.py:1245: UndefinedMetricWarning:\n",
      "\n",
      "Precision and F-score are ill-defined and being set to 0.0 in labels with no predicted samples. Use `zero_division` parameter to control this behavior.\n",
      "\n",
      "/home/ADS/rinkl00_w00215/stageLR/lib64/python3.6/site-packages/sklearn/metrics/_classification.py:1245: UndefinedMetricWarning:\n",
      "\n",
      "Precision and F-score are ill-defined and being set to 0.0 in labels with no predicted samples. Use `zero_division` parameter to control this behavior.\n",
      "\n",
      "/home/ADS/rinkl00_w00215/stageLR/lib64/python3.6/site-packages/sklearn/metrics/_classification.py:1245: UndefinedMetricWarning:\n",
      "\n",
      "Precision and F-score are ill-defined and being set to 0.0 in labels with no predicted samples. Use `zero_division` parameter to control this behavior.\n",
      "\n"
     ]
    },
    {
     "data": {
      "image/png": "[encoded data removed]",
      "text/plain": [
       "<Figure size 720x504 with 2 Axes>"
      ]
     },
     "metadata": {
      "needs_background": "light"
     },
     "output_type": "display_data"
    }
   ],
   "source": [
    "print(\"TEST:\")\n",
    "print(classification_report(labelencoder.inverse_transform(y_test.tolist()),labelencoder.inverse_transform(pred.tolist())))\n",
    "\n",
    "cm = confusion_matrix(labelencoder.inverse_transform(pred.tolist()), labelencoder.inverse_transform(y_test.tolist()), normalize=None, labels=labels)\n",
    "\n",
    "print(cm)\n",
    "#fig = ff.create_annotated_heatmap(cm, x=x, y=y, annotation_text=z_text, colorscale='Viridis')\n",
    "#fig.show(\"notebook\")\n",
    "\n",
    "plt.figure(figsize = (10,7))\n",
    "plot = sns.heatmap(cm, annot=True, xticklabels=x, yticklabels=y, cmap='Blues', fmt='d')\n",
    "plot.set_xlabel(\"True label\")\n",
    "plot.set_ylabel(\"Prediction\")\n",
    "plot\n",
    "plt.tight_layout(pad=2)\n",
    "plot.figure.savefig('pics/Add_oversample_SVM_test.png')"
   ]
  },
  {
   "cell_type": "markdown",
   "id": "passive-shooting",
   "metadata": {},
   "source": [
    "### DT"
   ]
  },
  {
   "cell_type": "code",
   "execution_count": 34,
   "id": "tamil-animation",
   "metadata": {},
   "outputs": [
    {
     "name": "stdout",
     "output_type": "stream",
     "text": [
      "Counter({'informative/persuasive': 900, 'directive/instructive': 390, 'declarative': 142, 'commissive': 137, 'miscellaneous': 126})\n",
      "Counter({'informative/persuasive': 900, 'directive/instructive': 390, 'declarative': 284, 'commissive': 274, 'miscellaneous': 126})\n"
     ]
    }
   ],
   "source": [
    "trainingfile = pd.read_csv('DatasetSA_classification.csv', sep=';')\n",
    "trainingfile.dropna(subset=['SA Label'])\n",
    "trainingfile = trainingfile[['FileName', 'FileCaption', 'Text', 'len_text', 'cleaned_text', 'SA Label' ]]\n",
    "trainingfile = trainingfile.dropna(subset=['SA Label'])\n",
    "trainingfile = trainingfile.drop_duplicates(subset= 'cleaned_text')\n",
    "\n",
    "X = trainingfile[[\"cleaned_text\", \"SA Label\"]] ##SA Label will be deleted from the X later\n",
    "y = trainingfile[\"SA Label\"]\n",
    "y_enc = labelencoder.fit_transform(y)\n",
    "\n",
    "X_train, X_valtest, y_train, y_valtest = train_test_split(X, y_enc, test_size=0.2, random_state=42, stratify=trainingfile['SA Label'])\n",
    "X_val, X_test, y_val, y_test = train_test_split(X_valtest, y_valtest, test_size= 0.5, random_state=42, stratify=y_valtest)\n",
    "\n",
    "\n",
    "\n",
    "X_train = X_train.sort_values('SA Label', ignore_index=True)\n",
    "print(Counter(X_train['SA Label']))\n",
    "\n",
    "\n",
    "commissive = X_train[X_train[\"SA Label\"] == 'commissive']\n",
    "declarative = X_train[X_train[\"SA Label\"] == 'declarative']\n",
    "\n",
    "X_train_oversampled = pd.concat([X_train, commissive, declarative])\n",
    "print(Counter(X_train_oversampled['SA Label']))\n",
    "\n",
    "X_train = X_train_oversampled['cleaned_text']\n",
    "y_train = X_train_oversampled['SA Label']\n",
    "X_val = X_val['cleaned_text']\n",
    "X_test = X_test['cleaned_text']\n",
    "\n",
    "\n",
    "y_train = labelencoder.fit_transform(y_train)\n",
    "\n"
   ]
  },
  {
   "cell_type": "code",
   "execution_count": 35,
   "id": "secure-commerce",
   "metadata": {},
   "outputs": [
    {
     "data": {
      "text/plain": [
       "(1974,)"
      ]
     },
     "execution_count": 35,
     "metadata": {},
     "output_type": "execute_result"
    }
   ],
   "source": [
    "X_train.shape"
   ]
  },
  {
   "cell_type": "code",
   "execution_count": 36,
   "id": "tired-clearance",
   "metadata": {},
   "outputs": [],
   "source": [
    "X_train = extract_features_labels(X_train)[1]\n",
    "X_val = extract_features_labels(X_val)[1]\n",
    "X_test = extract_features_labels(X_test)[1]"
   ]
  },
  {
   "cell_type": "code",
   "execution_count": 37,
   "id": "apart-aircraft",
   "metadata": {},
   "outputs": [
    {
     "data": {
      "text/plain": [
       "DecisionTreeClassifier(max_depth=15, random_state=42)"
      ]
     },
     "execution_count": 37,
     "metadata": {},
     "output_type": "execute_result"
    }
   ],
   "source": [
    "clf_dt = DecisionTreeClassifier(max_depth=15, random_state = 42)\n",
    "clf_dt.fit(X_train, y_train)"
   ]
  },
  {
   "cell_type": "code",
   "execution_count": 38,
   "id": "specified-offer",
   "metadata": {},
   "outputs": [
    {
     "name": "stdout",
     "output_type": "stream",
     "text": [
      "15\n",
      "DecisionTreeClassifier(max_depth=15, random_state=42)\n"
     ]
    }
   ],
   "source": [
    "pred_dt = clf_dt.predict(X_val)\n",
    "print(clf_dt.get_depth())\n",
    "\n",
    "print(clf_dt)"
   ]
  },
  {
   "cell_type": "code",
   "execution_count": 39,
   "id": "floating-suffering",
   "metadata": {},
   "outputs": [
    {
     "name": "stdout",
     "output_type": "stream",
     "text": [
      "VALIDATION:\n",
      "                        precision    recall  f1-score   support\n",
      "\n",
      "            commissive       0.10      0.06      0.07        17\n",
      "           declarative       0.14      0.11      0.12        18\n",
      " directive/instructive       0.48      0.52      0.50        48\n",
      "informative/persuasive       0.67      0.69      0.68       113\n",
      "         miscellaneous       0.35      0.44      0.39        16\n",
      "\n",
      "              accuracy                           0.53       212\n",
      "             macro avg       0.35      0.36      0.35       212\n",
      "          weighted avg       0.51      0.53      0.52       212\n",
      "\n",
      "[[78 14 10  8  6]\n",
      " [14 25  4  6  3]\n",
      " [ 6  3  1  0  0]\n",
      " [ 7  3  2  2  0]\n",
      " [ 8  3  0  2  7]]\n"
     ]
    },
    {
     "data": {
      "image/png": "[encoded data removed]",
      "text/plain": [
       "<Figure size 720x504 with 2 Axes>"
      ]
     },
     "metadata": {
      "needs_background": "light"
     },
     "output_type": "display_data"
    }
   ],
   "source": [
    "print(\"VALIDATION:\")\n",
    "print(classification_report(labelencoder.inverse_transform(y_val.tolist()),labelencoder.inverse_transform(pred_dt.tolist())))\n",
    "\n",
    "\n",
    "cm = confusion_matrix(labelencoder.inverse_transform(pred_dt.tolist()), labelencoder.inverse_transform(y_val.tolist()), normalize=None, labels=labels)\n",
    "\n",
    "print(cm)\n",
    "#fig = ff.create_annotated_heatmap(cm, x=x, y=y, annotation_text=z_text, colorscale='Viridis')\n",
    "#fig.show(\"notebook\")\n",
    "labels=['informative/persuasive','directive/instructive', 'commissive', 'declarative', 'miscellaneous']\n",
    "x = labels\n",
    "y = labels\n",
    "\n",
    "plt.figure(figsize = (10,7))\n",
    "plot = sns.heatmap(cm, annot=True, xticklabels=x, yticklabels=y, cmap='Blues', fmt='d')\n",
    "plot.set_xlabel(\"True label\")\n",
    "plot.set_ylabel(\"Prediction\")\n",
    "plot\n",
    "#plt.tight_layout(pad=2)\n",
    "plot.figure.savefig('pics/Additional_DT_val_over.png')"
   ]
  },
  {
   "cell_type": "code",
   "execution_count": 40,
   "id": "according-jimmy",
   "metadata": {},
   "outputs": [
    {
     "name": "stdout",
     "output_type": "stream",
     "text": [
      "TEST:\n",
      "                        precision    recall  f1-score   support\n",
      "\n",
      "            commissive       0.16      0.18      0.17        17\n",
      "           declarative       0.30      0.33      0.32        18\n",
      " directive/instructive       0.42      0.41      0.41        49\n",
      "informative/persuasive       0.67      0.66      0.66       112\n",
      "         miscellaneous       0.21      0.19      0.20        16\n",
      "\n",
      "              accuracy                           0.50       212\n",
      "             macro avg       0.35      0.35      0.35       212\n",
      "          weighted avg       0.50      0.50      0.50       212\n",
      "\n",
      "[[74 18  7  4  8]\n",
      " [15 20  5  6  2]\n",
      " [ 6  6  3  1  3]\n",
      " [10  2  2  6  0]\n",
      " [ 7  3  0  1  3]]\n"
     ]
    },
    {
     "data": {
      "image/png": "[encoded data removed]",
      "text/plain": [
       "<Figure size 720x504 with 2 Axes>"
      ]
     },
     "metadata": {
      "needs_background": "light"
     },
     "output_type": "display_data"
    }
   ],
   "source": [
    "pred_dt = clf_dt.predict(X_test)\n",
    "\n",
    "labels=['informative/persuasive','directive/instructive', 'commissive', 'declarative', 'miscellaneous']\n",
    "x = labels\n",
    "y = labels\n",
    "\n",
    "print(\"TEST:\")\n",
    "print(classification_report(labelencoder.inverse_transform(y_test.tolist()),labelencoder.inverse_transform(pred_dt.tolist())))\n",
    "\n",
    "cm = confusion_matrix(labelencoder.inverse_transform(pred_dt.tolist()), labelencoder.inverse_transform(y_test.tolist()), normalize=None, labels=labels)\n",
    "\n",
    "print(cm)\n",
    "#fig = ff.create_annotated_heatmap(cm, x=x, y=y, annotation_text=z_text, colorscale='Viridis')\n",
    "#fig.show(\"notebook\")\n",
    "\n",
    "plt.figure(figsize = (10,7))\n",
    "plot = sns.heatmap(cm, annot=True, xticklabels=x, yticklabels=y, cmap='Blues', fmt='d')\n",
    "plot.set_xlabel(\"True label\")\n",
    "plot.set_ylabel(\"Prediction\")\n",
    "plot\n",
    "plt.tight_layout(pad=2)\n",
    "plot.figure.savefig('pics/Additional_DT_test_over.png')\n"
   ]
  },
  {
   "cell_type": "code",
   "execution_count": null,
   "id": "caroline-earthquake",
   "metadata": {},
   "outputs": [],
   "source": []
  },
  {
   "cell_type": "markdown",
   "id": "fitting-february",
   "metadata": {},
   "source": [
    "# Under- and oversampling on CatBoost"
   ]
  },
  {
   "cell_type": "code",
   "execution_count": 18,
   "id": "invalid-edition",
   "metadata": {},
   "outputs": [
    {
     "data": {
      "text/plain": [
       "(212, 3)"
      ]
     },
     "execution_count": 18,
     "metadata": {},
     "output_type": "execute_result"
    }
   ],
   "source": [
    "data = pd.read_csv('DatasetSA_classification.csv', sep=';')\n",
    "data = data[['FileName', 'FileCode', 'FileCaption', 'Text', 'len_text', 'cleaned_text', 'SA Label' ]]\n",
    "data = data.dropna(subset=['SA Label'])\n",
    "data = data.drop_duplicates(subset= 'cleaned_text')\n",
    "data.shape\n",
    "\n",
    "train_data, valtest_data = train_test_split(data[['FileCode', 'cleaned_text', 'SA Label']], stratify=data['SA Label'], test_size=0.2)\n",
    "val_data, test_data = train_test_split(valtest_data[['FileCode', 'cleaned_text', 'SA Label']], stratify=valtest_data['SA Label'], test_size=0.5)\n",
    "\n",
    "val_data.shape\n"
   ]
  },
  {
   "cell_type": "markdown",
   "id": "environmental-turkey",
   "metadata": {},
   "source": [
    "### undersampling"
   ]
  },
  {
   "cell_type": "code",
   "execution_count": 19,
   "id": "driving-costume",
   "metadata": {},
   "outputs": [
    {
     "name": "stdout",
     "output_type": "stream",
     "text": [
      "Counter({'informative/persuasive': 900, 'directive/instructive': 390, 'declarative': 142, 'commissive': 137, 'miscellaneous': 126})\n",
      "(1695, 3)\n"
     ]
    },
    {
     "data": {
      "text/plain": [
       "(1245, 3)"
      ]
     },
     "execution_count": 19,
     "metadata": {},
     "output_type": "execute_result"
    }
   ],
   "source": [
    "train_data = train_data.sort_values('SA Label', ignore_index=True)\n",
    "print(Counter(train_data['SA Label']))\n",
    "print(train_data.shape)\n",
    "\n",
    "\n",
    "inf_pers_undersampled = train_data[train_data[\"SA Label\"] == 'informative/persuasive'][450:]\n",
    "inf_pers_undersampled\n",
    "train_data = pd.concat([train_data, inf_pers_undersampled]).drop_duplicates(keep=False)\n",
    "train_data.shape\n",
    "\n",
    "#X_train = X_train_oversampled['cleaned_text']\n",
    "#y_train = X_train_oversampled['SA Label']\n",
    "#X_val = X_val['cleaned_text']\n",
    "#X_test = X_test['cleaned_text']"
   ]
  },
  {
   "cell_type": "code",
   "execution_count": 20,
   "id": "friendly-afghanistan",
   "metadata": {},
   "outputs": [
    {
     "name": "stdout",
     "output_type": "stream",
     "text": [
      "Counter({'informative/persuasive': 450, 'directive/instructive': 390, 'declarative': 142, 'commissive': 137, 'miscellaneous': 126})\n"
     ]
    }
   ],
   "source": [
    "print(Counter(train_data['SA Label']))"
   ]
  },
  {
   "cell_type": "code",
   "execution_count": 21,
   "id": "supreme-muslim",
   "metadata": {},
   "outputs": [],
   "source": [
    "train_texts = train_data['cleaned_text'].tolist()\n",
    "train_labels = train_data['SA Label'].tolist()\n",
    "valid_texts = val_data['cleaned_text'].tolist()\n",
    "valid_labels = val_data['SA Label'].tolist()\n",
    "test_texts = test_data['cleaned_text'].tolist()\n",
    "test_labels = test_data['SA Label'].tolist()"
   ]
  },
  {
   "cell_type": "code",
   "execution_count": 22,
   "id": "damaged-childhood",
   "metadata": {},
   "outputs": [],
   "source": [
    "X_train = pd.DataFrame(train_texts, columns=['text'])\n",
    "y_train = train_data['SA Label']\n",
    "\n",
    "X_valid = pd.DataFrame(valid_texts, columns=['text'])\n",
    "y_valid = val_data['SA Label']\n",
    "\n",
    "\n",
    "X_test  = pd.DataFrame(test_texts, columns=['text'])\n",
    "y_test  = test_data['SA Label']\n",
    "\n",
    "train_data_pool = Pool(X_train, y_train, text_features=['text'])\n",
    "valid_data_pool = Pool(X_valid, y_valid, text_features=['text'])\n",
    "test_data_pool = Pool(X_test, X_test, text_features=['text'])"
   ]
  },
  {
   "cell_type": "code",
   "execution_count": 23,
   "id": "outside-attachment",
   "metadata": {},
   "outputs": [
    {
     "name": "stdout",
     "output_type": "stream",
     "text": [
      "VALIDATION:\n",
      "                        precision    recall  f1-score   support\n",
      "\n",
      "            commissive       0.00      0.00      0.00        17\n",
      "           declarative       1.00      0.22      0.36        18\n",
      " directive/instructive       0.85      0.35      0.50        48\n",
      "informative/persuasive       0.53      0.42      0.47       113\n",
      "         miscellaneous       0.16      0.94      0.27        16\n",
      "\n",
      "              accuracy                           0.40       212\n",
      "             macro avg       0.51      0.39      0.32       212\n",
      "          weighted avg       0.57      0.40      0.42       212\n",
      "\n",
      "\n"
     ]
    }
   ],
   "source": [
    "quick_model = CatBoostClassifier(iterations=100\n",
    "                          , depth=1\n",
    "                          , learning_rate=None\n",
    "                          , objective= 'MultiClass'\n",
    "                          , loss_function='MultiClass'\n",
    "                          , eval_metric= 'MultiClass'\n",
    "                          , verbose=False\n",
    "                          , auto_class_weights='Balanced')\n",
    "\n",
    "\n",
    "\n",
    "quick_model.fit(train_data_pool)\n",
    "\n",
    "\n",
    "results_val = quick_model.predict(X_valid)\n",
    "print(\"VALIDATION:\")\n",
    "print(classification_report(y_valid.tolist(),results_val.tolist()))\n",
    "print()\n"
   ]
  },
  {
   "cell_type": "code",
   "execution_count": 24,
   "id": "loaded-brief",
   "metadata": {},
   "outputs": [
    {
     "name": "stdout",
     "output_type": "stream",
     "text": [
      "[[48  2  2  0 61]\n",
      " [21 17  0  0 10]\n",
      " [12  1  0  0  4]\n",
      " [ 8  0  0  4  6]\n",
      " [ 1  0  0  0 15]]\n"
     ]
    },
    {
     "data": {
      "image/png": "[encoded data removed]",
      "text/plain": [
       "<Figure size 720x504 with 2 Axes>"
      ]
     },
     "metadata": {
      "needs_background": "light"
     },
     "output_type": "display_data"
    }
   ],
   "source": [
    "labels=['informative/persuasive','directive/instructive', 'commissive', 'declarative', 'miscellaneous']\n",
    "x = labels\n",
    "y = labels\n",
    "\n",
    "cm = confusion_matrix(y_valid, results_val, normalize=None, labels=labels)\n",
    "\n",
    "print(cm)\n",
    "#fig = ff.create_annotated_heatmap(cm, x=x, y=y, annotation_text=z_text, colorscale='Viridis')\n",
    "#fig.show(\"notebook\")\n",
    "\n",
    "plt.figure(figsize = (10,7))\n",
    "plot = sns.heatmap(cm, annot=True, xticklabels=x, yticklabels=y, cmap='Blues', fmt='d')\n",
    "plot.set_xlabel(\"True label\")\n",
    "plot.set_ylabel(\"Prediction\")\n",
    "plot\n",
    "plt.tight_layout(pad=2)\n",
    "plot.figure.savefig('pics/Additional_Catboost_val_under.png')"
   ]
  },
  {
   "cell_type": "code",
   "execution_count": 25,
   "id": "surrounded-enforcement",
   "metadata": {},
   "outputs": [
    {
     "name": "stdout",
     "output_type": "stream",
     "text": [
      "TEST:\n",
      "                        precision    recall  f1-score   support\n",
      "\n",
      "            commissive       0.80      0.24      0.36        17\n",
      "           declarative       0.20      0.06      0.09        18\n",
      " directive/instructive       0.88      0.31      0.45        49\n",
      "informative/persuasive       0.55      0.50      0.53       112\n",
      "         miscellaneous       0.17      0.88      0.28        16\n",
      "\n",
      "              accuracy                           0.42       212\n",
      "             macro avg       0.52      0.39      0.34       212\n",
      "          weighted avg       0.59      0.42      0.44       212\n",
      "\n",
      "\n"
     ]
    }
   ],
   "source": [
    "results_test = quick_model.predict(X_test)\n",
    "print(\"TEST:\")\n",
    "print(classification_report(y_test.tolist(),results_test.tolist()))\n",
    "print()"
   ]
  },
  {
   "cell_type": "code",
   "execution_count": 26,
   "id": "nominated-testament",
   "metadata": {},
   "outputs": [
    {
     "name": "stdout",
     "output_type": "stream",
     "text": [
      "[[56  2  0  4 50]\n",
      " [24 15  0  0 10]\n",
      " [11  0  4  0  2]\n",
      " [ 8  0  1  1  8]\n",
      " [ 2  0  0  0 14]]\n"
     ]
    },
    {
     "data": {
      "image/png": "[encoded data removed]",
      "text/plain": [
       "<Figure size 720x504 with 2 Axes>"
      ]
     },
     "metadata": {
      "needs_background": "light"
     },
     "output_type": "display_data"
    }
   ],
   "source": [
    "labels=['informative/persuasive','directive/instructive', 'commissive', 'declarative', 'miscellaneous']\n",
    "x = labels\n",
    "y = labels\n",
    "\n",
    "cm = confusion_matrix(y_test, results_test, normalize=None, labels=labels)\n",
    "\n",
    "print(cm)\n",
    "\n",
    "plt.figure(figsize = (10,7))\n",
    "plot = sns.heatmap(cm, annot=True, xticklabels=x, yticklabels=y, cmap='Blues', fmt='d')\n",
    "plot.set_xlabel(\"True label\")\n",
    "plot.set_ylabel(\"Prediction\")\n",
    "plot\n",
    "plt.tight_layout(pad=2)\n",
    "plot.figure.savefig('pics/Additional_Catboost_test_under.png')"
   ]
  },
  {
   "cell_type": "markdown",
   "id": "uniform-handbook",
   "metadata": {},
   "source": [
    "### Oversampling"
   ]
  },
  {
   "cell_type": "code",
   "execution_count": 4,
   "id": "horizontal-japan",
   "metadata": {},
   "outputs": [
    {
     "data": {
      "text/plain": [
       "(212, 3)"
      ]
     },
     "execution_count": 4,
     "metadata": {},
     "output_type": "execute_result"
    }
   ],
   "source": [
    "data = pd.read_csv('DatasetSA_classification.csv', sep=';')\n",
    "data = data[['FileName', 'FileCode', 'FileCaption', 'Text', 'len_text', 'cleaned_text', 'SA Label' ]]\n",
    "data = data.dropna(subset=['SA Label'])\n",
    "data = data.drop_duplicates(subset= 'cleaned_text')\n",
    "data.shape\n",
    "\n",
    "train_data, valtest_data = train_test_split(data[['FileCode', 'cleaned_text', 'SA Label']], stratify=data['SA Label'], test_size=0.2)\n",
    "val_data, test_data = train_test_split(valtest_data[['FileCode', 'cleaned_text', 'SA Label']], stratify=valtest_data['SA Label'], test_size=0.5)\n",
    "\n",
    "val_data.shape"
   ]
  },
  {
   "cell_type": "code",
   "execution_count": 5,
   "id": "warming-smith",
   "metadata": {},
   "outputs": [],
   "source": [
    "train_texts = train_data['cleaned_text'].tolist()\n",
    "train_labels = train_data['SA Label'].tolist()\n",
    "valid_texts = val_data['cleaned_text'].tolist()\n",
    "valid_labels = val_data['SA Label'].tolist()\n",
    "test_texts = test_data['cleaned_text'].tolist()\n",
    "test_labels = test_data['SA Label'].tolist()\n",
    "\n"
   ]
  },
  {
   "cell_type": "code",
   "execution_count": 6,
   "id": "dressed-serial",
   "metadata": {},
   "outputs": [],
   "source": [
    "X_train = pd.DataFrame(train_texts, columns=['text'])\n",
    "y_train = train_data['SA Label']\n",
    "\n",
    "X_valid = pd.DataFrame(valid_texts, columns=['text'])\n",
    "y_valid = val_data['SA Label']\n",
    "\n",
    "\n",
    "X_test  = pd.DataFrame(test_texts, columns=['text'])\n",
    "y_test  = test_data['SA Label']\n",
    "\n",
    "train_data_pool = Pool(X_train, y_train, text_features=['text'])\n",
    "valid_data_pool = Pool(X_valid, y_valid, text_features=['text'])\n",
    "test_data_pool = Pool(X_test, X_test, text_features=['text'])"
   ]
  },
  {
   "cell_type": "code",
   "execution_count": 7,
   "id": "thirty-egypt",
   "metadata": {},
   "outputs": [
    {
     "name": "stdout",
     "output_type": "stream",
     "text": [
      "VALIDATION:\n",
      "                        precision    recall  f1-score   support\n",
      "\n",
      "            commissive       0.40      0.59      0.48        17\n",
      "           declarative       0.54      0.83      0.65        18\n",
      " directive/instructive       0.76      0.57      0.65        49\n",
      "informative/persuasive       0.80      0.58      0.67       112\n",
      "         miscellaneous       0.34      0.88      0.49        16\n",
      "\n",
      "              accuracy                           0.62       212\n",
      "             macro avg       0.57      0.69      0.59       212\n",
      "          weighted avg       0.70      0.62      0.64       212\n",
      "\n",
      "\n"
     ]
    }
   ],
   "source": [
    "quick_model = CatBoostClassifier(iterations=100\n",
    "                          , depth=1\n",
    "                          , learning_rate=None\n",
    "                          , objective= 'MultiClass'\n",
    "                          , loss_function='MultiClass'\n",
    "                          , eval_metric= 'MultiClass'\n",
    "                          , verbose=False\n",
    "                          , auto_class_weights='Balanced')\n",
    "\n",
    "\n",
    "\n",
    "quick_model.fit(train_data_pool)\n",
    "\n",
    "\n",
    "results_val = quick_model.predict(X_valid)\n",
    "print(\"VALIDATION:\")\n",
    "print(classification_report(y_valid.tolist(),results_val.tolist()))\n",
    "print()"
   ]
  },
  {
   "cell_type": "code",
   "execution_count": 8,
   "id": "numerical-ladder",
   "metadata": {},
   "outputs": [
    {
     "name": "stdout",
     "output_type": "stream",
     "text": [
      "[[65  8  8 10 21]\n",
      " [11 28  6  0  4]\n",
      " [ 3  1 10  2  1]\n",
      " [ 1  0  1 15  1]\n",
      " [ 1  0  0  1 14]]\n"
     ]
    },
    {
     "data": {
      "image/png": "[encoded data removed]",
      "text/plain": [
       "<Figure size 720x504 with 2 Axes>"
      ]
     },
     "metadata": {
      "needs_background": "light"
     },
     "output_type": "display_data"
    }
   ],
   "source": [
    "labels=['informative/persuasive','directive/instructive', 'commissive', 'declarative', 'miscellaneous']\n",
    "x = labels\n",
    "y = labels\n",
    "\n",
    "cm = confusion_matrix(y_valid, results_val, normalize=None, labels=labels)\n",
    "\n",
    "print(cm)\n",
    "#fig = ff.create_annotated_heatmap(cm, x=x, y=y, annotation_text=z_text, colorscale='Viridis')\n",
    "#fig.show(\"notebook\")\n",
    "\n",
    "plt.figure(figsize = (10,7))\n",
    "plot = sns.heatmap(cm, annot=True, xticklabels=x, yticklabels=y, cmap='Blues', fmt='d')\n",
    "plot.set_xlabel(\"True label\")\n",
    "plot.set_ylabel(\"Prediction\")\n",
    "plot\n",
    "plt.tight_layout(pad=2)\n",
    "plot.figure.savefig('pics/Additional_Catboost_val_over.png')"
   ]
  },
  {
   "cell_type": "code",
   "execution_count": 9,
   "id": "prostate-relationship",
   "metadata": {},
   "outputs": [
    {
     "name": "stdout",
     "output_type": "stream",
     "text": [
      "TEST:\n",
      "                        precision    recall  f1-score   support\n",
      "\n",
      "            commissive       0.55      0.65      0.59        17\n",
      "           declarative       0.54      0.72      0.62        18\n",
      " directive/instructive       0.78      0.73      0.75        48\n",
      "informative/persuasive       0.84      0.65      0.73       113\n",
      "         miscellaneous       0.36      0.81      0.50        16\n",
      "\n",
      "              accuracy                           0.68       212\n",
      "             macro avg       0.61      0.71      0.64       212\n",
      "          weighted avg       0.74      0.68      0.70       212\n",
      "\n",
      "\n"
     ]
    }
   ],
   "source": [
    "results_test = quick_model.predict(X_test)\n",
    "print(\"TEST:\")\n",
    "print(classification_report(y_test.tolist(),results_test.tolist()))\n",
    "print()"
   ]
  },
  {
   "cell_type": "code",
   "execution_count": 10,
   "id": "filled-bumper",
   "metadata": {},
   "outputs": [
    {
     "name": "stdout",
     "output_type": "stream",
     "text": [
      "[[73  6  3  3  2]\n",
      " [ 7 35  2  0  1]\n",
      " [ 5  4 11  0  0]\n",
      " [ 9  1  1 13  0]\n",
      " [19  2  0  2 13]]\n"
     ]
    },
    {
     "data": {
      "image/png": "[encoded data removed]",
      "text/plain": [
       "<Figure size 720x504 with 2 Axes>"
      ]
     },
     "metadata": {
      "needs_background": "light"
     },
     "output_type": "display_data"
    }
   ],
   "source": [
    "labels=['informative/persuasive','directive/instructive', 'commissive', 'declarative', 'miscellaneous']\n",
    "x = labels\n",
    "y = labels\n",
    "\n",
    "cm = confusion_matrix(results_test, y_test, normalize=None, labels=labels)\n",
    "\n",
    "print(cm)\n",
    "\n",
    "plt.figure(figsize = (10,7))\n",
    "plot = sns.heatmap(cm, annot=True, xticklabels=x, yticklabels=y, cmap='Blues', fmt='d')\n",
    "plot.set_xlabel(\"True label\")\n",
    "plot.set_ylabel(\"Prediction\")\n",
    "plot\n",
    "plt.tight_layout(pad=2)\n",
    "plot.figure.savefig('pics/Additional_Catboost_test_over.png')"
   ]
  },
  {
   "cell_type": "markdown",
   "id": "about-twenty",
   "metadata": {},
   "source": [
    "### error analysis"
   ]
  },
  {
   "cell_type": "code",
   "execution_count": 12,
   "id": "surrounded-honor",
   "metadata": {},
   "outputs": [],
   "source": [
    "error_analysis = pd.DataFrame()\n",
    "error_analysis['cleaned_text'] = X_test['text']\n",
    "error_analysis['gold_label'] = y_test.to_list()\n",
    "error_analysis['prediction'] = results_test\n",
    "\n",
    "#ik = error_analysis['cleaned_text'].str.contains('ik|Ik')\n",
    "#u = error_analysis['cleaned_text'].str.contains('u |U ')\n",
    "#print(Counter(ik))\n",
    "#print(Counter(u))\n",
    "#error_analysis_comm = error_analysis\n",
    "#error_analysis_comm['ik'] = ik\n",
    "#error_analysis_comm['u'] = u\n",
    "\n",
    "#comm = error_analysis_comm[error_analysis_comm['gold_label'] == 'commissive']\n",
    "#print(comm.shape)\n",
    "#print(Counter(comm['ik']))\n",
    "#print(Counter(comm['u']))\n",
    "\n",
    "#error_analysis.columns"
   ]
  },
  {
   "cell_type": "code",
   "execution_count": 31,
   "id": "induced-female",
   "metadata": {},
   "outputs": [
    {
     "name": "stdout",
     "output_type": "stream",
     "text": [
      "['Meer informatie hierover vindt u op belastingdienst.nl .'\n",
      " 'informative/persuasive' 'directive/instructive']\n",
      "\n",
      "['Ik heb dat gedaan, omdat het voor mij niet mogelijk is uit de door u aangeleverde gegevens te concluderen wat u precies beoogt.'\n",
      " 'informative/persuasive' 'directive/instructive']\n",
      "\n",
      "FINAL COUNTS\n",
      "counter:  57\n",
      "errors:  20\n",
      "ik, u, cl: 0 0 0\n"
     ]
    }
   ],
   "source": [
    "counter = 0\n",
    "error_counter = 0\n",
    "values_list = []\n",
    "values_counter = 0\n",
    "zero_dict_counter = 0\n",
    "ik_counter = 0\n",
    "u_counter = 0\n",
    "client_counter = 0\n",
    "for row in error_analysis.values:\n",
    "    counter += 1\n",
    "    #print(row)\n",
    "    #break\n",
    "    if row[1] != row[2]:\n",
    "        error_counter += 1\n",
    "        if row[1] == 'informative/persuasive' and row[2] == \"directive/instructive\":\n",
    "            print(row)\n",
    "            zero_dict_counter += 1\n",
    "            #print(\"Sentence: \", row[0])\n",
    "            #print(\"gold label: \", row[-2], '-- predicted label: ', row[-1])\n",
    "            print()\n",
    "        if error_counter == 20:\n",
    "            break\n",
    "    #if row[-1] == row[-2]:\n",
    "        #if row[-2] == 'directive/instructive':\n",
    "            #if \"artikel\" in row[0].lower():\n",
    "                #u_counter += 1\n",
    "            #print(row)\n",
    "            #print()\n",
    "    #if 'u ' in row[0].lower():\n",
    "     #   u_counter += 1\n",
    "        #print(row)\n",
    "    #if 'ik ' in row[0].lower():\n",
    "    #    ik_counter += 1\n",
    "        #print(row)\n",
    "   # if ' uw cli' in row[0].lower():\n",
    "    #    client_counter += 1\n",
    "    #if \"artikel\" in row[0].lower():\n",
    "       # ik_counter += 1\n",
    "       # print(row)\n",
    "        \n",
    "        \n",
    "        \n",
    "print(\"FINAL COUNTS\")        \n",
    "print(\"counter: \", counter)\n",
    "print(\"errors: \", error_counter)\n",
    "print(\"ik, u, cl:\", ik_counter, u_counter, client_counter)\n"
   ]
  },
  {
   "cell_type": "code",
   "execution_count": 26,
   "id": "bibliographic-brunei",
   "metadata": {},
   "outputs": [],
   "source": [
    "train_df = X_train[['text']]\n",
    "train_df['label'] = y_train\n",
    "train_df['artikel'] = train_df['text'].str.contains('artikel')\n",
    "train_df[train_df['label'] == 'declarative'].shape\n",
    "decl_df = train_df[train_df['label'] == 'declarative']"
   ]
  },
  {
   "cell_type": "code",
   "execution_count": 30,
   "id": "present-landscape",
   "metadata": {},
   "outputs": [
    {
     "name": "stdout",
     "output_type": "stream",
     "text": [
      "Counter({False: 124, True: 4})\n",
      "Counter({False: 1621, True: 74})\n"
     ]
    }
   ],
   "source": [
    "print(Counter(decl_df['text'].str.contains(' artikel ')))\n",
    "print(Counter(train_df['text'].str.contains(' artikel ')))"
   ]
  },
  {
   "cell_type": "code",
   "execution_count": null,
   "id": "exact-spiritual",
   "metadata": {},
   "outputs": [],
   "source": []
  }
 ],
 "metadata": {
  "kernelspec": {
   "display_name": "Python 3",
   "language": "python",
   "name": "python3"
  },
  "language_info": {
   "codemirror_mode": {
    "name": "ipython",
    "version": 3
   },
   "file_extension": ".py",
   "mimetype": "text/x-python",
   "name": "python",
   "nbconvert_exporter": "python",
   "pygments_lexer": "ipython3",
   "version": "3.6.12"
  }
 },
 "nbformat": 4,
 "nbformat_minor": 5
}
