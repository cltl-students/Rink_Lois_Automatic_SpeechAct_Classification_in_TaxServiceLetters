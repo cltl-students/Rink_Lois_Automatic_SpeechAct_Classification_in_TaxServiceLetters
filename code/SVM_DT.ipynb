{
 "cells": [
  {
   "cell_type": "code",
   "execution_count": 2,
   "id": "labeled-nightlife",
   "metadata": {},
   "outputs": [],
   "source": [
    "import pandas as pd\n",
    "import numpy as np\n",
    "import sys\n",
    "import os\n",
    "import nltk\n",
    "import gensim\n",
    "import csv\n",
    "import re\n",
    "import pickle as pkl\n",
    "import string\n",
    "\n",
    "from sklearn import svm\n",
    "from sklearn.model_selection import train_test_split, GridSearchCV\n",
    "from sklearn.feature_extraction import DictVectorizer\n",
    "from sklearn.preprocessing import LabelEncoder\n",
    "from sklearn.metrics import confusion_matrix, roc_curve, classification_report\n",
    "from sklearn.tree import DecisionTreeClassifier\n",
    "\n",
    "from nltk.stem import WordNetLemmatizer\n",
    "from nltk.tokenize import word_tokenize\n",
    "from nltk.corpus import stopwords\n",
    "\n",
    "from spacy.lang.nl import Dutch\n",
    "import nl_bertje\n",
    "\n",
    "from collections import Counter\n",
    "\n",
    "import plotly\n",
    "\n",
    "import matplotlib.pyplot as plt\n",
    "import seaborn as sns\n",
    "import plotly.figure_factory as ff\n",
    "\n"
   ]
  },
  {
   "cell_type": "code",
   "execution_count": 3,
   "id": "amended-eight",
   "metadata": {},
   "outputs": [],
   "source": [
    "\n",
    "import nltk\n",
    "#nltk.download('stopwords')"
   ]
  },
  {
   "cell_type": "markdown",
   "id": "compressed-alcohol",
   "metadata": {},
   "source": [
    "### Preprocessing of the df"
   ]
  },
  {
   "cell_type": "code",
   "execution_count": 4,
   "id": "pretty-tsunami",
   "metadata": {},
   "outputs": [],
   "source": [
    "#load sentencizer\n",
    "nlp = Dutch()\n",
    "nlp.add_pipe(nlp.create_pipe('sentencizer'))\n",
    "nlp = nl_bertje.load()\n",
    "\n"
   ]
  },
  {
   "cell_type": "code",
   "execution_count": 5,
   "id": "alert-default",
   "metadata": {},
   "outputs": [],
   "source": [
    "def extract_features_labels(trainingfile):\n",
    "    \"\"\"trainingfile moet df zijn\"\"\"\n",
    "    data = []\n",
    "    targets = []\n",
    "    index = -1\n",
    "    new_dict = dict()\n",
    "    features_list = []\n",
    "    vector_list = []\n",
    "    text_list = []\n",
    "    shape_list = []\n",
    "    \n",
    "    trainingfile = trainingfile.values.tolist()\n",
    "    \n",
    "    for row in trainingfile:\n",
    "    \n",
    "        text = row[-2]\n",
    "        text = str(text).replace('\\n\\n', '')\n",
    "        #print(text, len(text))\n",
    "        if len(text) > 5:\n",
    "            vector = nlp(text).vector\n",
    "            #print(vector.shape)\n",
    "            shape_list.append(vector.shape)\n",
    "        else:\n",
    "            vector = np.zeros(768)\n",
    "            #print(vector.shape)\n",
    "            shape_list.append(vector.shape)\n",
    "        label = row[-1]\n",
    "        feature_dict = {\n",
    "            'text' : text,\n",
    "            #'vector' : vector,\n",
    "            }\n",
    "        \n",
    "        #text_without_sw = \n",
    "        #print(text)\n",
    "        #print(vector)\n",
    "        data.append(feature_dict)\n",
    "        targets.append(label)\n",
    "        text_list.append(text)\n",
    "        vector_list.append(vector)\n",
    "            \n",
    "    return data, targets, vector_list, text_list, shape_list        \n",
    "        "
   ]
  },
  {
   "cell_type": "markdown",
   "id": "demographic-quantity",
   "metadata": {},
   "source": [
    "## SVM classification"
   ]
  },
  {
   "cell_type": "code",
   "execution_count": 6,
   "id": "induced-treatment",
   "metadata": {},
   "outputs": [],
   "source": [
    "def create_classifier(train_features, train_targets):\n",
    "    model = svm.SVC(kernel='rbf', C=5000, gamma='scale')\n",
    "    vec = DictVectorizer()\n",
    "    features_vectorized = vec.fit_transform(train_features)\n",
    "    model = model.fit(features_vectorized, train_targets)\n",
    "    #model = model.fit(train_features, train_targets)\n",
    "    return model, vec\n",
    "\n",
    "def classify_data(model, vec, inputdata, outputfile):\n",
    "    #/features = extract_features_and_labels(inputdata)[0]\n",
    "    features_vec = vec.transform(inputdata)\n",
    "    predictions = model.predict(features_vec)\n",
    "     \n",
    "    return predictions"
   ]
  },
  {
   "cell_type": "markdown",
   "id": "adapted-silicon",
   "metadata": {},
   "source": [
    "### Read in data"
   ]
  },
  {
   "cell_type": "code",
   "execution_count": 7,
   "id": "egyptian-disposition",
   "metadata": {},
   "outputs": [
    {
     "data": {
      "text/plain": [
       "Index(['Unnamed: 0', 'Unnamed: 0.1', 'Unnamed: 0.1.1', 'FileCode', 'FileName',\n",
       "       'FileCaption', 'Sample_nr', 'Text', 'len_text', 'whitespace_count',\n",
       "       'newline_count', 'perc_newline', 'perc_whitespace', 'total_nr_sent',\n",
       "       'sent_index_in_tb', 'cleaned_text', 'SA Label'],\n",
       "      dtype='object')"
      ]
     },
     "execution_count": 7,
     "metadata": {},
     "output_type": "execute_result"
    }
   ],
   "source": [
    "#trainingfile = pd.read_excel('Annotation_sample_OB_ingevuld_Oele.xlsm', engine='openpyxl')\n",
    "trainingfile = pd.read_csv('DatasetSA_classification.csv', sep=';')\n",
    "trainingfile.shape\n",
    "trainingfile.columns"
   ]
  },
  {
   "cell_type": "code",
   "execution_count": 8,
   "id": "necessary-classic",
   "metadata": {},
   "outputs": [
    {
     "name": "stdout",
     "output_type": "stream",
     "text": [
      "(2119, 6)\n"
     ]
    },
    {
     "data": {
      "text/plain": [
       "FileName                                               NCV113.xml\n",
       "FileCaption     NCV113 Meded pandrecht en inning verpande vord...\n",
       "Text            Betreft: Mededeling pandrecht en inning verpan...\n",
       "len_text                                                     1724\n",
       "cleaned_text    Mededeling pandrecht en inning verpande vorder...\n",
       "SA Label                                   informative/persuasive\n",
       "Name: 0, dtype: object"
      ]
     },
     "execution_count": 8,
     "metadata": {},
     "output_type": "execute_result"
    }
   ],
   "source": [
    "trainingfile = trainingfile[['FileName', 'FileCaption', 'Text', 'len_text', 'cleaned_text', 'SA Label' ]]\n",
    "trainingfile = trainingfile.dropna(subset=['SA Label'])\n",
    "trainingfile = trainingfile.drop_duplicates(subset= 'cleaned_text')\n",
    "print(trainingfile.shape)\n",
    "trainingfile.iloc[0]"
   ]
  },
  {
   "cell_type": "markdown",
   "id": "miniature-referral",
   "metadata": {},
   "source": [
    "### Define features and targets + Encode labels"
   ]
  },
  {
   "cell_type": "code",
   "execution_count": 9,
   "id": "absolute-progress",
   "metadata": {},
   "outputs": [],
   "source": [
    "labelencoder = LabelEncoder()\n"
   ]
  },
  {
   "cell_type": "code",
   "execution_count": 10,
   "id": "meaning-large",
   "metadata": {},
   "outputs": [],
   "source": [
    "X = extract_features_labels(trainingfile)[0]\n"
   ]
  },
  {
   "cell_type": "code",
   "execution_count": 11,
   "id": "eastern-jaguar",
   "metadata": {},
   "outputs": [],
   "source": [
    "y = extract_features_labels(trainingfile)[1]\n",
    "y_enc = labelencoder.fit_transform(y)"
   ]
  },
  {
   "cell_type": "code",
   "execution_count": 12,
   "id": "experimental-visibility",
   "metadata": {},
   "outputs": [],
   "source": [
    "X_train, X_valtest, y_train, y_valtest = train_test_split(X, y_enc, test_size=0.2, random_state=42, stratify=trainingfile['SA Label'])\n",
    "\n",
    "X_val, X_test, y_val, y_test = train_test_split(X_valtest, y_valtest, test_size= 0.5, random_state=42, stratify=y_valtest)"
   ]
  },
  {
   "cell_type": "code",
   "execution_count": 13,
   "id": "extra-entrance",
   "metadata": {},
   "outputs": [
    {
     "name": "stdout",
     "output_type": "stream",
     "text": [
      "Counter({3: 900, 2: 390, 1: 142, 0: 137, 4: 126})\n",
      "Counter({3: 113, 2: 48, 1: 18, 0: 17, 4: 16})\n",
      "Counter({3: 112, 2: 49, 1: 18, 0: 17, 4: 16})\n"
     ]
    }
   ],
   "source": [
    "print(Counter(y_train)) ##distribution of the labels\n",
    "print(Counter(y_val))\n",
    "print(Counter(y_test))"
   ]
  },
  {
   "cell_type": "code",
   "execution_count": 14,
   "id": "becoming-smoke",
   "metadata": {},
   "outputs": [],
   "source": [
    "model, vec = create_classifier(X_train, y_train)"
   ]
  },
  {
   "cell_type": "markdown",
   "id": "enabling-vision",
   "metadata": {},
   "source": [
    "### Evaluation development set"
   ]
  },
  {
   "cell_type": "code",
   "execution_count": 15,
   "id": "certain-latest",
   "metadata": {},
   "outputs": [],
   "source": [
    "pred = classify_data(model, vec, X_val, 'pred.csv')"
   ]
  },
  {
   "cell_type": "code",
   "execution_count": 16,
   "id": "blind-meaning",
   "metadata": {},
   "outputs": [
    {
     "data": {
      "text/plain": [
       "Counter({3: 212})"
      ]
     },
     "execution_count": 16,
     "metadata": {},
     "output_type": "execute_result"
    }
   ],
   "source": [
    "Counter(pred) ##distribution of the predicted labels\n"
   ]
  },
  {
   "cell_type": "code",
   "execution_count": 17,
   "id": "honey-occasion",
   "metadata": {},
   "outputs": [
    {
     "name": "stdout",
     "output_type": "stream",
     "text": [
      "                        precision    recall  f1-score   support\n",
      "\n",
      "            commissive       0.00      0.00      0.00        17\n",
      "           declarative       0.00      0.00      0.00        18\n",
      " directive/instructive       0.00      0.00      0.00        48\n",
      "informative/persuasive       0.53      1.00      0.70       113\n",
      "         miscellaneous       0.00      0.00      0.00        16\n",
      "\n",
      "              accuracy                           0.53       212\n",
      "             macro avg       0.11      0.20      0.14       212\n",
      "          weighted avg       0.28      0.53      0.37       212\n",
      "\n"
     ]
    },
    {
     "name": "stderr",
     "output_type": "stream",
     "text": [
      "/home/ADS/rinkl00_w00215/stageLR/lib64/python3.6/site-packages/sklearn/metrics/_classification.py:1245: UndefinedMetricWarning:\n",
      "\n",
      "Precision and F-score are ill-defined and being set to 0.0 in labels with no predicted samples. Use `zero_division` parameter to control this behavior.\n",
      "\n",
      "/home/ADS/rinkl00_w00215/stageLR/lib64/python3.6/site-packages/sklearn/metrics/_classification.py:1245: UndefinedMetricWarning:\n",
      "\n",
      "Precision and F-score are ill-defined and being set to 0.0 in labels with no predicted samples. Use `zero_division` parameter to control this behavior.\n",
      "\n",
      "/home/ADS/rinkl00_w00215/stageLR/lib64/python3.6/site-packages/sklearn/metrics/_classification.py:1245: UndefinedMetricWarning:\n",
      "\n",
      "Precision and F-score are ill-defined and being set to 0.0 in labels with no predicted samples. Use `zero_division` parameter to control this behavior.\n",
      "\n"
     ]
    }
   ],
   "source": [
    "print(classification_report(labelencoder.inverse_transform(y_val.tolist()),labelencoder.inverse_transform(pred.tolist())))"
   ]
  },
  {
   "cell_type": "code",
   "execution_count": 18,
   "id": "scientific-lease",
   "metadata": {},
   "outputs": [
    {
     "name": "stdout",
     "output_type": "stream",
     "text": [
      "[[113  48  17  18  16]\n",
      " [  0   0   0   0   0]\n",
      " [  0   0   0   0   0]\n",
      " [  0   0   0   0   0]\n",
      " [  0   0   0   0   0]]\n"
     ]
    },
    {
     "data": {
      "image/png": "[encoded data removed]",
      "text/plain": [
       "<Figure size 720x504 with 2 Axes>"
      ]
     },
     "metadata": {
      "needs_background": "light"
     },
     "output_type": "display_data"
    }
   ],
   "source": [
    "labels=['informative/persuasive','directive/instructive', 'commissive', 'declarative', 'miscellaneous']\n",
    "x = labels\n",
    "y = labels\n",
    "\n",
    "cm = confusion_matrix(labelencoder.inverse_transform(pred.tolist()), labelencoder.inverse_transform(y_val.tolist()), normalize=None, labels=labels)\n",
    "\n",
    "print(cm)\n",
    "#fig = ff.create_annotated_heatmap(cm, x=x, y=y, annotation_text=z_text, colorscale='Viridis')\n",
    "#fig.show(\"notebook\")\n",
    "\n",
    "plt.figure(figsize = (10,7))\n",
    "plot = sns.heatmap(cm, annot=True, xticklabels=x, yticklabels=y, cmap='Blues', fmt='d')\n",
    "plot.set_xlabel(\"True label\")\n",
    "plot.set_ylabel(\"Prediction\")\n",
    "plot\n",
    "plt.tight_layout(pad=2)\n",
    "plot.figure.savefig('pics/SVM_val.png')"
   ]
  },
  {
   "cell_type": "markdown",
   "id": "fuzzy-little",
   "metadata": {},
   "source": [
    "### Evaluation on test set"
   ]
  },
  {
   "cell_type": "code",
   "execution_count": 19,
   "id": "hungarian-cutting",
   "metadata": {},
   "outputs": [],
   "source": [
    "pred = classify_data(model, vec, X_test, 'pred.csv')"
   ]
  },
  {
   "cell_type": "code",
   "execution_count": 20,
   "id": "driven-neighborhood",
   "metadata": {},
   "outputs": [
    {
     "name": "stdout",
     "output_type": "stream",
     "text": [
      "Counter({3: 212})\n"
     ]
    }
   ],
   "source": [
    "print(Counter(pred))"
   ]
  },
  {
   "cell_type": "code",
   "execution_count": 21,
   "id": "beginning-jordan",
   "metadata": {},
   "outputs": [
    {
     "name": "stdout",
     "output_type": "stream",
     "text": [
      "                        precision    recall  f1-score   support\n",
      "\n",
      "            commissive       0.00      0.00      0.00        17\n",
      "           declarative       0.00      0.00      0.00        18\n",
      " directive/instructive       0.00      0.00      0.00        49\n",
      "informative/persuasive       0.53      1.00      0.69       112\n",
      "         miscellaneous       0.00      0.00      0.00        16\n",
      "\n",
      "              accuracy                           0.53       212\n",
      "             macro avg       0.11      0.20      0.14       212\n",
      "          weighted avg       0.28      0.53      0.37       212\n",
      "\n"
     ]
    },
    {
     "name": "stderr",
     "output_type": "stream",
     "text": [
      "/home/ADS/rinkl00_w00215/stageLR/lib64/python3.6/site-packages/sklearn/metrics/_classification.py:1245: UndefinedMetricWarning:\n",
      "\n",
      "Precision and F-score are ill-defined and being set to 0.0 in labels with no predicted samples. Use `zero_division` parameter to control this behavior.\n",
      "\n",
      "/home/ADS/rinkl00_w00215/stageLR/lib64/python3.6/site-packages/sklearn/metrics/_classification.py:1245: UndefinedMetricWarning:\n",
      "\n",
      "Precision and F-score are ill-defined and being set to 0.0 in labels with no predicted samples. Use `zero_division` parameter to control this behavior.\n",
      "\n",
      "/home/ADS/rinkl00_w00215/stageLR/lib64/python3.6/site-packages/sklearn/metrics/_classification.py:1245: UndefinedMetricWarning:\n",
      "\n",
      "Precision and F-score are ill-defined and being set to 0.0 in labels with no predicted samples. Use `zero_division` parameter to control this behavior.\n",
      "\n"
     ]
    }
   ],
   "source": [
    "print(classification_report(labelencoder.inverse_transform(y_test.tolist()),labelencoder.inverse_transform(pred.tolist())))"
   ]
  },
  {
   "cell_type": "code",
   "execution_count": 22,
   "id": "binary-feeling",
   "metadata": {},
   "outputs": [
    {
     "name": "stdout",
     "output_type": "stream",
     "text": [
      "[[112  49  17  18  16]\n",
      " [  0   0   0   0   0]\n",
      " [  0   0   0   0   0]\n",
      " [  0   0   0   0   0]\n",
      " [  0   0   0   0   0]]\n"
     ]
    },
    {
     "data": {
      "image/png": "[encoded data removed]",
      "text/plain": [
       "<Figure size 720x504 with 2 Axes>"
      ]
     },
     "metadata": {
      "needs_background": "light"
     },
     "output_type": "display_data"
    }
   ],
   "source": [
    "labels=['informative/persuasive','directive/instructive', 'commissive', 'declarative', 'miscellaneous']\n",
    "x = labels\n",
    "y = labels\n",
    "\n",
    "cm = confusion_matrix(labelencoder.inverse_transform(pred.tolist()), labelencoder.inverse_transform(y_test.tolist()), normalize=None, labels=labels)\n",
    "\n",
    "print(cm)\n",
    "#fig = ff.create_annotated_heatmap(cm, x=x, y=y, annotation_text=z_text, colorscale='Viridis')\n",
    "#fig.show(\"notebook\")\n",
    "\n",
    "plt.figure(figsize = (10,7))\n",
    "plot = sns.heatmap(cm, annot=True, xticklabels=x, yticklabels=y, cmap='Blues', fmt='d')\n",
    "plot.set_xlabel(\"True label\")\n",
    "plot.set_ylabel(\"Prediction\")\n",
    "plot\n",
    "plt.tight_layout(pad=2)\n",
    "plot.figure.savefig('pics/SVM_test.png')"
   ]
  },
  {
   "cell_type": "markdown",
   "id": "drawn-brand",
   "metadata": {},
   "source": [
    "## Evaluation SVM per domain"
   ]
  },
  {
   "cell_type": "code",
   "execution_count": 23,
   "id": "banner-envelope",
   "metadata": {},
   "outputs": [],
   "source": [
    "def cm_subset(df, true, pred, label, column):\n",
    "    df[\"pred\"] = pred\n",
    "    df = df[df[column] == label]\n",
    "    true = df[\"SA Label\"].tolist()\n",
    "    pred = df[\"pred\"].tolist()\n",
    "    \n",
    "    print(classification_report(true,pred))\n",
    "    \n",
    "    labels=['informative/persuasive','directive/instructive', 'commissive', 'miscellaneous'] ##add declarative later\n",
    "    x = labels\n",
    "    y = labels\n",
    "\n",
    "    cm = confusion_matrix(true, pred, normalize=None, labels=labels)\n",
    "    #z_text = [[str(y) for y in x] for x in cm]\n",
    "\n",
    "    #print(cm)\n",
    "    #fig = ff.create_annotated_heatmap(cm, x=x, y=y, annotation_text=z_text, colorscale='Viridis')\n",
    "    #fig.show(\"notebook\")\n",
    "\n",
    "    plt.figure(figsize = (10,7))\n",
    "    plot = sns.heatmap(cm, annot=True, xticklabels=x, yticklabels=y, cmap='Blues')\n",
    "    plot.set_xlabel(\"True label\")\n",
    "    plot.set_ylabel(\"Prediction\")\n",
    "    plt.tight_layout(pad=2)\n",
    "    plot"
   ]
  },
  {
   "cell_type": "markdown",
   "id": "guided-checklist",
   "metadata": {},
   "source": [
    "### Development set"
   ]
  },
  {
   "cell_type": "code",
   "execution_count": null,
   "id": "finished-chicken",
   "metadata": {},
   "outputs": [],
   "source": []
  },
  {
   "cell_type": "markdown",
   "id": "compressed-sessions",
   "metadata": {},
   "source": [
    "### Test set\n"
   ]
  },
  {
   "cell_type": "code",
   "execution_count": null,
   "id": "handled-essex",
   "metadata": {},
   "outputs": [],
   "source": []
  },
  {
   "cell_type": "markdown",
   "id": "educated-redhead",
   "metadata": {},
   "source": [
    "## Taking context into consideration"
   ]
  },
  {
   "cell_type": "code",
   "execution_count": 24,
   "id": "scientific-architecture",
   "metadata": {},
   "outputs": [],
   "source": [
    "def extract_features_labels_C(trainingfile):\n",
    "    \"\"\"trainingfile moet df zijn\"\"\"\n",
    "    data = []\n",
    "    targets = []\n",
    "    index = -1\n",
    "    new_dict = dict()\n",
    "    features_list = []\n",
    "    vector_list = []\n",
    "    text_list = []\n",
    "    shape_list = []\n",
    "    \n",
    "    trainingfile = trainingfile.values.tolist()\n",
    "    \n",
    "    for row in trainingfile:\n",
    "    \n",
    "        text = row[-2]\n",
    "        text = str(text).replace('\\n\\n', '')\n",
    "        context = row[2]\n",
    "        context =str(context).replace('\\n\\n', '')\n",
    "        #print(text, len(text))\n",
    "        if len(text) > 5:\n",
    "            vector = nlp(text).vector\n",
    "            #print(vector.shape)\n",
    "            shape_list.append(vector.shape)\n",
    "        else:\n",
    "            vector = np.zeros(768)\n",
    "            #print(vector.shape)\n",
    "            shape_list.append(vector.shape)\n",
    "        label = row[-1]\n",
    "        feature_dict = {\n",
    "            'text' : text,\n",
    "            'context' : context,\n",
    "            }\n",
    "        \n",
    "        #text_without_sw = \n",
    "        #print(text)\n",
    "        #print(vector)\n",
    "        data.append(feature_dict)\n",
    "        targets.append(label)\n",
    "        text_list.append(text)\n",
    "        vector_list.append(vector)\n",
    "            \n",
    "    return data, targets, vector_list, text_list, shape_list    \n",
    "\n",
    "\n",
    "def create_classifier(train_features, train_targets):\n",
    "    model = svm.SVC()\n",
    "    vec = DictVectorizer()\n",
    "    features_vectorized = vec.fit_transform(train_features)\n",
    "    model = model.fit(features_vectorized, train_targets)\n",
    "    #model = model.fit(train_features, train_targets)\n",
    "    return model, vec\n",
    "\n",
    "\n",
    "\n",
    "def classify_data(model, vec, inputdata, outputfile):\n",
    "    #/features = extract_features_and_labels(inputdata)[0]\n",
    "    features_vec = vec.transform(inputdata)\n",
    "    predictions = model.predict(features_vec)\n",
    "     \n",
    "    return predictions"
   ]
  },
  {
   "cell_type": "code",
   "execution_count": 25,
   "id": "crude-neutral",
   "metadata": {},
   "outputs": [],
   "source": [
    "X = extract_features_labels_C(trainingfile)[0]\n"
   ]
  },
  {
   "cell_type": "code",
   "execution_count": 26,
   "id": "included-resource",
   "metadata": {},
   "outputs": [],
   "source": [
    "y = extract_features_labels_C(trainingfile)[1]\n",
    "y_enc = labelencoder.fit_transform(y)\n",
    "\n"
   ]
  },
  {
   "cell_type": "code",
   "execution_count": 27,
   "id": "referenced-collect",
   "metadata": {},
   "outputs": [],
   "source": [
    "X_train, X_valtest, y_train, y_valtest = train_test_split(X, y_enc, test_size=0.8, random_state=42, stratify=trainingfile['SA Label'])\n",
    "\n",
    "X_val, X_test, y_val, y_test = train_test_split(X_valtest, y_valtest, test_size= 0.5, random_state=42, stratify=y_valtest)"
   ]
  },
  {
   "cell_type": "code",
   "execution_count": null,
   "id": "precise-census",
   "metadata": {},
   "outputs": [],
   "source": []
  },
  {
   "cell_type": "code",
   "execution_count": 28,
   "id": "innocent-milan",
   "metadata": {},
   "outputs": [],
   "source": [
    "model, vec = create_classifier(X_train, y_train)"
   ]
  },
  {
   "cell_type": "code",
   "execution_count": 29,
   "id": "agricultural-inflation",
   "metadata": {},
   "outputs": [],
   "source": [
    "pred = classify_data(model, vec, X_val, 'pred.csv')"
   ]
  },
  {
   "cell_type": "code",
   "execution_count": 30,
   "id": "martial-neighbor",
   "metadata": {},
   "outputs": [
    {
     "name": "stdout",
     "output_type": "stream",
     "text": [
      "                        precision    recall  f1-score   support\n",
      "\n",
      "            commissive       0.00      0.00      0.00        68\n",
      "           declarative       0.00      0.00      0.00        72\n",
      " directive/instructive       0.29      0.04      0.07       195\n",
      "informative/persuasive       0.53      0.96      0.68       450\n",
      "         miscellaneous       0.00      0.00      0.00        63\n",
      "\n",
      "              accuracy                           0.52       848\n",
      "             macro avg       0.16      0.20      0.15       848\n",
      "          weighted avg       0.35      0.52      0.38       848\n",
      "\n"
     ]
    },
    {
     "name": "stderr",
     "output_type": "stream",
     "text": [
      "/home/ADS/rinkl00_w00215/stageLR/lib64/python3.6/site-packages/sklearn/metrics/_classification.py:1245: UndefinedMetricWarning:\n",
      "\n",
      "Precision and F-score are ill-defined and being set to 0.0 in labels with no predicted samples. Use `zero_division` parameter to control this behavior.\n",
      "\n",
      "/home/ADS/rinkl00_w00215/stageLR/lib64/python3.6/site-packages/sklearn/metrics/_classification.py:1245: UndefinedMetricWarning:\n",
      "\n",
      "Precision and F-score are ill-defined and being set to 0.0 in labels with no predicted samples. Use `zero_division` parameter to control this behavior.\n",
      "\n",
      "/home/ADS/rinkl00_w00215/stageLR/lib64/python3.6/site-packages/sklearn/metrics/_classification.py:1245: UndefinedMetricWarning:\n",
      "\n",
      "Precision and F-score are ill-defined and being set to 0.0 in labels with no predicted samples. Use `zero_division` parameter to control this behavior.\n",
      "\n"
     ]
    }
   ],
   "source": [
    "print(classification_report(labelencoder.inverse_transform(y_val.tolist()),labelencoder.inverse_transform(pred.tolist())))"
   ]
  },
  {
   "cell_type": "code",
   "execution_count": 31,
   "id": "recovered-aberdeen",
   "metadata": {},
   "outputs": [
    {
     "name": "stdout",
     "output_type": "stream",
     "text": [
      "[[433 187  67  70  63]\n",
      " [ 17   8   1   2   0]\n",
      " [  0   0   0   0   0]\n",
      " [  0   0   0   0   0]\n",
      " [  0   0   0   0   0]]\n"
     ]
    },
    {
     "data": {
      "image/png": "[encoded data removed]",
      "text/plain": [
       "<Figure size 720x504 with 2 Axes>"
      ]
     },
     "metadata": {
      "needs_background": "light"
     },
     "output_type": "display_data"
    }
   ],
   "source": [
    "labels=['informative/persuasive','directive/instructive', 'commissive', 'declarative', 'miscellaneous']\n",
    "x = labels\n",
    "y = labels\n",
    "\n",
    "cm = confusion_matrix(labelencoder.inverse_transform(pred.tolist()), labelencoder.inverse_transform(y_val.tolist()), normalize=None, labels=labels)\n",
    "\n",
    "print(cm)\n",
    "#fig = ff.create_annotated_heatmap(cm, x=x, y=y, annotation_text=z_text, colorscale='Viridis')\n",
    "#fig.show(\"notebook\")\n",
    "\n",
    "plt.figure(figsize = (10,7))\n",
    "plot = sns.heatmap(cm, annot=True, xticklabels=x, yticklabels=y, cmap='Blues', fmt='d')\n",
    "plot.set_xlabel(\"True label\")\n",
    "plot.set_ylabel(\"Prediction\")\n",
    "plot\n",
    "plt.tight_layout(pad=2)\n",
    "plot.figure.savefig('pics/SVMcontext_val.png')"
   ]
  },
  {
   "cell_type": "code",
   "execution_count": 32,
   "id": "expired-savings",
   "metadata": {},
   "outputs": [],
   "source": [
    "pred = classify_data(model, vec, X_test, 'pred.csv')"
   ]
  },
  {
   "cell_type": "code",
   "execution_count": 33,
   "id": "sublime-person",
   "metadata": {},
   "outputs": [
    {
     "name": "stdout",
     "output_type": "stream",
     "text": [
      "                        precision    recall  f1-score   support\n",
      "\n",
      "            commissive       0.00      0.00      0.00        69\n",
      "           declarative       0.00      0.00      0.00        71\n",
      " directive/instructive       0.50      0.07      0.12       195\n",
      "informative/persuasive       0.53      0.98      0.69       450\n",
      "         miscellaneous       0.00      0.00      0.00        63\n",
      "\n",
      "              accuracy                           0.53       848\n",
      "             macro avg       0.21      0.21      0.16       848\n",
      "          weighted avg       0.40      0.53      0.39       848\n",
      "\n"
     ]
    },
    {
     "name": "stderr",
     "output_type": "stream",
     "text": [
      "/home/ADS/rinkl00_w00215/stageLR/lib64/python3.6/site-packages/sklearn/metrics/_classification.py:1245: UndefinedMetricWarning:\n",
      "\n",
      "Precision and F-score are ill-defined and being set to 0.0 in labels with no predicted samples. Use `zero_division` parameter to control this behavior.\n",
      "\n",
      "/home/ADS/rinkl00_w00215/stageLR/lib64/python3.6/site-packages/sklearn/metrics/_classification.py:1245: UndefinedMetricWarning:\n",
      "\n",
      "Precision and F-score are ill-defined and being set to 0.0 in labels with no predicted samples. Use `zero_division` parameter to control this behavior.\n",
      "\n",
      "/home/ADS/rinkl00_w00215/stageLR/lib64/python3.6/site-packages/sklearn/metrics/_classification.py:1245: UndefinedMetricWarning:\n",
      "\n",
      "Precision and F-score are ill-defined and being set to 0.0 in labels with no predicted samples. Use `zero_division` parameter to control this behavior.\n",
      "\n"
     ]
    }
   ],
   "source": [
    "print(classification_report(labelencoder.inverse_transform(y_test.tolist()),labelencoder.inverse_transform(pred.tolist())))"
   ]
  },
  {
   "cell_type": "code",
   "execution_count": 34,
   "id": "intense-failure",
   "metadata": {},
   "outputs": [
    {
     "name": "stdout",
     "output_type": "stream",
     "text": [
      "[[439 182  69  71  61]\n",
      " [ 11  13   0   0   2]\n",
      " [  0   0   0   0   0]\n",
      " [  0   0   0   0   0]\n",
      " [  0   0   0   0   0]]\n"
     ]
    },
    {
     "data": {
      "image/png": "[encoded data removed]",
      "text/plain": [
       "<Figure size 720x504 with 2 Axes>"
      ]
     },
     "metadata": {
      "needs_background": "light"
     },
     "output_type": "display_data"
    }
   ],
   "source": [
    "labels=['informative/persuasive','directive/instructive', 'commissive', 'declarative', 'miscellaneous']\n",
    "x = labels\n",
    "y = labels\n",
    "\n",
    "cm = confusion_matrix(labelencoder.inverse_transform(pred.tolist()), labelencoder.inverse_transform(y_test.tolist()), normalize=None, labels=labels)\n",
    "\n",
    "print(cm)\n",
    "#fig = ff.create_annotated_heatmap(cm, x=x, y=y, annotation_text=z_text, colorscale='Viridis')\n",
    "#fig.show(\"notebook\")\n",
    "\n",
    "plt.figure(figsize = (10,7))\n",
    "plot = sns.heatmap(cm, annot=True, xticklabels=x, yticklabels=y, cmap='Blues', fmt='d')\n",
    "plot.set_xlabel(\"True label\")\n",
    "plot.set_ylabel(\"Prediction\")\n",
    "plot\n",
    "plt.tight_layout(pad=2)\n",
    "plot.figure.savefig('pics/SVMcontext_test.png')"
   ]
  },
  {
   "cell_type": "markdown",
   "id": "empirical-basin",
   "metadata": {},
   "source": [
    "## SVM with SAV features"
   ]
  },
  {
   "cell_type": "code",
   "execution_count": 35,
   "id": "industrial-efficiency",
   "metadata": {},
   "outputs": [],
   "source": [
    "SAV_feature_df = pd.read_csv('SAV_features.csv', sep= ';')\n",
    "SAV_feature_df = SAV_feature_df[['informative/persuasive', 'directive/instructive', 'commissive', 'declarative', 'miscellaneous']]"
   ]
  },
  {
   "cell_type": "code",
   "execution_count": 36,
   "id": "boring-first",
   "metadata": {},
   "outputs": [],
   "source": [
    "trainingfile_ens = pd.DataFrame()\n",
    "trainingfile_ens = pd.concat([trainingfile, SAV_feature_df], axis=1)\n"
   ]
  },
  {
   "cell_type": "code",
   "execution_count": null,
   "id": "reasonable-classroom",
   "metadata": {},
   "outputs": [],
   "source": []
  },
  {
   "cell_type": "markdown",
   "id": "designed-companion",
   "metadata": {},
   "source": [
    "### adapt feature extraction function"
   ]
  },
  {
   "cell_type": "code",
   "execution_count": 37,
   "id": "furnished-creator",
   "metadata": {},
   "outputs": [],
   "source": [
    "def extract_features_labels_ens(trainingfile):\n",
    "    data = []\n",
    "    targets = []\n",
    "    index = -1\n",
    "    new_dict = dict()\n",
    "    features_list = []\n",
    "    vector_list = []\n",
    "    text_list = []\n",
    "    shape_list = []\n",
    "    \n",
    "    trainingfile = trainingfile.values.tolist()\n",
    "    \n",
    "    for row in trainingfile:\n",
    "    \n",
    "        text = row[4]\n",
    "        text = str(text).replace('\\n\\n', '')\n",
    "        #print(text, len(text))\n",
    "        if len(text) > 5:\n",
    "            vector = nlp(text).vector\n",
    "            #print(vector.shape)\n",
    "            shape_list.append(vector.shape)\n",
    "        else:\n",
    "            vector = np.zeros(768)\n",
    "            #print(vector.shape)\n",
    "            shape_list.append(vector.shape)\n",
    "        label = row[-6]\n",
    "        inf_pers = row[-5]\n",
    "        dir_ins = row[-4]\n",
    "        comm = row[-3]\n",
    "        decl = row[-2]\n",
    "        misc = row[-1]\n",
    "\n",
    "        feature_dict = {\n",
    "            'text' : text,\n",
    "            'informative/persuasive' : inf_pers,\n",
    "            'directive/instructive' : dir_ins,\n",
    "            'commissive' : comm,\n",
    "            'declarative' : decl,\n",
    "            'miscellaneous' : misc\n",
    "        }\n",
    "        \n",
    "        #text_without_sw = \n",
    "        \n",
    "        data.append(feature_dict)\n",
    "        targets.append(label)\n",
    "        text_list.append(text)\n",
    "        vector_list.append(vector)\n",
    "            \n",
    "    return data, targets, vector_list, text_list, shape_list        \n",
    "      "
   ]
  },
  {
   "cell_type": "code",
   "execution_count": 38,
   "id": "limiting-lighter",
   "metadata": {},
   "outputs": [],
   "source": [
    "X = extract_features_labels_ens(trainingfile_ens)[0]\n",
    "y = extract_features_labels_ens(trainingfile_ens)[1]\n",
    "y_enc = labelencoder.fit_transform(y)\n"
   ]
  },
  {
   "cell_type": "code",
   "execution_count": 39,
   "id": "common-motion",
   "metadata": {},
   "outputs": [
    {
     "name": "stdout",
     "output_type": "stream",
     "text": [
      "Counter({'informative/persuasive': 1125, 'directive/instructive': 487, 'declarative': 178, 'commissive': 171, 'miscellaneous': 158})\n"
     ]
    }
   ],
   "source": [
    "print(Counter(y))"
   ]
  },
  {
   "cell_type": "code",
   "execution_count": 40,
   "id": "essential-count",
   "metadata": {},
   "outputs": [],
   "source": [
    "X_train, X_valtest, y_train, y_valtest = train_test_split(X, y_enc, test_size=0.2, random_state=42, stratify=trainingfile_ens['SA Label'])\n",
    "\n",
    "X_val, X_test, y_val, y_test = train_test_split(X_valtest, y_valtest, test_size= 0.5, random_state=42, stratify=y_valtest)\n",
    "  \n"
   ]
  },
  {
   "cell_type": "markdown",
   "id": "light-period",
   "metadata": {},
   "source": [
    "### Evaluation on developmet set"
   ]
  },
  {
   "cell_type": "code",
   "execution_count": 41,
   "id": "complicated-effect",
   "metadata": {},
   "outputs": [
    {
     "name": "stdout",
     "output_type": "stream",
     "text": [
      "                        precision    recall  f1-score   support\n",
      "\n",
      "            commissive       0.00      0.00      0.00        17\n",
      "           declarative       0.00      0.00      0.00        18\n",
      " directive/instructive       0.58      0.15      0.23        48\n",
      "informative/persuasive       0.56      0.97      0.71       113\n",
      "         miscellaneous       0.00      0.00      0.00        16\n",
      "\n",
      "              accuracy                           0.55       212\n",
      "             macro avg       0.23      0.22      0.19       212\n",
      "          weighted avg       0.43      0.55      0.43       212\n",
      "\n"
     ]
    },
    {
     "name": "stderr",
     "output_type": "stream",
     "text": [
      "/home/ADS/rinkl00_w00215/stageLR/lib64/python3.6/site-packages/sklearn/metrics/_classification.py:1245: UndefinedMetricWarning:\n",
      "\n",
      "Precision and F-score are ill-defined and being set to 0.0 in labels with no predicted samples. Use `zero_division` parameter to control this behavior.\n",
      "\n",
      "/home/ADS/rinkl00_w00215/stageLR/lib64/python3.6/site-packages/sklearn/metrics/_classification.py:1245: UndefinedMetricWarning:\n",
      "\n",
      "Precision and F-score are ill-defined and being set to 0.0 in labels with no predicted samples. Use `zero_division` parameter to control this behavior.\n",
      "\n",
      "/home/ADS/rinkl00_w00215/stageLR/lib64/python3.6/site-packages/sklearn/metrics/_classification.py:1245: UndefinedMetricWarning:\n",
      "\n",
      "Precision and F-score are ill-defined and being set to 0.0 in labels with no predicted samples. Use `zero_division` parameter to control this behavior.\n",
      "\n"
     ]
    }
   ],
   "source": [
    "model, vec = create_classifier(X_train, y_train)\n",
    "\n",
    "pred = classify_data(model, vec, X_val, 'pred.csv')\n",
    "\n",
    "print(classification_report(labelencoder.inverse_transform(y_val.tolist()),labelencoder.inverse_transform(pred.tolist())))"
   ]
  },
  {
   "cell_type": "code",
   "execution_count": 42,
   "id": "grand-discipline",
   "metadata": {},
   "outputs": [
    {
     "name": "stdout",
     "output_type": "stream",
     "text": [
      "[[110  39  15  18  15]\n",
      " [  2   7   2   0   1]\n",
      " [  1   2   0   0   0]\n",
      " [  0   0   0   0   0]\n",
      " [  0   0   0   0   0]]\n"
     ]
    },
    {
     "data": {
      "image/png": "[encoded data removed]",
      "text/plain": [
       "<Figure size 720x504 with 2 Axes>"
      ]
     },
     "metadata": {
      "needs_background": "light"
     },
     "output_type": "display_data"
    }
   ],
   "source": [
    "labels=['informative/persuasive','directive/instructive', 'commissive', 'declarative', 'miscellaneous']\n",
    "x = labels\n",
    "y = labels\n",
    "\n",
    "cm = confusion_matrix(labelencoder.inverse_transform(pred.tolist()), labelencoder.inverse_transform(y_val.tolist()), normalize=None, labels=labels)\n",
    "\n",
    "print(cm)\n",
    "#fig = ff.create_annotated_heatmap(cm, x=x, y=y, annotation_text=z_text, colorscale='Viridis')\n",
    "#fig.show(\"notebook\")\n",
    "\n",
    "plt.figure(figsize = (10,7))\n",
    "plot = sns.heatmap(cm, annot=True, xticklabels=x, yticklabels=y, cmap='Blues', fmt='d')\n",
    "plot.set_xlabel(\"True label\")\n",
    "plot.set_ylabel(\"Prediction\")\n",
    "plot\n",
    "plt.tight_layout(pad=2)\n",
    "plot.figure.savefig('pics/SVM_RBS_val.png')"
   ]
  },
  {
   "cell_type": "markdown",
   "id": "documented-munich",
   "metadata": {},
   "source": [
    "### Evaluation on test set"
   ]
  },
  {
   "cell_type": "code",
   "execution_count": 43,
   "id": "stainless-miracle",
   "metadata": {},
   "outputs": [
    {
     "name": "stdout",
     "output_type": "stream",
     "text": [
      "                        precision    recall  f1-score   support\n",
      "\n",
      "            commissive       0.00      0.00      0.00        17\n",
      "           declarative       0.00      0.00      0.00        18\n",
      " directive/instructive       0.33      0.10      0.16        49\n",
      "informative/persuasive       0.54      0.94      0.68       112\n",
      "         miscellaneous       0.00      0.00      0.00        16\n",
      "\n",
      "              accuracy                           0.52       212\n",
      "             macro avg       0.17      0.21      0.17       212\n",
      "          weighted avg       0.36      0.52      0.40       212\n",
      "\n"
     ]
    },
    {
     "name": "stderr",
     "output_type": "stream",
     "text": [
      "/home/ADS/rinkl00_w00215/stageLR/lib64/python3.6/site-packages/sklearn/metrics/_classification.py:1245: UndefinedMetricWarning:\n",
      "\n",
      "Precision and F-score are ill-defined and being set to 0.0 in labels with no predicted samples. Use `zero_division` parameter to control this behavior.\n",
      "\n",
      "/home/ADS/rinkl00_w00215/stageLR/lib64/python3.6/site-packages/sklearn/metrics/_classification.py:1245: UndefinedMetricWarning:\n",
      "\n",
      "Precision and F-score are ill-defined and being set to 0.0 in labels with no predicted samples. Use `zero_division` parameter to control this behavior.\n",
      "\n",
      "/home/ADS/rinkl00_w00215/stageLR/lib64/python3.6/site-packages/sklearn/metrics/_classification.py:1245: UndefinedMetricWarning:\n",
      "\n",
      "Precision and F-score are ill-defined and being set to 0.0 in labels with no predicted samples. Use `zero_division` parameter to control this behavior.\n",
      "\n"
     ]
    }
   ],
   "source": [
    "pred = classify_data(model, vec, X_test, 'pred.csv')\n",
    "\n",
    "print(classification_report(labelencoder.inverse_transform(y_test.tolist()),labelencoder.inverse_transform(pred.tolist())))"
   ]
  },
  {
   "cell_type": "code",
   "execution_count": 44,
   "id": "acting-voltage",
   "metadata": {},
   "outputs": [
    {
     "name": "stdout",
     "output_type": "stream",
     "text": [
      "[[105  42  14  18  16]\n",
      " [  7   5   3   0   0]\n",
      " [  0   2   0   0   0]\n",
      " [  0   0   0   0   0]\n",
      " [  0   0   0   0   0]]\n"
     ]
    },
    {
     "data": {
      "image/png": "[encoded data removed]",
      "text/plain": [
       "<Figure size 720x504 with 2 Axes>"
      ]
     },
     "metadata": {
      "needs_background": "light"
     },
     "output_type": "display_data"
    }
   ],
   "source": [
    "labels=['informative/persuasive','directive/instructive', 'commissive', 'declarative', 'miscellaneous']\n",
    "x = labels\n",
    "y = labels\n",
    "\n",
    "cm = confusion_matrix(labelencoder.inverse_transform(pred.tolist()), labelencoder.inverse_transform(y_test.tolist()), normalize=None, labels=labels)\n",
    "\n",
    "print(cm)\n",
    "#fig = ff.create_annotated_heatmap(cm, x=x, y=y, annotation_text=z_text, colorscale='Viridis')\n",
    "#fig.show(\"notebook\")\n",
    "\n",
    "plt.figure(figsize = (10,7))\n",
    "plot = sns.heatmap(cm, annot=True, xticklabels=x, yticklabels=y, cmap='Blues', fmt='d')\n",
    "plot.set_xlabel(\"True label\")\n",
    "plot.set_ylabel(\"Prediction\")\n",
    "plot\n",
    "plt.tight_layout(pad=2)\n",
    "plot.figure.savefig('pics/SVM_RBS_test.png')"
   ]
  },
  {
   "cell_type": "markdown",
   "id": "headed-partnership",
   "metadata": {},
   "source": [
    "## Classification Decision tree "
   ]
  },
  {
   "cell_type": "code",
   "execution_count": 45,
   "id": "universal-latin",
   "metadata": {},
   "outputs": [
    {
     "data": {
      "text/plain": [
       "FileName                                               NCV113.xml\n",
       "FileCaption     NCV113 Meded pandrecht en inning verpande vord...\n",
       "Text            Betreft: Mededeling pandrecht en inning verpan...\n",
       "len_text                                                     1724\n",
       "cleaned_text    Mededeling pandrecht en inning verpande vorder...\n",
       "SA Label                                   informative/persuasive\n",
       "Name: 0, dtype: object"
      ]
     },
     "execution_count": 45,
     "metadata": {},
     "output_type": "execute_result"
    }
   ],
   "source": [
    "trainingfile.iloc[0]"
   ]
  },
  {
   "cell_type": "code",
   "execution_count": 46,
   "id": "ignored-fight",
   "metadata": {},
   "outputs": [],
   "source": [
    "clf_dt = DecisionTreeClassifier(max_depth=15, random_state = 42)\n",
    "\n",
    "\n",
    "\n"
   ]
  },
  {
   "cell_type": "code",
   "execution_count": 47,
   "id": "meaningful-treasury",
   "metadata": {},
   "outputs": [],
   "source": [
    "X = extract_features_labels(trainingfile)[2]\n",
    "y = extract_features_labels(trainingfile)[1]\n",
    "y_enc = labelencoder.fit_transform(y)\n",
    "\n"
   ]
  },
  {
   "cell_type": "code",
   "execution_count": 48,
   "id": "successful-organic",
   "metadata": {},
   "outputs": [],
   "source": [
    "X_train, X_valtest, y_train, y_valtest = train_test_split(X, y_enc, test_size=0.2, random_state=42, stratify=trainingfile['SA Label'])\n",
    "\n",
    "X_val, X_test, y_val, y_test = train_test_split(X_valtest, y_valtest, test_size= 0.5, random_state=42, stratify=y_valtest)\n",
    "  "
   ]
  },
  {
   "cell_type": "code",
   "execution_count": 49,
   "id": "deadly-marsh",
   "metadata": {},
   "outputs": [
    {
     "data": {
      "text/plain": [
       "array([ 41.056774, -34.8903  , -19.432333, -17.847483,  -8.63696 ,\n",
       "       -70.38027 ,  10.204559, -40.37361 , -22.496553,  40.299805],\n",
       "      dtype=float32)"
      ]
     },
     "execution_count": 49,
     "metadata": {},
     "output_type": "execute_result"
    }
   ],
   "source": [
    "X[0][:10]"
   ]
  },
  {
   "cell_type": "code",
   "execution_count": 50,
   "id": "supposed-supervisor",
   "metadata": {},
   "outputs": [
    {
     "data": {
      "text/plain": [
       "DecisionTreeClassifier(max_depth=15, random_state=42)"
      ]
     },
     "execution_count": 50,
     "metadata": {},
     "output_type": "execute_result"
    }
   ],
   "source": [
    "clf_dt.fit(X_train, y_train)"
   ]
  },
  {
   "cell_type": "markdown",
   "id": "exotic-slovak",
   "metadata": {},
   "source": [
    "## Evaluation on development set"
   ]
  },
  {
   "cell_type": "code",
   "execution_count": 51,
   "id": "funny-lemon",
   "metadata": {},
   "outputs": [
    {
     "name": "stdout",
     "output_type": "stream",
     "text": [
      "15\n",
      "DecisionTreeClassifier(max_depth=15, random_state=42)\n"
     ]
    }
   ],
   "source": [
    "pred_dt = clf_dt.predict(X_val)\n",
    "print(clf_dt.get_depth())\n",
    "\n",
    "print(clf_dt)"
   ]
  },
  {
   "cell_type": "code",
   "execution_count": 52,
   "id": "technical-census",
   "metadata": {},
   "outputs": [
    {
     "name": "stdout",
     "output_type": "stream",
     "text": [
      "                        precision    recall  f1-score   support\n",
      "\n",
      "            commissive       0.12      0.12      0.12        17\n",
      "           declarative       0.08      0.06      0.06        18\n",
      " directive/instructive       0.49      0.48      0.48        48\n",
      "informative/persuasive       0.58      0.62      0.60       113\n",
      "         miscellaneous       0.36      0.31      0.33        16\n",
      "\n",
      "              accuracy                           0.48       212\n",
      "             macro avg       0.32      0.32      0.32       212\n",
      "          weighted avg       0.46      0.48      0.47       212\n",
      "\n"
     ]
    },
    {
     "data": {
      "text/plain": [
       "Counter({3: 121, 2: 47, 1: 13, 0: 17, 4: 14})"
      ]
     },
     "execution_count": 52,
     "metadata": {},
     "output_type": "execute_result"
    }
   ],
   "source": [
    "print(classification_report(labelencoder.inverse_transform(y_val.tolist()),labelencoder.inverse_transform(pred_dt.tolist())))\n",
    "\n",
    "\n",
    "Counter(pred_dt)"
   ]
  },
  {
   "cell_type": "code",
   "execution_count": 53,
   "id": "human-music",
   "metadata": {},
   "outputs": [
    {
     "name": "stdout",
     "output_type": "stream",
     "text": [
      "[[70 18  9 14 10]\n",
      " [15 23  6  2  1]\n",
      " [ 9  5  2  1  0]\n",
      " [11  1  0  1  0]\n",
      " [ 8  1  0  0  5]]\n"
     ]
    },
    {
     "data": {
      "image/png": "[encoded data removed]",
      "text/plain": [
       "<Figure size 720x504 with 2 Axes>"
      ]
     },
     "metadata": {
      "needs_background": "light"
     },
     "output_type": "display_data"
    }
   ],
   "source": [
    "labels=['informative/persuasive','directive/instructive', 'commissive', 'declarative', 'miscellaneous']\n",
    "x = labels\n",
    "y = labels\n",
    "\n",
    "cm = confusion_matrix(labelencoder.inverse_transform(pred_dt.tolist()), labelencoder.inverse_transform(y_val.tolist()), normalize=None, labels=labels)\n",
    "\n",
    "print(cm)\n",
    "#fig = ff.create_annotated_heatmap(cm, x=x, y=y, annotation_text=z_text, colorscale='Viridis')\n",
    "#fig.show(\"notebook\")\n",
    "\n",
    "plt.figure(figsize = (10,7))\n",
    "plot = sns.heatmap(cm, annot=True, xticklabels=x, yticklabels=y, cmap='Blues', fmt='d')\n",
    "plot.set_xlabel(\"True label\")\n",
    "plot.set_ylabel(\"Prediction\")\n",
    "plot\n",
    "plt.tight_layout(pad=2)\n",
    "plot.figure.savefig('pics/DT_val.png')"
   ]
  },
  {
   "cell_type": "markdown",
   "id": "strange-extra",
   "metadata": {},
   "source": [
    "## Evaluation on test set"
   ]
  },
  {
   "cell_type": "code",
   "execution_count": 54,
   "id": "adaptive-january",
   "metadata": {},
   "outputs": [
    {
     "name": "stdout",
     "output_type": "stream",
     "text": [
      "15\n",
      "                        precision    recall  f1-score   support\n",
      "\n",
      "            commissive       0.18      0.24      0.21        17\n",
      "           declarative       0.12      0.17      0.14        18\n",
      " directive/instructive       0.47      0.37      0.41        49\n",
      "informative/persuasive       0.60      0.60      0.60       112\n",
      "         miscellaneous       0.19      0.19      0.19        16\n",
      "\n",
      "              accuracy                           0.45       212\n",
      "             macro avg       0.31      0.31      0.31       212\n",
      "          weighted avg       0.46      0.45      0.45       212\n",
      "\n"
     ]
    },
    {
     "data": {
      "text/plain": [
       "Counter({3: 112, 4: 16, 0: 22, 1: 24, 2: 38})"
      ]
     },
     "execution_count": 54,
     "metadata": {},
     "output_type": "execute_result"
    }
   ],
   "source": [
    "pred_dt = clf_dt.predict(X_test)\n",
    "print(clf_dt.get_depth())\n",
    "\n",
    "print(classification_report(labelencoder.inverse_transform(y_test.tolist()),labelencoder.inverse_transform(pred_dt.tolist())))\n",
    "\n",
    "\n",
    "Counter(pred_dt)\n"
   ]
  },
  {
   "cell_type": "code",
   "execution_count": 55,
   "id": "pleasant-afghanistan",
   "metadata": {},
   "outputs": [
    {
     "name": "stdout",
     "output_type": "stream",
     "text": [
      "[[67 13  9 13 10]\n",
      " [16 18  2  1  1]\n",
      " [10  8  4  0  0]\n",
      " [10  7  2  3  2]\n",
      " [ 9  3  0  1  3]]\n"
     ]
    },
    {
     "data": {
      "image/png": "[encoded data removed]",
      "text/plain": [
       "<Figure size 720x504 with 2 Axes>"
      ]
     },
     "metadata": {
      "needs_background": "light"
     },
     "output_type": "display_data"
    }
   ],
   "source": [
    "labels=['informative/persuasive','directive/instructive', 'commissive', 'declarative', 'miscellaneous']\n",
    "x = labels\n",
    "y = labels\n",
    "\n",
    "cm = confusion_matrix(labelencoder.inverse_transform(pred_dt.tolist()), labelencoder.inverse_transform(y_test.tolist()), normalize=None, labels=labels)\n",
    "\n",
    "print(cm)\n",
    "#fig = ff.create_annotated_heatmap(cm, x=x, y=y, annotation_text=z_text, colorscale='Viridis')\n",
    "#fig.show(\"notebook\")\n",
    "\n",
    "plt.figure(figsize = (10,7))\n",
    "plot = sns.heatmap(cm, annot=True, xticklabels=x, yticklabels=y, cmap='Blues', fmt='d')\n",
    "plot.set_xlabel(\"True label\")\n",
    "plot.set_ylabel(\"Prediction\")\n",
    "plot\n",
    "plt.tight_layout(pad=2)\n",
    "plot.figure.savefig('pics/DT_test.png')"
   ]
  },
  {
   "cell_type": "markdown",
   "id": "fitted-central",
   "metadata": {},
   "source": [
    "### Error analysis"
   ]
  },
  {
   "cell_type": "code",
   "execution_count": 56,
   "id": "incorporated-windsor",
   "metadata": {},
   "outputs": [],
   "source": [
    "error_analysis = pd.DataFrame### per domain?"
   ]
  },
  {
   "cell_type": "code",
   "execution_count": 57,
   "id": "joint-procurement",
   "metadata": {},
   "outputs": [],
   "source": [
    "trainingfile = pd.read_csv('DatasetSA_classification.csv', sep=';')\n",
    "X = trainingfile[[\"cleaned_text\"]]\n",
    "y = trainingfile['SA Label']"
   ]
  },
  {
   "cell_type": "code",
   "execution_count": 58,
   "id": "funded-anatomy",
   "metadata": {},
   "outputs": [],
   "source": [
    "X_train, X_valtest, y_train, y_valtest = train_test_split(X, y, test_size=0.2, random_state=42, stratify=trainingfile['SA Label'])\n",
    "\n",
    "X_val, X_test, y_val, y_test = train_test_split(X_valtest, y_valtest, test_size= 0.5, random_state=42, stratify=y_valtest)\n",
    "  "
   ]
  },
  {
   "cell_type": "code",
   "execution_count": null,
   "id": "suspended-running",
   "metadata": {},
   "outputs": [],
   "source": []
  },
  {
   "cell_type": "code",
   "execution_count": 59,
   "id": "rapid-affect",
   "metadata": {},
   "outputs": [],
   "source": [
    "error_analysis= X_test[['cleaned_text']]"
   ]
  },
  {
   "cell_type": "code",
   "execution_count": 60,
   "id": "editorial-friendship",
   "metadata": {},
   "outputs": [],
   "source": [
    "error_analysis['gold_label'] = y_test"
   ]
  },
  {
   "cell_type": "code",
   "execution_count": 61,
   "id": "round-disposal",
   "metadata": {},
   "outputs": [],
   "source": [
    "error_analysis['prediction'] = labelencoder.inverse_transform(pred_dt)"
   ]
  },
  {
   "cell_type": "code",
   "execution_count": 62,
   "id": "statistical-filling",
   "metadata": {},
   "outputs": [],
   "source": [
    "training = X_train\n",
    "training[\"label\"] = y_train"
   ]
  },
  {
   "cell_type": "code",
   "execution_count": 223,
   "id": "legal-tamil",
   "metadata": {},
   "outputs": [
    {
     "name": "stdout",
     "output_type": "stream",
     "text": [
      "527\n",
      "(1305, 2)\n"
     ]
    }
   ],
   "source": [
    "count_U= 0\n",
    "\n",
    "for text in training[training[\"label\"] != 'directive/instructive'].values:\n",
    "    #print(text)\n",
    "    if \"u \" in str(text).lower():\n",
    "        count_U += 1\n",
    "    \n",
    "print(count_U)\n",
    "print(training[training['label'] != 'directive/instructive'].shape)"
   ]
  },
  {
   "cell_type": "code",
   "execution_count": 189,
   "id": "right-database",
   "metadata": {},
   "outputs": [
    {
     "name": "stdout",
     "output_type": "stream",
     "text": [
      "['Vergunning intrekken of wijzigen Ik kan uw vergunning intrekken of wijzigen.'\n",
      " 'informative/persuasive' 'declarative']\n",
      "['toch loonheffingen en omzetbelasting diende af te dragen, dan aanvaardt de Belastingdienst geen aansprakelijkheid voor eventuele nadelige gevolgen die naar aanleiding van deze beschikking ontstaan zijn.'\n",
      " 'commissive' 'declarative']\n",
      "\n",
      "FINAL COUNTS\n",
      "U: 0\n",
      "counter:  16\n",
      "errors:  10\n",
      "1\n"
     ]
    }
   ],
   "source": [
    "counter = 0\n",
    "error_counter = 0\n",
    "values_list = []\n",
    "values_counter = 0\n",
    "zero_dict_counter = 0\n",
    "u_counter = 0\n",
    "utwo_counter = 0\n",
    "for row in error_analysis.values:\n",
    "    counter += 1\n",
    "    if row[-1] != row[-2]:\n",
    "        error_counter += 1\n",
    "        if row[-1] == 'declarative':\n",
    "            \n",
    "                \n",
    "                print(row)\n",
    "        if error_counter == 10:\n",
    "            break\n",
    "                #print()\n",
    "                #if \"de Belastingdienst \" in row[0]:\n",
    "                    #u_counter += 1\n",
    "        #print(\"Sentence: \", row[0])\n",
    "        #print(\"gold label: \", row[-2], '-- predicted label: ', row[-1])\n",
    "    #            #print()\n",
    "    #if row[-1] == row[-2]:\n",
    "    #if row[-2] == 'commissive':\n",
    "                #if 'u ' in str(row[0]).lower():\n",
    "                #print(row)\n",
    "            #print()\n",
    "                   # u_counter += 1\n",
    "    if ' de belastingdienst' in str(row[0]).lower():\n",
    "            utwo_counter += 1\n",
    "            #print(row)\n",
    "        \n",
    "            \n",
    "            \n",
    "        #print(row)\n",
    "            print()\n",
    "        \n",
    "print(\"FINAL COUNTS\")   \n",
    "print(\"U:\", u_counter )\n",
    "print(\"counter: \", counter)\n",
    "print(\"errors: \", error_counter)\n",
    "print(utwo_counter)"
   ]
  },
  {
   "cell_type": "code",
   "execution_count": 105,
   "id": "collaborative-injury",
   "metadata": {},
   "outputs": [],
   "source": [
    "training_data = X_train"
   ]
  },
  {
   "cell_type": "code",
   "execution_count": 111,
   "id": "driving-edwards",
   "metadata": {},
   "outputs": [],
   "source": [
    "training_data['label'] = y_train"
   ]
  },
  {
   "cell_type": "code",
   "execution_count": 164,
   "id": "divided-laptop",
   "metadata": {},
   "outputs": [],
   "source": [
    "comm_df = training_data[training_data['label'] == 'commissive']"
   ]
  },
  {
   "cell_type": "code",
   "execution_count": 191,
   "id": "surprised-remainder",
   "metadata": {},
   "outputs": [
    {
     "data": {
      "text/html": [
       "<div>\n",
       "<style scoped>\n",
       "    .dataframe tbody tr th:only-of-type {\n",
       "        vertical-align: middle;\n",
       "    }\n",
       "\n",
       "    .dataframe tbody tr th {\n",
       "        vertical-align: top;\n",
       "    }\n",
       "\n",
       "    .dataframe thead th {\n",
       "        text-align: right;\n",
       "    }\n",
       "</style>\n",
       "<table border=\"1\" class=\"dataframe\">\n",
       "  <thead>\n",
       "    <tr style=\"text-align: right;\">\n",
       "      <th></th>\n",
       "      <th>cleaned_text</th>\n",
       "      <th>label</th>\n",
       "      <th>ik u</th>\n",
       "    </tr>\n",
       "  </thead>\n",
       "  <tbody>\n",
       "    <tr>\n",
       "      <th>1698</th>\n",
       "      <td>Als ik besluit aan uw beroep tegemoet te komen...</td>\n",
       "      <td>commissive</td>\n",
       "      <td>True</td>\n",
       "    </tr>\n",
       "    <tr>\n",
       "      <th>607</th>\n",
       "      <td>Als het bestreden bedrag nog niet is voldaan, ...</td>\n",
       "      <td>commissive</td>\n",
       "      <td>True</td>\n",
       "    </tr>\n",
       "    <tr>\n",
       "      <th>1062</th>\n",
       "      <td>Als u niet aan deze voorwaarden voldoet, kan i...</td>\n",
       "      <td>commissive</td>\n",
       "      <td>True</td>\n",
       "    </tr>\n",
       "  </tbody>\n",
       "</table>\n",
       "</div>"
      ],
      "text/plain": [
       "                                           cleaned_text       label  ik u\n",
       "1698  Als ik besluit aan uw beroep tegemoet te komen...  commissive  True\n",
       "607   Als het bestreden bedrag nog niet is voldaan, ...  commissive  True\n",
       "1062  Als u niet aan deze voorwaarden voldoet, kan i...  commissive  True"
      ]
     },
     "execution_count": 191,
     "metadata": {},
     "output_type": "execute_result"
    }
   ],
   "source": [
    "comm_df[:3]"
   ]
  },
  {
   "cell_type": "code",
   "execution_count": 170,
   "id": "korean-worst",
   "metadata": {},
   "outputs": [
    {
     "name": "stdout",
     "output_type": "stream",
     "text": [
      "Counter({False: 131, True: 6})\n",
      "Counter({False: 1660, True: 35})\n"
     ]
    }
   ],
   "source": [
    "print(Counter(comm_df['cleaned_text'].str.contains(' de Belastingdienst ')))\n",
    "print(Counter(training_data['cleaned_text'].str.contains(' de Belastingdienst ')))"
   ]
  },
  {
   "cell_type": "code",
   "execution_count": 171,
   "id": "native-drain",
   "metadata": {},
   "outputs": [],
   "source": [
    "training_data['ik u'] = training_data['cleaned_text'].str.contains(' de Belastingdienst ')"
   ]
  },
  {
   "cell_type": "code",
   "execution_count": 172,
   "id": "center-order",
   "metadata": {},
   "outputs": [
    {
     "data": {
      "text/plain": [
       "Counter({'commissive': 6,\n",
       "         'declarative': 2,\n",
       "         'directive/instructive': 5,\n",
       "         'informative/persuasive': 22})"
      ]
     },
     "execution_count": 172,
     "metadata": {},
     "output_type": "execute_result"
    }
   ],
   "source": [
    "Counter(training_data[training_data['ik u']==True].sort_values(by=['label'])['label'])"
   ]
  },
  {
   "cell_type": "code",
   "execution_count": 173,
   "id": "atmospheric-renaissance",
   "metadata": {},
   "outputs": [
    {
     "data": {
      "text/plain": [
       "Counter({'informative/persuasive': 900,\n",
       "         'declarative': 142,\n",
       "         'directive/instructive': 390,\n",
       "         'commissive': 137,\n",
       "         'miscellaneous': 126})"
      ]
     },
     "execution_count": 173,
     "metadata": {},
     "output_type": "execute_result"
    }
   ],
   "source": [
    "Counter(training_data['label'])"
   ]
  },
  {
   "cell_type": "code",
   "execution_count": null,
   "id": "victorian-omega",
   "metadata": {},
   "outputs": [],
   "source": []
  }
 ],
 "metadata": {
  "kernelspec": {
   "display_name": "Python 3",
   "language": "python",
   "name": "python3"
  },
  "language_info": {
   "codemirror_mode": {
    "name": "ipython",
    "version": 3
   },
   "file_extension": ".py",
   "mimetype": "text/x-python",
   "name": "python",
   "nbconvert_exporter": "python",
   "pygments_lexer": "ipython3",
   "version": "3.6.12"
  }
 },
 "nbformat": 4,
 "nbformat_minor": 5
}
