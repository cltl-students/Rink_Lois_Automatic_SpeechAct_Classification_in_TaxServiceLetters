{
 "cells": [
  {
   "cell_type": "code",
   "execution_count": 1,
   "id": "attractive-shepherd",
   "metadata": {},
   "outputs": [],
   "source": [
    "import spacy\n",
    "from spacy.util import minibatch\n",
    "from sklearn.metrics import confusion_matrix, ConfusionMatrixDisplay, accuracy_score\n",
    "import random\n",
    "import torch\n",
    "import nl_bertje\n",
    "import numpy as np \n",
    "import pandas as pd\n",
    "import matplotlib.pyplot as plt\n",
    "import seaborn as sns\n",
    "import plotly.figure_factory as ff\n",
    "import time\n",
    "import copy\n",
    "from sklearn.model_selection import train_test_split\n",
    "from collections import Counter\n",
    "from sklearn.metrics import classification_report"
   ]
  },
  {
   "cell_type": "code",
   "execution_count": 2,
   "id": "thorough-group",
   "metadata": {},
   "outputs": [],
   "source": [
    "nlp = nl_bertje.load()\n",
    "textcat = nlp.create_pipe('trf_textcat', config={'exclusive_classes': True})"
   ]
  },
  {
   "cell_type": "markdown",
   "id": "foster-mitchell",
   "metadata": {},
   "source": [
    "### Adapt dataset to feed to pipeline"
   ]
  },
  {
   "cell_type": "code",
   "execution_count": null,
   "id": "close-niagara",
   "metadata": {},
   "outputs": [],
   "source": []
  },
  {
   "cell_type": "code",
   "execution_count": 8,
   "id": "specified-breach",
   "metadata": {},
   "outputs": [],
   "source": [
    "cats_dict = {'informative/persuasive': 0, 'directive/instructive': 0, 'commissive': 0, 'declarative': 0, 'miscellaneous': 0}\n",
    "label_dict_list = []\n",
    "train_dataset_BERTje = []\n",
    "\n",
    "#data = pd.read_excel('Annotation_sample_OB_ingevuld_Oele.xlsm', engine='openpyxl')\n",
    "data = pd.read_csv('DatasetSA_classification.csv', sep=';')\n",
    "data = data[['FileCode', 'FileName', 'cleaned_text', 'SA Label' ]]\n",
    "data = data.dropna(subset=['SA Label'])\n",
    "data = data.drop_duplicates(subset= 'cleaned_text')\n",
    "data = data[data[\"cleaned_text\"].str.len() > 30] ##temporary to filter cells with only \\n\n",
    "\n"
   ]
  },
  {
   "cell_type": "code",
   "execution_count": 9,
   "id": "proprietary-liechtenstein",
   "metadata": {},
   "outputs": [
    {
     "name": "stdout",
     "output_type": "stream",
     "text": [
      "Counter({'informative/persuasive': 900, 'directive/instructive': 390, 'declarative': 142, 'commissive': 137, 'miscellaneous': 126})\n",
      "Counter({'informative/persuasive': 113, 'directive/instructive': 48, 'declarative': 18, 'commissive': 17, 'miscellaneous': 16})\n",
      "Counter({'informative/persuasive': 112, 'directive/instructive': 49, 'declarative': 18, 'commissive': 17, 'miscellaneous': 16})\n"
     ]
    }
   ],
   "source": [
    "train_data, test_data = train_test_split(data[['FileCode', 'cleaned_text', 'SA Label']], stratify=data['SA Label'], random_state=42, train_size=0.8)\n",
    "val_data, test_data = train_test_split(test_data[['FileCode', 'cleaned_text', 'SA Label']], stratify=test_data['SA Label'], random_state=42, train_size=0.5)\n",
    "\n",
    "print(Counter(train_data[\"SA Label\"]))\n",
    "print(Counter(val_data[\"SA Label\"]))\n",
    "print(Counter(test_data[\"SA Label\"]))"
   ]
  },
  {
   "cell_type": "code",
   "execution_count": 10,
   "id": "industrial-control",
   "metadata": {},
   "outputs": [],
   "source": [
    "#preprocess training data\n",
    "for label in train_data[\"SA Label\"]:\n",
    "    cats_dict = {'informative/persuasive': 0, 'directive/instructive': 0, 'commissive': 0, 'declarative': 0, 'miscellaneous': 0}\n",
    "    cats_dict[label] += 1 \n",
    "    label_dict_list.append(cats_dict) \n",
    "\n",
    "\n",
    "train_data[\"SA Label\"] = label_dict_list\n",
    "\n",
    "for text, label in zip(train_data[\"cleaned_text\"], train_data[\"SA Label\"]):\n",
    "    #print(len(text), '................', text, \"................\", label)\n",
    "    train_dataset_BERTje.append((nlp(text), {'cats' : label}))\n",
    "    #print(counter)\n",
    "    "
   ]
  },
  {
   "cell_type": "code",
   "execution_count": 11,
   "id": "pleased-peter",
   "metadata": {},
   "outputs": [],
   "source": [
    "#preprocess dev data\n",
    "label_dict_list_val = []\n",
    "val_dataset_BERTje = []\n",
    "\n",
    "for label in val_data[\"SA Label\"]:\n",
    "    cats_dict = {'informative/persuasive': 0, 'directive/instructive': 0, 'commissive': 0, 'declarative': 0, 'miscellaneous': 0}\n",
    "    cats_dict[label] += 1 \n",
    "    label_dict_list_val.append(cats_dict) \n",
    "\n",
    "\n",
    "val_data[\"SA Label\"] = label_dict_list_val\n",
    "\n",
    "for text, label in zip(val_data[\"cleaned_text\"], val_data[\"SA Label\"]):\n",
    "    #print(len(text), '................', text, \"................\", label)\n",
    "    val_dataset_BERTje.append((nlp(text), {'cats' : label}))\n",
    "    #print(counter)"
   ]
  },
  {
   "cell_type": "code",
   "execution_count": 12,
   "id": "bound-healing",
   "metadata": {},
   "outputs": [],
   "source": [
    "#preprocess test data\n",
    "label_dict_list_test = []\n",
    "test_dataset_BERTje = []\n",
    "\n",
    "for label in test_data[\"SA Label\"]:\n",
    "    cats_dict = {'informative/persuasive': 0, 'directive/instructive': 0, 'commissive': 0, 'declarative': 0, 'miscellaneous': 0}\n",
    "    cats_dict[label] += 1 \n",
    "    label_dict_list_test.append(cats_dict) \n",
    "\n",
    "\n",
    "test_data[\"SA Label\"] = label_dict_list_test\n",
    "\n",
    "for text, label in zip(test_data[\"cleaned_text\"], test_data[\"SA Label\"]):\n",
    "    #print(len(text), '................', text, \"................\", label)\n",
    "    test_dataset_BERTje.append((nlp(text), {'cats' : label}))\n",
    "    #print(counter)"
   ]
  },
  {
   "cell_type": "markdown",
   "id": "roman-happening",
   "metadata": {},
   "source": [
    "### Start training"
   ]
  },
  {
   "cell_type": "code",
   "execution_count": 13,
   "id": "consecutive-check",
   "metadata": {},
   "outputs": [],
   "source": [
    "nlp.add_pipe(textcat)\n",
    "for label in ('informative/persuasive', 'directive/instructive', 'commissive', 'declarative', 'miscellaneous'):\n",
    "    textcat.add_label(label)"
   ]
  },
  {
   "cell_type": "code",
   "execution_count": 14,
   "id": "informal-egypt",
   "metadata": {},
   "outputs": [],
   "source": [
    "def train_BERTje(lr, epochs, data_train, labels_train, data_val, labels_val):\n",
    "    optimizer = nlp.resume_training()\n",
    "    optimizer.learn_rate = lr\n",
    "    loss_train = [1]\n",
    "    loss_val = [1]\n",
    "    acc_train = [0]\n",
    "    acc_val = [0]\n",
    "    start = time.time()\n",
    "    for i in range(epochs):\n",
    "        random.shuffle(train_dataset_BERTje)\n",
    "        losses_train = {}\n",
    "        losses_val = {}\n",
    "        for batch in minibatch(train_dataset_BERTje,size=8):\n",
    "            texts,cats = zip(*batch)\n",
    "            nlp.update(texts,cats,sgd=optimizer,losses=losses_train)\n",
    "        loss_train.append(losses_train.get('trf_textcat'))\n",
    "        \n",
    "        for batch in minibatch(val_dataset_BERTje,size=8):\n",
    "            texts,cats = zip(*batch)\n",
    "            nlp.update(texts,cats,sgd=optimizer,losses=losses_val)\n",
    "        loss_val.append(losses_val.get('trf_textcat'))\n",
    "        \n",
    "    stop = time.time()\n",
    "    print(f\"Total running time for {epochs} epochs: \", stop-start, \". Finished at: \", stop)\n",
    "    return loss_train, loss_val\n",
    "  "
   ]
  },
  {
   "cell_type": "code",
   "execution_count": 15,
   "id": "religious-domestic",
   "metadata": {},
   "outputs": [],
   "source": [
    "def predict_BERTje(data):  \n",
    "    predictions = []\n",
    "    for text in data:\n",
    "        #print(nlp(text).cats)\n",
    "        desc_dict = nlp(text).cats\n",
    "        prediction = max(desc_dict, key=desc_dict.get)\n",
    "        #print(prediction)\n",
    "        predictions.append(prediction)\n",
    "    return predictions"
   ]
  },
  {
   "cell_type": "code",
   "execution_count": 16,
   "id": "lasting-attempt",
   "metadata": {},
   "outputs": [],
   "source": [
    "def cycle_train_val(lr, epochs, train_data, train_labels, val_data, val_labels): ##combines training and classifying\n",
    "    accuracy_list_train = [0]\n",
    "    accuracy_list_val = [0]\n",
    "    cat_list_train = []\n",
    "    cat_list_val = []\n",
    "\n",
    "    for label_dict in train_labels:\n",
    "        #print(label_dict)\n",
    "        cat = max(label_dict, key=label_dict.get)\n",
    "        cat_list_train.append(cat)\n",
    "\n",
    "    for label_dict in val_labels:\n",
    "        #print(label_dict)\n",
    "        cat = max(label_dict, key=label_dict.get)\n",
    "        cat_list_val.append(cat)\n",
    "\n",
    "    for i in range(10,int(epochs+1)): #adapt to save accuracy and loss per epoch\n",
    "        print(i)\n",
    "        #print(i)\n",
    "        accuracy_list = [0]\n",
    "        loss_t, loss_v = train_BERTje(lr, i, train_data, train_labels, val_data, val_labels)\n",
    "        predictions_train = predict_BERTje(train_data)\n",
    "        predictions_val = predict_BERTje(val_data)\n",
    "        y_true_train = cat_list_train\n",
    "        y_pred_train = predictions_train\n",
    "        y_true_val = cat_list_val\n",
    "        y_pred_val = predictions_val\n",
    "\n",
    "        accuracy_train = accuracy_score(y_true_train, y_pred_train)\n",
    "        accuracy_t = copy.deepcopy(accuracy_train)\n",
    "        accuracy_list_train.append(accuracy_t)\n",
    "        accuracy_val = accuracy_score(y_true_val, y_pred_val)\n",
    "        accuracy_v = copy.deepcopy(accuracy_val)\n",
    "        accuracy_list_val.append(accuracy_v)\n",
    "\n",
    "    return loss_t, loss_v, accuracy_list_train, accuracy_list_val, predictions_train, predictions_val\n",
    "    \n"
   ]
  },
  {
   "cell_type": "code",
   "execution_count": 17,
   "id": "economic-queens",
   "metadata": {},
   "outputs": [
    {
     "name": "stdout",
     "output_type": "stream",
     "text": [
      "10\n"
     ]
    },
    {
     "name": "stderr",
     "output_type": "stream",
     "text": [
      "/home/ADS/rinkl00_w00215/stageLR/lib64/python3.6/site-packages/torch/autograd/__init__.py:132: UserWarning:\n",
      "\n",
      "CUDA initialization: Found no NVIDIA driver on your system. Please check that you have an NVIDIA GPU and installed a driver from http://www.nvidia.com/Download/index.aspx (Triggered internally at  /pytorch/c10/cuda/CUDAFunctions.cpp:100.)\n",
      "\n",
      "/home/ADS/rinkl00_w00215/stageLR/lib/python3.6/site-packages/transformers/optimization.py:155: UserWarning:\n",
      "\n",
      "This overload of add_ is deprecated:\n",
      "\tadd_(Number alpha, Tensor other)\n",
      "Consider using one of the following signatures instead:\n",
      "\tadd_(Tensor other, *, Number alpha) (Triggered internally at  /pytorch/torch/csrc/utils/python_arg_parser.cpp:882.)\n",
      "\n"
     ]
    },
    {
     "name": "stdout",
     "output_type": "stream",
     "text": [
      "Total running time for 10 epochs:  28994.238926887512 . Finished at:  1653846562.6780536\n"
     ]
    }
   ],
   "source": [
    "loss_t, val_t, accuracy_list_train, accuracy_list_val, predictions_train, predictions_val = cycle_train_val(0.05, 10, train_data[\"cleaned_text\"], train_data[\"SA Label\"], val_data[\"cleaned_text\"], val_data[\"SA Label\"])"
   ]
  },
  {
   "cell_type": "markdown",
   "id": "regional-mixture",
   "metadata": {},
   "source": [
    "## Loss and accuracy per epoch"
   ]
  },
  {
   "cell_type": "code",
   "execution_count": null,
   "id": "interpreted-lithuania",
   "metadata": {},
   "outputs": [],
   "source": [
    "print(Counter(predictions_train))\n",
    "gold_labels_val = []\n",
    "for label in val_data[\"SA Label\"]:\n",
    "    gold_labels_val.append(max(label, key=label.get))"
   ]
  },
  {
   "cell_type": "code",
   "execution_count": 57,
   "id": "chinese-castle",
   "metadata": {},
   "outputs": [
    {
     "name": "stdout",
     "output_type": "stream",
     "text": [
      "Counter({'informative/persuasive': 212})\n"
     ]
    }
   ],
   "source": [
    "print(Counter(pred_test))\n",
    "gold_labels_test = []\n",
    "for label in test_data[\"SA Label\"]:\n",
    "    gold_labels_test.append(max(label, key=label.get))"
   ]
  },
  {
   "cell_type": "markdown",
   "id": "radical-yukon",
   "metadata": {},
   "source": [
    "## Evaluation"
   ]
  },
  {
   "cell_type": "code",
   "execution_count": 58,
   "id": "bottom-psychiatry",
   "metadata": {},
   "outputs": [
    {
     "name": "stdout",
     "output_type": "stream",
     "text": [
      "                        precision    recall  f1-score   support\n",
      "\n",
      "            commissive       0.00      0.00      0.00        17\n",
      "           declarative       0.00      0.00      0.00        18\n",
      " directive/instructive       0.00      0.00      0.00        48\n",
      "informative/persuasive       0.53      1.00      0.70       113\n",
      "         miscellaneous       0.00      0.00      0.00        16\n",
      "\n",
      "              accuracy                           0.53       212\n",
      "             macro avg       0.11      0.20      0.14       212\n",
      "          weighted avg       0.28      0.53      0.37       212\n",
      "\n"
     ]
    },
    {
     "name": "stderr",
     "output_type": "stream",
     "text": [
      "/home/ADS/rinkl00_w00215/stageLR/lib64/python3.6/site-packages/sklearn/metrics/_classification.py:1245: UndefinedMetricWarning:\n",
      "\n",
      "Precision and F-score are ill-defined and being set to 0.0 in labels with no predicted samples. Use `zero_division` parameter to control this behavior.\n",
      "\n",
      "/home/ADS/rinkl00_w00215/stageLR/lib64/python3.6/site-packages/sklearn/metrics/_classification.py:1245: UndefinedMetricWarning:\n",
      "\n",
      "Precision and F-score are ill-defined and being set to 0.0 in labels with no predicted samples. Use `zero_division` parameter to control this behavior.\n",
      "\n",
      "/home/ADS/rinkl00_w00215/stageLR/lib64/python3.6/site-packages/sklearn/metrics/_classification.py:1245: UndefinedMetricWarning:\n",
      "\n",
      "Precision and F-score are ill-defined and being set to 0.0 in labels with no predicted samples. Use `zero_division` parameter to control this behavior.\n",
      "\n"
     ]
    },
    {
     "data": {
      "text/plain": [
       "<sklearn.metrics._plot.confusion_matrix.ConfusionMatrixDisplay at 0x7f1aaee09048>"
      ]
     },
     "execution_count": 58,
     "metadata": {},
     "output_type": "execute_result"
    }
   ],
   "source": [
    "print(classification_report(gold_labels_val, predictions_val))\n",
    "\n",
    "\n",
    "labels=['informative/persuasive','directive/instructive', 'commissive', 'declarative', 'miscellaneous']\n",
    "x = labels\n",
    "y = labels\n",
    "\n",
    "cm = confusion_matrix(predictions_val, gold_labels_val, normalize=None, labels=labels)\n",
    "#print(set(predictions))\n",
    "#print(set(test_data['SA Label']))\n",
    "cmd = ConfusionMatrixDisplay(cm, display_labels=['informative/persuasive','directive/instructive', 'commisive', 'declarative', 'miscellaneous'])\n",
    "cmd\n",
    "\n"
   ]
  },
  {
   "cell_type": "code",
   "execution_count": 65,
   "id": "medieval-accounting",
   "metadata": {},
   "outputs": [
    {
     "name": "stdout",
     "output_type": "stream",
     "text": [
      "[[112  49  17  18  16]\n",
      " [  0   0   0   0   0]\n",
      " [  0   0   0   0   0]\n",
      " [  0   0   0   0   0]\n",
      " [  0   0   0   0   0]]\n"
     ]
    },
    {
     "data": {
      "image/png": "[encoded data removed]",
      "text/plain": [
       "<Figure size 720x504 with 2 Axes>"
      ]
     },
     "metadata": {},
     "output_type": "display_data"
    }
   ],
   "source": [
    "print(cm)\n",
    "\n",
    "plt.figure(figsize = (10,7))\n",
    "plot = sns.heatmap(cm, annot=True, xticklabels=x, yticklabels=y, cmap='Blues', fmt='d')\n",
    "plot.set_xlabel(\"True label\")\n",
    "plot.set_ylabel(\"Prediction\")\n",
    "plot\n",
    "plt.tight_layout(pad=2)\n",
    "plot.figure.savefig('pics/BERTje_val.png')"
   ]
  },
  {
   "cell_type": "code",
   "execution_count": 61,
   "id": "young-primary",
   "metadata": {},
   "outputs": [],
   "source": [
    "pred_test = predict_BERTje(test_data['cleaned_text'])"
   ]
  },
  {
   "cell_type": "code",
   "execution_count": 62,
   "id": "painful-toronto",
   "metadata": {},
   "outputs": [
    {
     "name": "stdout",
     "output_type": "stream",
     "text": [
      "                        precision    recall  f1-score   support\n",
      "\n",
      "            commissive       0.00      0.00      0.00        17\n",
      "           declarative       0.00      0.00      0.00        18\n",
      " directive/instructive       0.00      0.00      0.00        49\n",
      "informative/persuasive       0.53      1.00      0.69       112\n",
      "         miscellaneous       0.00      0.00      0.00        16\n",
      "\n",
      "              accuracy                           0.53       212\n",
      "             macro avg       0.11      0.20      0.14       212\n",
      "          weighted avg       0.28      0.53      0.37       212\n",
      "\n"
     ]
    },
    {
     "name": "stderr",
     "output_type": "stream",
     "text": [
      "/home/ADS/rinkl00_w00215/stageLR/lib64/python3.6/site-packages/sklearn/metrics/_classification.py:1245: UndefinedMetricWarning:\n",
      "\n",
      "Precision and F-score are ill-defined and being set to 0.0 in labels with no predicted samples. Use `zero_division` parameter to control this behavior.\n",
      "\n",
      "/home/ADS/rinkl00_w00215/stageLR/lib64/python3.6/site-packages/sklearn/metrics/_classification.py:1245: UndefinedMetricWarning:\n",
      "\n",
      "Precision and F-score are ill-defined and being set to 0.0 in labels with no predicted samples. Use `zero_division` parameter to control this behavior.\n",
      "\n",
      "/home/ADS/rinkl00_w00215/stageLR/lib64/python3.6/site-packages/sklearn/metrics/_classification.py:1245: UndefinedMetricWarning:\n",
      "\n",
      "Precision and F-score are ill-defined and being set to 0.0 in labels with no predicted samples. Use `zero_division` parameter to control this behavior.\n",
      "\n"
     ]
    }
   ],
   "source": [
    "print(classification_report(gold_labels_test, pred_test))\n",
    "\n",
    "\n",
    "labels=['informative/persuasive','directive/instructive', 'commissive', 'declarative', 'miscellaneous']\n",
    "x = labels\n",
    "y = labels\n",
    "\n",
    "cm = confusion_matrix(pred_test, gold_labels_test, normalize=None, labels=labels)"
   ]
  },
  {
   "cell_type": "code",
   "execution_count": 64,
   "id": "viral-uncertainty",
   "metadata": {},
   "outputs": [
    {
     "name": "stdout",
     "output_type": "stream",
     "text": [
      "[[112  49  17  18  16]\n",
      " [  0   0   0   0   0]\n",
      " [  0   0   0   0   0]\n",
      " [  0   0   0   0   0]\n",
      " [  0   0   0   0   0]]\n"
     ]
    },
    {
     "data": {
      "image/png": "[encoded data removed]",
      "text/plain": [
       "<Figure size 720x504 with 2 Axes>"
      ]
     },
     "metadata": {},
     "output_type": "display_data"
    }
   ],
   "source": [
    "print(cm)\n",
    "\n",
    "plt.figure(figsize = (10,7))\n",
    "plot = sns.heatmap(cm, annot=True, xticklabels=x, yticklabels=y, cmap='Blues', fmt='d')\n",
    "plot.set_xlabel(\"True label\")\n",
    "plot.set_ylabel(\"Prediction\")\n",
    "plot\n",
    "plt.tight_layout(pad=2)\n",
    "plot.figure.savefig('pics/BERTje_test.png')"
   ]
  },
  {
   "cell_type": "code",
   "execution_count": null,
   "id": "variable-piece",
   "metadata": {},
   "outputs": [],
   "source": []
  },
  {
   "cell_type": "markdown",
   "id": "behavioral-commerce",
   "metadata": {},
   "source": [
    "### Performance per domain"
   ]
  },
  {
   "cell_type": "code",
   "execution_count": 51,
   "id": "generic-walter",
   "metadata": {},
   "outputs": [],
   "source": [
    "def cm_subset(df, true, pred, label, column):\n",
    "    df[\"pred\"] = pred\n",
    "    df = df[df[column] == label]\n",
    "    true = df[\"SA Label\"].tolist()\n",
    "    pred = df[\"pred\"].tolist()\n",
    "    cm = confusion_matrix(true, pred, normalize=None)\n",
    "    \n",
    "    labels=['informative/persuasive','directive/instructive', 'commisive', 'miscellaneous'] ##add declarative later\n",
    "    x = labels\n",
    "    y = labels\n",
    "\n",
    "    plt.figure(figsize = (10,7))\n",
    "    plot = sns.heatmap(cm, annot=True, xticklabels=x, yticklabels=y, cmap='Blues')\n",
    "    plot.set_xlabel(\"True label\")\n",
    "    plot.set_ylabel(\"Prediction\")\n",
    "    plot\n",
    "    "
   ]
  },
  {
   "cell_type": "code",
   "execution_count": null,
   "id": "accepted-cookbook",
   "metadata": {},
   "outputs": [],
   "source": []
  }
 ],
 "metadata": {
  "kernelspec": {
   "display_name": "Python 3",
   "language": "python",
   "name": "python3"
  },
  "language_info": {
   "codemirror_mode": {
    "name": "ipython",
    "version": 3
   },
   "file_extension": ".py",
   "mimetype": "text/x-python",
   "name": "python",
   "nbconvert_exporter": "python",
   "pygments_lexer": "ipython3",
   "version": "3.6.12"
  }
 },
 "nbformat": 4,
 "nbformat_minor": 5
}
