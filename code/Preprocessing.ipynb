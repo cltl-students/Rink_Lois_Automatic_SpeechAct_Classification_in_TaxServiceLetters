{
 "cells": [
  {
   "cell_type": "code",
   "execution_count": 2,
   "id": "phantom-australian",
   "metadata": {},
   "outputs": [],
   "source": [
    "import os\n",
    "import sys\n",
    "import pandas as pd\n",
    "import glob\n",
    "import re\n",
    "import copy\n",
    "import numpy as np\n",
    "import nltk\n",
    "import random\n",
    "\n",
    "from spacy.lang.nl import Dutch\n",
    "\n",
    "from collections import Counter"
   ]
  },
  {
   "cell_type": "code",
   "execution_count": 3,
   "id": "pacific-agenda",
   "metadata": {},
   "outputs": [
    {
     "data": {
      "text/plain": [
       "'/srv/data/Stage_LR'"
      ]
     },
     "execution_count": 3,
     "metadata": {},
     "output_type": "execute_result"
    }
   ],
   "source": [
    "os.getcwd()"
   ]
  },
  {
   "cell_type": "markdown",
   "id": "corresponding-ridge",
   "metadata": {},
   "source": [
    "# Working with dump from file"
   ]
  },
  {
   "cell_type": "code",
   "execution_count": 4,
   "id": "friendly-dynamics",
   "metadata": {},
   "outputs": [
    {
     "name": "stdout",
     "output_type": "stream",
     "text": [
      "/srv/data/Stage_LR/brieven\n"
     ]
    }
   ],
   "source": [
    "filepath = os.getcwd() + '/brieven'\n",
    "print(filepath)"
   ]
  },
  {
   "cell_type": "code",
   "execution_count": 5,
   "id": "directed-validation",
   "metadata": {},
   "outputs": [],
   "source": [
    "info_dict = dict()\n",
    "info_list = []\n",
    "path = '/srv/data/Stage_LR/brieven'\n",
    "counter = 0\n",
    "\n",
    "for filename in glob.glob(os.path.join(path, '*.txt')):\n",
    "   #print(filename)\n",
    "    with open(filename, 'r') as f:\n",
    "        f = f.read()\n",
    "        if ';' in f:\n",
    "            f.replace(';', ':')\n",
    "        info_dict['filename'] = filename\n",
    "        info_dict['text'] = f\n",
    "        info_dict['len_text'] = len(f)\n",
    "        info_dict['Speech Act'] = \"\"\n",
    "        info_list.append(info_dict)\n",
    "        info_dict = dict()\n",
    "        \n",
    "   #break\n"
   ]
  },
  {
   "cell_type": "code",
   "execution_count": 6,
   "id": "literary-anniversary",
   "metadata": {},
   "outputs": [],
   "source": [
    "df = pd.DataFrame(info_list)\n",
    "df = df.drop_duplicates()\n",
    "df = df[df['len_text'] >= 70]\n",
    "df = df.sort_values(ascending=True, by=['len_text'])\n",
    "#df.to_csv(\"txt_df.csv\", sep='\\t')"
   ]
  },
  {
   "cell_type": "markdown",
   "id": "olympic-manhattan",
   "metadata": {},
   "source": [
    "# Working with excel dataframe"
   ]
  },
  {
   "cell_type": "code",
   "execution_count": 7,
   "id": "latest-fighter",
   "metadata": {},
   "outputs": [],
   "source": [
    "df_new = pd.read_excel('results.xlsx', engine='openpyxl')\n"
   ]
  },
  {
   "cell_type": "code",
   "execution_count": 8,
   "id": "permanent-experiment",
   "metadata": {},
   "outputs": [
    {
     "name": "stdout",
     "output_type": "stream",
     "text": [
      "(4, 5)\n"
     ]
    }
   ],
   "source": [
    "print(df_new[df_new[\"FileCode\"] == 'DIV'].shape)"
   ]
  },
  {
   "cell_type": "code",
   "execution_count": 9,
   "id": "covered-worship",
   "metadata": {},
   "outputs": [
    {
     "name": "stdout",
     "output_type": "stream",
     "text": [
      "Initial shape (3690, 12)\n"
     ]
    }
   ],
   "source": [
    "df_new = df_new.sort_values(by='Text', key=lambda x: x.str.len(), ascending=False)\n",
    "df_new[\"len_text\"] = df_new[\"Text\"].str.len()\n",
    "df_new[\"whitespace_count\"] = df_new[\"Text\"].str.count(' ')\n",
    "df_new[\"newline_count\"] = df_new[\"Text\"].str.count('\\n')\n",
    "df_new[\"perc_newline\"] = round((df_new[\"newline_count\"] / df_new[\"len_text\"]) *100, 2)\n",
    "df_new[\"perc_whitespace\"] = round((df_new[\"whitespace_count\"] / df_new[\"len_text\"]) *100, 2) ##determine percentage of whitespace to use for filtering later\n",
    "df_new[\"total_nr_sent\"] = 1 ## will be used later\n",
    "df_new[\"sent_index_in_tb\"] = 0 ## will be used later\n",
    "print(\"Initial shape\", df_new.shape)\n"
   ]
  },
  {
   "cell_type": "code",
   "execution_count": 10,
   "id": "interior-burns",
   "metadata": {},
   "outputs": [
    {
     "name": "stdout",
     "output_type": "stream",
     "text": [
      "Without duplicates:  (3318, 12)\n",
      "Less than 25% whitespace and a total length of more than 30 caracters:  (2891, 12)\n",
      "Index(['FileCode', 'FilePath', 'FileName', 'FileCaption', 'Text', 'len_text',\n",
      "       'whitespace_count', 'newline_count', 'perc_newline', 'perc_whitespace',\n",
      "       'total_nr_sent', 'sent_index_in_tb'],\n",
      "      dtype='object')\n"
     ]
    },
    {
     "data": {
      "text/plain": [
       "(2891, 12)"
      ]
     },
     "execution_count": 10,
     "metadata": {},
     "output_type": "execute_result"
    }
   ],
   "source": [
    "df_new = df_new.drop_duplicates(subset='Text', inplace=False) ##drop duplicate text blocks\n",
    "print(\"Without duplicates: \", df_new.shape)\n",
    "\n",
    "#df_new.to_csv(\"inspect.csv\", ';')\n",
    "df_new = df_new[df_new[\"perc_whitespace\"] < 25] ##only keep text segments with max 25% whitespace\n",
    "df_new = df_new[df_new[\"len_text\"] > 30] ##only keep texts with more than 10 characters\n",
    "print(\"Less than 25% whitespace and a total length of more than 30 caracters: \", df_new.shape)\n",
    "\n",
    "df_new = df_new.sort_values(ascending=False, by=['perc_whitespace'])\n",
    "\n",
    "#df_new.to_csv(\"Full_Text_df.csv\") ##write to csv\n",
    "\n",
    "print(df_new.columns)\n",
    "df_new.shape\n"
   ]
  },
  {
   "cell_type": "markdown",
   "id": "incorrect-variable",
   "metadata": {},
   "source": [
    "## Examples"
   ]
  },
  {
   "cell_type": "code",
   "execution_count": 11,
   "id": "perceived-growing",
   "metadata": {},
   "outputs": [
    {
     "name": "stdout",
     "output_type": "stream",
     "text": [
      "Betreft: Ondernemerschap en belastingplicht voor de omzetbelasting (btw)\n",
      "\n",
      "\n",
      "    \n",
      "    \n",
      "    \n",
      "    \n",
      "    \n",
      " (...)\n"
     ]
    }
   ],
   "source": [
    "counter = 0\n",
    "for text in df_new[\"Text\"]:\n",
    "    counter += 1\n",
    "    #print(text)\n",
    "    #print('-----------------------------------------------------------------------------------------------')\n",
    "    #print()\n",
    "    if counter == 4:\n",
    "        print(text[:100], '(...)')\n",
    "        break\n",
    "\n",
    "\n"
   ]
  },
  {
   "cell_type": "markdown",
   "id": "placed-solution",
   "metadata": {},
   "source": [
    "## Clean text: delete most of the \\s"
   ]
  },
  {
   "cell_type": "code",
   "execution_count": 12,
   "id": "athletic-glenn",
   "metadata": {},
   "outputs": [],
   "source": [
    "result = []\n",
    "cleaned_text = []\n",
    "\n",
    "for content in df_new[\"Text\"]:\n",
    "    result = re.findall(re.compile(r'\\n\\s*\\n\\s*\\n\\s*\\n\\s\\n*\\s*[\\n*\\s*]*'), content) \n",
    "    #result.extend(re.findall(re.compile(r'...+'), content))\n",
    "    new_text = content\n",
    "    for i in range(0,len(result)):\n",
    "        new_text = new_text.replace(result[i], '')\n",
    "    new_text = new_text.replace(';', ':') ##to use ; as separator later\n",
    "    cleaned_text.append(new_text.replace('\\n', ' '))\n",
    "\n",
    "df_new[\"cleaned_text\"] = cleaned_text\n",
    "\n",
    "\n"
   ]
  },
  {
   "cell_type": "code",
   "execution_count": 13,
   "id": "dedicated-strap",
   "metadata": {},
   "outputs": [
    {
     "name": "stdout",
     "output_type": "stream",
     "text": [
      "Betreft: Ondernemerschap en belastingplicht voor de omzetbelasting (btw)U hebt u aangemeld als onder (...)\n"
     ]
    }
   ],
   "source": [
    "counter = 0\n",
    "\n",
    "for text in df_new[\"cleaned_text\"]:\n",
    "    #print(text)\n",
    "    counter += 1\n",
    "    #print('****************************************************************************************************************************')\n",
    "    if counter == 4:\n",
    "        print(text[:100], '(...)')\n",
    "        break"
   ]
  },
  {
   "cell_type": "code",
   "execution_count": 14,
   "id": "afraid-prince",
   "metadata": {},
   "outputs": [
    {
     "name": "stdout",
     "output_type": "stream",
     "text": [
      "(325, 13)\n"
     ]
    }
   ],
   "source": [
    "print(df_new[df_new[\"FileCode\"] == 'OB'].shape)"
   ]
  },
  {
   "cell_type": "markdown",
   "id": "moving-branch",
   "metadata": {},
   "source": [
    "## Split up textblocks in individual sentences"
   ]
  },
  {
   "cell_type": "code",
   "execution_count": 15,
   "id": "romantic-tulsa",
   "metadata": {},
   "outputs": [
    {
     "name": "stdout",
     "output_type": "stream",
     "text": [
      "Index(['FileCode', 'FilePath', 'FileName', 'FileCaption', 'Text', 'len_text',\n",
      "       'whitespace_count', 'newline_count', 'perc_newline', 'perc_whitespace',\n",
      "       'total_nr_sent', 'sent_index_in_tb', 'cleaned_text'],\n",
      "      dtype='object')\n",
      "(2891, 13)\n"
     ]
    }
   ],
   "source": [
    "print(df_new.columns)\n",
    "print(df_new.shape)\n",
    "\n",
    "list_df = df_new.values.tolist()\n"
   ]
  },
  {
   "cell_type": "code",
   "execution_count": 16,
   "id": "refined-madison",
   "metadata": {},
   "outputs": [
    {
     "data": {
      "text/plain": [
       "(37403, 13)"
      ]
     },
     "execution_count": 16,
     "metadata": {},
     "output_type": "execute_result"
    }
   ],
   "source": [
    "index = -1\n",
    "\n",
    "final_df_list = []\n",
    "\n",
    "nlp = Dutch()\n",
    "nlp.add_pipe(nlp.create_pipe('sentencizer'))\n",
    "\n",
    "\n",
    "\n",
    "\n",
    "for rows in list_df:\n",
    "    if '.' in rows[-1]: #if . in text, strip..\n",
    "        test = [str(sent).strip() for sent in nlp(rows[-1]).sents]\n",
    "        length = len(test)\n",
    "        length_row = copy.deepcopy(rows)\n",
    "        length_row[-3] = length\n",
    "        for i in range(0, length-1):\n",
    "            new_row = copy.deepcopy(length_row) ##to prevent the variables to get overwritten in loop\n",
    "            new_row[-1] = test[i]\n",
    "            if i == 2:\n",
    "                new_row[-2] = 1\n",
    "            else:\n",
    "                new_row[-2] = i\n",
    "\n",
    "\n",
    "            xx = new_row\n",
    "\n",
    "            final_df_list.append(xx)\n",
    "\n",
    "\n",
    "    else:\n",
    "        final_df_list.append(rows)\n",
    "        \n",
    "\n",
    "    \n",
    "    \n",
    "new_new_df = pd.DataFrame(final_df_list, columns=df_new.columns)\n",
    "\n",
    "new_new_df.shape\n"
   ]
  },
  {
   "cell_type": "code",
   "execution_count": 17,
   "id": "authorized-coral",
   "metadata": {},
   "outputs": [
    {
     "data": {
      "text/plain": [
       "(36, 13)"
      ]
     },
     "execution_count": 17,
     "metadata": {},
     "output_type": "execute_result"
    }
   ],
   "source": [
    "new_new_df[new_new_df[\"FileCode\"] == 'DIV'].shape"
   ]
  },
  {
   "cell_type": "code",
   "execution_count": 18,
   "id": "sporting-chambers",
   "metadata": {},
   "outputs": [
    {
     "data": {
      "text/html": [
       "<div>\n",
       "<style scoped>\n",
       "    .dataframe tbody tr th:only-of-type {\n",
       "        vertical-align: middle;\n",
       "    }\n",
       "\n",
       "    .dataframe tbody tr th {\n",
       "        vertical-align: top;\n",
       "    }\n",
       "\n",
       "    .dataframe thead th {\n",
       "        text-align: right;\n",
       "    }\n",
       "</style>\n",
       "<table border=\"1\" class=\"dataframe\">\n",
       "  <thead>\n",
       "    <tr style=\"text-align: right;\">\n",
       "      <th></th>\n",
       "      <th>FileCode</th>\n",
       "      <th>FilePath</th>\n",
       "      <th>FileName</th>\n",
       "      <th>FileCaption</th>\n",
       "      <th>Text</th>\n",
       "      <th>len_text</th>\n",
       "      <th>whitespace_count</th>\n",
       "      <th>newline_count</th>\n",
       "      <th>perc_newline</th>\n",
       "      <th>perc_whitespace</th>\n",
       "      <th>total_nr_sent</th>\n",
       "      <th>sent_index_in_tb</th>\n",
       "      <th>cleaned_text</th>\n",
       "    </tr>\n",
       "  </thead>\n",
       "  <tbody>\n",
       "    <tr>\n",
       "      <th>0</th>\n",
       "      <td>IV</td>\n",
       "      <td>IV/NII/tekstblokken</td>\n",
       "      <td>NII055_00_NL.xml</td>\n",
       "      <td>NII055_00_NL</td>\n",
       "      <td>\\n        \\n        \\n        \\n        \\n    ...</td>\n",
       "      <td>1539.0</td>\n",
       "      <td>384.0</td>\n",
       "      <td>35.0</td>\n",
       "      <td>2.27</td>\n",
       "      <td>24.95</td>\n",
       "      <td>15</td>\n",
       "      <td>0</td>\n",
       "      <td>U hebt bij de Nederlandse Belastingdienst nog ...</td>\n",
       "    </tr>\n",
       "    <tr>\n",
       "      <th>1</th>\n",
       "      <td>IV</td>\n",
       "      <td>IV/NII/tekstblokken</td>\n",
       "      <td>NII055_00_NL.xml</td>\n",
       "      <td>NII055_00_NL</td>\n",
       "      <td>\\n        \\n        \\n        \\n        \\n    ...</td>\n",
       "      <td>1539.0</td>\n",
       "      <td>384.0</td>\n",
       "      <td>35.0</td>\n",
       "      <td>2.27</td>\n",
       "      <td>24.95</td>\n",
       "      <td>15</td>\n",
       "      <td>1</td>\n",
       "      <td>Op de bijlage bij deze brief vindt u een overz...</td>\n",
       "    </tr>\n",
       "    <tr>\n",
       "      <th>2</th>\n",
       "      <td>IV</td>\n",
       "      <td>IV/NII/tekstblokken</td>\n",
       "      <td>NII055_00_NL.xml</td>\n",
       "      <td>NII055_00_NL</td>\n",
       "      <td>\\n        \\n        \\n        \\n        \\n    ...</td>\n",
       "      <td>1539.0</td>\n",
       "      <td>384.0</td>\n",
       "      <td>35.0</td>\n",
       "      <td>2.27</td>\n",
       "      <td>24.95</td>\n",
       "      <td>15</td>\n",
       "      <td>1</td>\n",
       "      <td>De betalingstermijn van deze schuld is al vers...</td>\n",
       "    </tr>\n",
       "    <tr>\n",
       "      <th>3</th>\n",
       "      <td>IV</td>\n",
       "      <td>IV/NII/tekstblokken</td>\n",
       "      <td>NII055_00_NL.xml</td>\n",
       "      <td>NII055_00_NL</td>\n",
       "      <td>\\n        \\n        \\n        \\n        \\n    ...</td>\n",
       "      <td>1539.0</td>\n",
       "      <td>384.0</td>\n",
       "      <td>35.0</td>\n",
       "      <td>2.27</td>\n",
       "      <td>24.95</td>\n",
       "      <td>15</td>\n",
       "      <td>3</td>\n",
       "      <td>U hebt niet gereageerd op de aanmaning die ik ...</td>\n",
       "    </tr>\n",
       "    <tr>\n",
       "      <th>4</th>\n",
       "      <td>IV</td>\n",
       "      <td>IV/NII/tekstblokken</td>\n",
       "      <td>NII055_00_NL.xml</td>\n",
       "      <td>NII055_00_NL</td>\n",
       "      <td>\\n        \\n        \\n        \\n        \\n    ...</td>\n",
       "      <td>1539.0</td>\n",
       "      <td>384.0</td>\n",
       "      <td>35.0</td>\n",
       "      <td>2.27</td>\n",
       "      <td>24.95</td>\n",
       "      <td>15</td>\n",
       "      <td>4</td>\n",
       "      <td>Ook na betekening van een dwangbevel heb ik ge...</td>\n",
       "    </tr>\n",
       "    <tr>\n",
       "      <th>...</th>\n",
       "      <td>...</td>\n",
       "      <td>...</td>\n",
       "      <td>...</td>\n",
       "      <td>...</td>\n",
       "      <td>...</td>\n",
       "      <td>...</td>\n",
       "      <td>...</td>\n",
       "      <td>...</td>\n",
       "      <td>...</td>\n",
       "      <td>...</td>\n",
       "      <td>...</td>\n",
       "      <td>...</td>\n",
       "      <td>...</td>\n",
       "    </tr>\n",
       "    <tr>\n",
       "      <th>37398</th>\n",
       "      <td>tekstblokken</td>\n",
       "      <td>tekstblokken</td>\n",
       "      <td>LH Betaalverzuimboeten.xml</td>\n",
       "      <td>LH Betaalverzuimboeten</td>\n",
       "      <td>Betaalverzuimboete(n)\\n€\\ntotaalbedrag_betaalv...</td>\n",
       "      <td>57.0</td>\n",
       "      <td>0.0</td>\n",
       "      <td>4.0</td>\n",
       "      <td>7.02</td>\n",
       "      <td>0.00</td>\n",
       "      <td>1</td>\n",
       "      <td>0</td>\n",
       "      <td>Betaalverzuimboete(n) € totaalbedrag_betaalver...</td>\n",
       "    </tr>\n",
       "    <tr>\n",
       "      <th>37399</th>\n",
       "      <td>DW</td>\n",
       "      <td>DW/RRZ/tekstblokken</td>\n",
       "      <td>RRZ119_00.xml</td>\n",
       "      <td>RRZ119_00</td>\n",
       "      <td>te_koop_aangeboden\\n\\n\\nschuldenaar\\n\\n\\nplaat...</td>\n",
       "      <td>95.0</td>\n",
       "      <td>0.0</td>\n",
       "      <td>14.0</td>\n",
       "      <td>14.74</td>\n",
       "      <td>0.00</td>\n",
       "      <td>1</td>\n",
       "      <td>0</td>\n",
       "      <td>te_koop_aangeboden   schuldenaar   plaats_van_...</td>\n",
       "    </tr>\n",
       "    <tr>\n",
       "      <th>37400</th>\n",
       "      <td>tekstblokken</td>\n",
       "      <td>tekstblokken</td>\n",
       "      <td>NII 10 Aanslaggegevens 01 en 02.xml</td>\n",
       "      <td>NII 10 Aanslaggegevens 01 en 02</td>\n",
       "      <td>Middel\\n\\nAanslagnummer\\n\\nDagtekening\\n\\n\\n\\n...</td>\n",
       "      <td>101.0</td>\n",
       "      <td>0.0</td>\n",
       "      <td>16.0</td>\n",
       "      <td>15.84</td>\n",
       "      <td>0.00</td>\n",
       "      <td>1</td>\n",
       "      <td>0</td>\n",
       "      <td>Middel  Aanslagnummer  Dagtekeningbelastingmid...</td>\n",
       "    </tr>\n",
       "    <tr>\n",
       "      <th>37401</th>\n",
       "      <td>IV</td>\n",
       "      <td>IV/NGR/tekstblokken</td>\n",
       "      <td>NGR120_01_Adres.xml</td>\n",
       "      <td>NGR120_01_Adres</td>\n",
       "      <td>Bewindvoerder\\nnaam_bewindvoerder\\n\\nBurgerser...</td>\n",
       "      <td>103.0</td>\n",
       "      <td>0.0</td>\n",
       "      <td>8.0</td>\n",
       "      <td>7.77</td>\n",
       "      <td>0.00</td>\n",
       "      <td>1</td>\n",
       "      <td>0</td>\n",
       "      <td>Bewindvoerder naam_bewindvoerder  Burgerservic...</td>\n",
       "    </tr>\n",
       "    <tr>\n",
       "      <th>37402</th>\n",
       "      <td>tekstblokken</td>\n",
       "      <td>tekstblokken</td>\n",
       "      <td>NBO Ander document.xml</td>\n",
       "      <td>NBO Ander document</td>\n",
       "      <td>omschrijving_toe_zenden_document</td>\n",
       "      <td>32.0</td>\n",
       "      <td>0.0</td>\n",
       "      <td>0.0</td>\n",
       "      <td>0.00</td>\n",
       "      <td>0.00</td>\n",
       "      <td>1</td>\n",
       "      <td>0</td>\n",
       "      <td>omschrijving_toe_zenden_document</td>\n",
       "    </tr>\n",
       "  </tbody>\n",
       "</table>\n",
       "<p>12546 rows × 13 columns</p>\n",
       "</div>"
      ],
      "text/plain": [
       "           FileCode             FilePath                             FileName  \\\n",
       "0                IV  IV/NII/tekstblokken                     NII055_00_NL.xml   \n",
       "1                IV  IV/NII/tekstblokken                     NII055_00_NL.xml   \n",
       "2                IV  IV/NII/tekstblokken                     NII055_00_NL.xml   \n",
       "3                IV  IV/NII/tekstblokken                     NII055_00_NL.xml   \n",
       "4                IV  IV/NII/tekstblokken                     NII055_00_NL.xml   \n",
       "...             ...                  ...                                  ...   \n",
       "37398  tekstblokken         tekstblokken           LH Betaalverzuimboeten.xml   \n",
       "37399            DW  DW/RRZ/tekstblokken                        RRZ119_00.xml   \n",
       "37400  tekstblokken         tekstblokken  NII 10 Aanslaggegevens 01 en 02.xml   \n",
       "37401            IV  IV/NGR/tekstblokken                  NGR120_01_Adres.xml   \n",
       "37402  tekstblokken         tekstblokken               NBO Ander document.xml   \n",
       "\n",
       "                           FileCaption  \\\n",
       "0                         NII055_00_NL   \n",
       "1                         NII055_00_NL   \n",
       "2                         NII055_00_NL   \n",
       "3                         NII055_00_NL   \n",
       "4                         NII055_00_NL   \n",
       "...                                ...   \n",
       "37398           LH Betaalverzuimboeten   \n",
       "37399                        RRZ119_00   \n",
       "37400  NII 10 Aanslaggegevens 01 en 02   \n",
       "37401                  NGR120_01_Adres   \n",
       "37402               NBO Ander document   \n",
       "\n",
       "                                                    Text  len_text  \\\n",
       "0      \\n        \\n        \\n        \\n        \\n    ...    1539.0   \n",
       "1      \\n        \\n        \\n        \\n        \\n    ...    1539.0   \n",
       "2      \\n        \\n        \\n        \\n        \\n    ...    1539.0   \n",
       "3      \\n        \\n        \\n        \\n        \\n    ...    1539.0   \n",
       "4      \\n        \\n        \\n        \\n        \\n    ...    1539.0   \n",
       "...                                                  ...       ...   \n",
       "37398  Betaalverzuimboete(n)\\n€\\ntotaalbedrag_betaalv...      57.0   \n",
       "37399  te_koop_aangeboden\\n\\n\\nschuldenaar\\n\\n\\nplaat...      95.0   \n",
       "37400  Middel\\n\\nAanslagnummer\\n\\nDagtekening\\n\\n\\n\\n...     101.0   \n",
       "37401  Bewindvoerder\\nnaam_bewindvoerder\\n\\nBurgerser...     103.0   \n",
       "37402                   omschrijving_toe_zenden_document      32.0   \n",
       "\n",
       "       whitespace_count  newline_count  perc_newline  perc_whitespace  \\\n",
       "0                 384.0           35.0          2.27            24.95   \n",
       "1                 384.0           35.0          2.27            24.95   \n",
       "2                 384.0           35.0          2.27            24.95   \n",
       "3                 384.0           35.0          2.27            24.95   \n",
       "4                 384.0           35.0          2.27            24.95   \n",
       "...                 ...            ...           ...              ...   \n",
       "37398               0.0            4.0          7.02             0.00   \n",
       "37399               0.0           14.0         14.74             0.00   \n",
       "37400               0.0           16.0         15.84             0.00   \n",
       "37401               0.0            8.0          7.77             0.00   \n",
       "37402               0.0            0.0          0.00             0.00   \n",
       "\n",
       "       total_nr_sent  sent_index_in_tb  \\\n",
       "0                 15                 0   \n",
       "1                 15                 1   \n",
       "2                 15                 1   \n",
       "3                 15                 3   \n",
       "4                 15                 4   \n",
       "...              ...               ...   \n",
       "37398              1                 0   \n",
       "37399              1                 0   \n",
       "37400              1                 0   \n",
       "37401              1                 0   \n",
       "37402              1                 0   \n",
       "\n",
       "                                            cleaned_text  \n",
       "0      U hebt bij de Nederlandse Belastingdienst nog ...  \n",
       "1      Op de bijlage bij deze brief vindt u een overz...  \n",
       "2      De betalingstermijn van deze schuld is al vers...  \n",
       "3      U hebt niet gereageerd op de aanmaning die ik ...  \n",
       "4      Ook na betekening van een dwangbevel heb ik ge...  \n",
       "...                                                  ...  \n",
       "37398  Betaalverzuimboete(n) € totaalbedrag_betaalver...  \n",
       "37399  te_koop_aangeboden   schuldenaar   plaats_van_...  \n",
       "37400  Middel  Aanslagnummer  Dagtekeningbelastingmid...  \n",
       "37401  Bewindvoerder naam_bewindvoerder  Burgerservic...  \n",
       "37402                   omschrijving_toe_zenden_document  \n",
       "\n",
       "[12546 rows x 13 columns]"
      ]
     },
     "execution_count": 18,
     "metadata": {},
     "output_type": "execute_result"
    }
   ],
   "source": [
    "no_dup_df = new_new_df.drop_duplicates(subset='cleaned_text', inplace=False)\n",
    "\n",
    "no_dup_df.shape\n",
    "\n",
    "no_dup_df"
   ]
  },
  {
   "cell_type": "code",
   "execution_count": 19,
   "id": "signed-reggae",
   "metadata": {},
   "outputs": [
    {
     "data": {
      "text/plain": [
       "(8, 13)"
      ]
     },
     "execution_count": 19,
     "metadata": {},
     "output_type": "execute_result"
    }
   ],
   "source": [
    "no_dup_df[no_dup_df[\"FileCode\"] =='DIV'].shape"
   ]
  },
  {
   "cell_type": "code",
   "execution_count": 20,
   "id": "dangerous-roommate",
   "metadata": {},
   "outputs": [
    {
     "name": "stderr",
     "output_type": "stream",
     "text": [
      "/home/ADS/rinkl00_w00215/stageLR/lib/python3.6/site-packages/ipykernel_launcher.py:1: SettingWithCopyWarning: \n",
      "A value is trying to be set on a copy of a slice from a DataFrame.\n",
      "Try using .loc[row_indexer,col_indexer] = value instead\n",
      "\n",
      "See the caveats in the documentation: https://pandas.pydata.org/pandas-docs/stable/user_guide/indexing.html#returning-a-view-versus-a-copy\n",
      "  \"\"\"Entry point for launching an IPython kernel.\n"
     ]
    }
   ],
   "source": [
    "no_dup_df[\"SA Label\"] = \" \" #to fill in label during the annotation experiment\n"
   ]
  },
  {
   "cell_type": "code",
   "execution_count": 21,
   "id": "prostate-mortgage",
   "metadata": {},
   "outputs": [
    {
     "data": {
      "text/plain": [
       "'Verlengen beslistermijn Ik streef ernaar om binnen acht weken na ontvangst van uw verzoek te beslissen.'"
      ]
     },
     "execution_count": 21,
     "metadata": {},
     "output_type": "execute_result"
    }
   ],
   "source": [
    "no_dup_df.iloc[2929]['cleaned_text']"
   ]
  },
  {
   "cell_type": "code",
   "execution_count": 22,
   "id": "lovely-label",
   "metadata": {},
   "outputs": [
    {
     "name": "stdout",
     "output_type": "stream",
     "text": [
      "(10254, 14)\n",
      "Index(['FileCode', 'FilePath', 'FileName', 'FileCaption', 'Text', 'len_text',\n",
      "       'whitespace_count', 'newline_count', 'perc_newline', 'perc_whitespace',\n",
      "       'total_nr_sent', 'sent_index_in_tb', 'cleaned_text', 'SA Label'],\n",
      "      dtype='object')\n",
      "\n",
      "{'IB', 'ondertekeningen', 'BPM', 'AC', 'LH', 'DIV', 'IV', 'VPB', 'MM', 'tekstblokken', 'OB', 'DW', 'IV/INL', 'INL'}\n"
     ]
    }
   ],
   "source": [
    "no_dup_df = no_dup_df[no_dup_df['cleaned_text'].str.len() > 50]\n",
    "print(no_dup_df.shape)\n",
    "print(no_dup_df.columns)\n",
    "print()\n",
    "print(set(no_dup_df[\"FileCode\"].values))\n"
   ]
  },
  {
   "cell_type": "markdown",
   "id": "canadian-lottery",
   "metadata": {},
   "source": [
    "### Extract sentences from three domains"
   ]
  },
  {
   "cell_type": "code",
   "execution_count": 23,
   "id": "needed-plate",
   "metadata": {},
   "outputs": [
    {
     "name": "stdout",
     "output_type": "stream",
     "text": [
      "(1414, 14)\n",
      "(3790, 14)\n",
      "(974, 14)\n"
     ]
    },
    {
     "data": {
      "text/plain": [
       "(5204, 14)"
      ]
     },
     "execution_count": 23,
     "metadata": {},
     "output_type": "execute_result"
    }
   ],
   "source": [
    "df_OB = no_dup_df[no_dup_df[\"FileCode\"] == 'OB']\n",
    "print(df_OB.shape)\n",
    "df_IV = no_dup_df[no_dup_df[\"FileCode\"] == 'IV']\n",
    "print(df_IV.shape)\n",
    "df_INL = no_dup_df[no_dup_df[\"FileCode\"] == 'INL']\n",
    "print(df_INL.shape)\n",
    "\n",
    "df_annotation = pd.concat([df_OB, df_IV])\n",
    "df_annotation = df_annotation.sample(frac=1)\n",
    "df_annotation.shape"
   ]
  },
  {
   "cell_type": "code",
   "execution_count": 24,
   "id": "increased-fence",
   "metadata": {},
   "outputs": [],
   "source": [
    "df_annotation[\"Sample_nr\"] = ''\n",
    "df_annotation= df_annotation[['FileCode','FileName', 'FileCaption', 'Sample_nr','Text', 'len_text',\n",
    "       'whitespace_count', 'newline_count', 'perc_newline', 'perc_whitespace',\n",
    "       'total_nr_sent', 'sent_index_in_tb', 'cleaned_text', 'SA Label']]\n"
   ]
  },
  {
   "cell_type": "code",
   "execution_count": 25,
   "id": "amino-southeast",
   "metadata": {},
   "outputs": [],
   "source": [
    "#df_annotation.to_csv(\"Full_annotatiesample.csv\", sep=';')"
   ]
  },
  {
   "cell_type": "code",
   "execution_count": null,
   "id": "defensive-hungary",
   "metadata": {},
   "outputs": [],
   "source": []
  },
  {
   "cell_type": "code",
   "execution_count": null,
   "id": "marine-judge",
   "metadata": {},
   "outputs": [],
   "source": []
  },
  {
   "cell_type": "code",
   "execution_count": null,
   "id": "extra-hayes",
   "metadata": {},
   "outputs": [],
   "source": []
  },
  {
   "cell_type": "code",
   "execution_count": null,
   "id": "clear-islam",
   "metadata": {},
   "outputs": [],
   "source": []
  },
  {
   "cell_type": "code",
   "execution_count": null,
   "id": "extreme-private",
   "metadata": {},
   "outputs": [],
   "source": []
  },
  {
   "cell_type": "code",
   "execution_count": null,
   "id": "subtle-fundamental",
   "metadata": {},
   "outputs": [],
   "source": []
  },
  {
   "cell_type": "code",
   "execution_count": null,
   "id": "compound-southeast",
   "metadata": {},
   "outputs": [],
   "source": []
  },
  {
   "cell_type": "code",
   "execution_count": null,
   "id": "natural-facility",
   "metadata": {},
   "outputs": [],
   "source": []
  }
 ],
 "metadata": {
  "kernelspec": {
   "display_name": "Python 3",
   "language": "python",
   "name": "python3"
  },
  "language_info": {
   "codemirror_mode": {
    "name": "ipython",
    "version": 3
   },
   "file_extension": ".py",
   "mimetype": "text/x-python",
   "name": "python",
   "nbconvert_exporter": "python",
   "pygments_lexer": "ipython3",
   "version": "3.6.12"
  }
 },
 "nbformat": 4,
 "nbformat_minor": 5
}
